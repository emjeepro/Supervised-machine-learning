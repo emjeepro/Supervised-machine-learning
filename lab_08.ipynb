{
  "cells": [
    {
      "cell_type": "markdown",
      "id": "d3a628f4",
      "metadata": {
        "id": "d3a628f4"
      },
      "source": [
        "### Многоклассовая классификация. Подбор параметров по сетке\n",
        "\n",
        "#### Практическое задание для самостоятельного выполнения"
      ]
    },
    {
      "cell_type": "markdown",
      "id": "57c3dc87",
      "metadata": {
        "id": "57c3dc87"
      },
      "source": [
        "**Задание.**\n",
        "\n",
        "1. Используя инструментарий модуля _**datasets**_, импортировать встроенный набор данных _**iris**_ (часто используется авторами учебников и учебных курсов по машинному обучению в качестве учебного набора данных; содержит информацию о 150 объектах – цветах ириса, которые на основании значений четырех признаков необходимо отнести к одному из трех сортов). <br>Формат команды: `<имя набора данных> = datasets.load_iris()`\n",
        "* Using the toolkit of the _**datasets**_ module, import the built-in _**iris**_ dataset (often used by authors of textbooks and training courses on machine learning as a training dataset; it contains information about 150 objects - iris flowers, which, based on the values of four features, must be assigned to one of three varieties). Command format: `<dataset name> = datasets.load_iris()`\n",
        "<br>\n",
        "\n",
        "2. В результате выполнения п. 1 должен быть создан объект, по структуре подобный словарю. Чтобы убедиться в этом и получить представление о структуре набора данных, вывести наименования ключей набора.\n",
        "* As a result of step 1, an object similar in structure to a dictionary should be created. To verify this and get an idea about the structure of the data set, display the names of the keys of the set.\n",
        "<br>\n",
        "\n",
        "3. Вывести значение ключа DESCR (содержит описание набора данных) и изучить описание набора.\n",
        "* Print the value of the DESCR key (contains a description of the data set) and examine the description of the set.\n",
        "<br>\n",
        "\n",
        "4. Изучить значения остальных ключей и определить ключи, в которых хранятся значения признаков и метки классов. Далее вся работа – только со значениями этих ключей.\n",
        "* Examine the values of the remaining keys and determine the keys that store feature values and class labels. Further, all the work is only with the values of these keys.\n",
        "<br>\n",
        "\n",
        "5. Выполнить разбиение набора данных (значения признаков и метки классов) на обучающую и тестовую выборки в соотношении 70/30.\n",
        "* Split the data set (feature values and class labels) into training and test samples in the ratio of 70/30.\n",
        "<br>\n",
        "\n",
        "6. Создать модель линейной классификации _**SGDClassifier**_ и вывести список доступных параметров модели.\n",
        "* Create a linear classification model _**SGDClassifier**_ and list the available model parameters.\n",
        "<br>\n",
        "\n",
        "7. Создать сетку параметров, включающую 4 вида функции потерь, два типа регуляризаторов, 5 значений коэффициента регуляризации от 0.0001 до 0.001, и число итераций от 5 до 10 с шагом 1.\n",
        "* Create a parameter grid that includes 4 types of loss function, two types of regularizers, 5 values of the regularization coefficient from 0.0001 to 0.001, and the number of iterations from 5 to 10 with a step of 1.\n",
        "<br>\n",
        "\n",
        "8. Создать объект _**GridSearchCV**_, передать ему созданный ранее классификатор и сетку параметров и обучить его. В качестве метрики использовать _**accuracy**_. Предусмотреть вывод времени, затраченного на перебор по сетке (команда %%time).\n",
        "* Create an object _**GridSearchCV**_, pass it the previously created classifier and parameter grid, and train it. Use _**accuracy**_ as the metric. Provide for the output of the time spent on iterating over the grid (%%time command).\n",
        "<br>\n",
        "\n",
        "9. Вывести лучший классификатор, лучший набор параметров и оценку лучшего классификатора в соответствии с заданной метрикой. Получить оценки алгоритма по последним 10 наборам параметров.\n",
        "* Output the best classifier, the best set of parameters, and the score of the best classifier according to the given metric. Get algorithm scores for the last 10 parameter sets.\n",
        "<br>\n",
        "\n",
        "10. Проанализировать полученные результаты, сделать выводы.\n",
        "* Analyze the results and draw conclusions.\n",
        "<br>\n",
        "\n",
        "11. Организовать случайный поиск по сетке. Вывести время, затраченное на случайный перебор.\n",
        "* Organize a random grid search. Print the time spent on random enumeration.\n",
        "<br>\n",
        "\n",
        "12. Вывести те же показатели, что и в п. 9. Сопоставить полученные результаты и время на перебор с результатами, полученными при выполнении п. 9.\n",
        "* Display the same indicators as in step 9. Compare the results obtained and the time for enumeration with the results obtained when performing step 9.\n",
        "<br>\n",
        "\n",
        "13. Сделать выводы, сформулировать рекомендации.\n",
        "* Draw conclusions and formulate recommendations."
      ]
    },
    {
      "cell_type": "markdown",
      "id": "40fc43a1",
      "metadata": {
        "id": "40fc43a1"
      },
      "source": [
        "---\n",
        "\n",
        "1. Используя инструментарий модуля _**datasets**_, импортировать встроенный набор данных _**iris**_ (часто используется авторами учебников и учебных курсов по машинному обучению в качестве учебного набора данных; содержит информацию о 150 объектах – цветах ириса, которые на основании значений четырех признаков необходимо отнести к одному из трех сортов). <br>Формат команды: `<имя набора данных> = datasets.load_iris()`\n",
        "* Using the toolkit of the _**datasets**_ module, import the built-in _**iris**_ dataset (often used by authors of textbooks and training courses on machine learning as a training dataset; it contains information about 150 objects - iris flowers, which, based on the values of four features, must be assigned to one of three varieties). Command format: `<dataset name> = datasets.load_iris()`"
      ]
    },
    {
      "cell_type": "code",
      "execution_count": null,
      "id": "baa58981",
      "metadata": {
        "id": "baa58981"
      },
      "outputs": [],
      "source": [
        "# import iris flower dataset\n",
        "\n",
        "from sklearn import datasets\n",
        "\n",
        "iris = datasets.load_iris()"
      ]
    },
    {
      "cell_type": "code",
      "execution_count": null,
      "id": "982d96c7",
      "metadata": {
        "id": "982d96c7"
      },
      "outputs": [],
      "source": [
        "# optional: save the iris dataset as a DataFrame\n",
        "\n",
        "import pandas as pd\n",
        "\n",
        "iris_df = pd.DataFrame(iris.data)"
      ]
    },
    {
      "cell_type": "markdown",
      "id": "635d0724",
      "metadata": {
        "id": "635d0724"
      },
      "source": [
        "---\n",
        "\n",
        "2. В результате выполнения п. 1 должен быть создан объект, по структуре подобный словарю. Чтобы убедиться в этом и получить представление о структуре набора данных, вывести наименования ключей набора.\n",
        "* As a result of step 1, an object similar in structure to a dictionary should be created. To verify this and get an idea about the structure of the data set, display the names of the keys of the set."
      ]
    },
    {
      "cell_type": "code",
      "execution_count": null,
      "id": "d576cbd0",
      "metadata": {
        "id": "d576cbd0",
        "outputId": "9c38a684-ddff-421c-a6d0-9e4fa16c0fe1"
      },
      "outputs": [
        {
          "data": {
            "text/plain": [
              "dict_keys(['data', 'target', 'frame', 'target_names', 'DESCR', 'feature_names', 'filename', 'data_module'])"
            ]
          },
          "execution_count": 3,
          "metadata": {},
          "output_type": "execute_result"
        }
      ],
      "source": [
        "iris.keys()"
      ]
    },
    {
      "cell_type": "markdown",
      "id": "b1135986",
      "metadata": {
        "id": "b1135986"
      },
      "source": [
        "--- \n",
        "\n",
        "3. Вывести значение ключа DESCR (содержит описание набора данных) и изучить описание набора.\n",
        "* Print the value of the DESCR key (contains a description of the data set) and examine the description of the set."
      ]
    },
    {
      "cell_type": "code",
      "execution_count": null,
      "id": "e6e3e590",
      "metadata": {
        "id": "e6e3e590",
        "outputId": "2162a135-fcf5-4e08-cf9e-c66363ffa2d0"
      },
      "outputs": [
        {
          "name": "stdout",
          "output_type": "stream",
          "text": [
            ".. _iris_dataset:\n",
            "\n",
            "Iris plants dataset\n",
            "--------------------\n",
            "\n",
            "**Data Set Characteristics:**\n",
            "\n",
            "    :Number of Instances: 150 (50 in each of three classes)\n",
            "    :Number of Attributes: 4 numeric, predictive attributes and the class\n",
            "    :Attribute Information:\n",
            "        - sepal length in cm\n",
            "        - sepal width in cm\n",
            "        - petal length in cm\n",
            "        - petal width in cm\n",
            "        - class:\n",
            "                - Iris-Setosa\n",
            "                - Iris-Versicolour\n",
            "                - Iris-Virginica\n",
            "                \n",
            "    :Summary Statistics:\n",
            "\n",
            "    ============== ==== ==== ======= ===== ====================\n",
            "                    Min  Max   Mean    SD   Class Correlation\n",
            "    ============== ==== ==== ======= ===== ====================\n",
            "    sepal length:   4.3  7.9   5.84   0.83    0.7826\n",
            "    sepal width:    2.0  4.4   3.05   0.43   -0.4194\n",
            "    petal length:   1.0  6.9   3.76   1.76    0.9490  (high!)\n",
            "    petal width:    0.1  2.5   1.20   0.76    0.9565  (high!)\n",
            "    ============== ==== ==== ======= ===== ====================\n",
            "\n",
            "    :Missing Attribute Values: None\n",
            "    :Class Distribution: 33.3% for each of 3 classes.\n",
            "    :Creator: R.A. Fisher\n",
            "    :Donor: Michael Marshall (MARSHALL%PLU@io.arc.nasa.gov)\n",
            "    :Date: July, 1988\n",
            "\n",
            "The famous Iris database, first used by Sir R.A. Fisher. The dataset is taken\n",
            "from Fisher's paper. Note that it's the same as in R, but not as in the UCI\n",
            "Machine Learning Repository, which has two wrong data points.\n",
            "\n",
            "This is perhaps the best known database to be found in the\n",
            "pattern recognition literature.  Fisher's paper is a classic in the field and\n",
            "is referenced frequently to this day.  (See Duda & Hart, for example.)  The\n",
            "data set contains 3 classes of 50 instances each, where each class refers to a\n",
            "type of iris plant.  One class is linearly separable from the other 2; the\n",
            "latter are NOT linearly separable from each other.\n",
            "\n",
            ".. topic:: References\n",
            "\n",
            "   - Fisher, R.A. \"The use of multiple measurements in taxonomic problems\"\n",
            "     Annual Eugenics, 7, Part II, 179-188 (1936); also in \"Contributions to\n",
            "     Mathematical Statistics\" (John Wiley, NY, 1950).\n",
            "   - Duda, R.O., & Hart, P.E. (1973) Pattern Classification and Scene Analysis.\n",
            "     (Q327.D83) John Wiley & Sons.  ISBN 0-471-22361-1.  See page 218.\n",
            "   - Dasarathy, B.V. (1980) \"Nosing Around the Neighborhood: A New System\n",
            "     Structure and Classification Rule for Recognition in Partially Exposed\n",
            "     Environments\".  IEEE Transactions on Pattern Analysis and Machine\n",
            "     Intelligence, Vol. PAMI-2, No. 1, 67-71.\n",
            "   - Gates, G.W. (1972) \"The Reduced Nearest Neighbor Rule\".  IEEE Transactions\n",
            "     on Information Theory, May 1972, 431-433.\n",
            "   - See also: 1988 MLC Proceedings, 54-64.  Cheeseman et al\"s AUTOCLASS II\n",
            "     conceptual clustering system finds 3 classes in the data.\n",
            "   - Many, many more ...\n"
          ]
        }
      ],
      "source": [
        "print(iris.DESCR)"
      ]
    },
    {
      "cell_type": "markdown",
      "id": "17099870",
      "metadata": {
        "id": "17099870"
      },
      "source": [
        "---\n",
        "\n",
        "4. Изучить значения остальных ключей и определить ключи, в которых хранятся значения признаков и метки классов. Далее вся работа – только со значениями этих ключей.\n",
        "* Examine the values of the remaining keys and determine the keys that store feature values and class labels. Further, all the work is only with the values of these keys."
      ]
    },
    {
      "cell_type": "code",
      "execution_count": null,
      "id": "2f0d2310",
      "metadata": {
        "id": "2f0d2310",
        "outputId": "7c6b85e9-fd46-4888-c74b-d9573983862c"
      },
      "outputs": [
        {
          "data": {
            "text/plain": [
              "array([[5.1, 3.5, 1.4, 0.2],\n",
              "       [4.9, 3. , 1.4, 0.2],\n",
              "       [4.7, 3.2, 1.3, 0.2],\n",
              "       [4.6, 3.1, 1.5, 0.2],\n",
              "       [5. , 3.6, 1.4, 0.2],\n",
              "       [5.4, 3.9, 1.7, 0.4],\n",
              "       [4.6, 3.4, 1.4, 0.3],\n",
              "       [5. , 3.4, 1.5, 0.2],\n",
              "       [4.4, 2.9, 1.4, 0.2],\n",
              "       [4.9, 3.1, 1.5, 0.1],\n",
              "       [5.4, 3.7, 1.5, 0.2],\n",
              "       [4.8, 3.4, 1.6, 0.2],\n",
              "       [4.8, 3. , 1.4, 0.1],\n",
              "       [4.3, 3. , 1.1, 0.1],\n",
              "       [5.8, 4. , 1.2, 0.2],\n",
              "       [5.7, 4.4, 1.5, 0.4],\n",
              "       [5.4, 3.9, 1.3, 0.4],\n",
              "       [5.1, 3.5, 1.4, 0.3],\n",
              "       [5.7, 3.8, 1.7, 0.3],\n",
              "       [5.1, 3.8, 1.5, 0.3],\n",
              "       [5.4, 3.4, 1.7, 0.2],\n",
              "       [5.1, 3.7, 1.5, 0.4],\n",
              "       [4.6, 3.6, 1. , 0.2],\n",
              "       [5.1, 3.3, 1.7, 0.5],\n",
              "       [4.8, 3.4, 1.9, 0.2],\n",
              "       [5. , 3. , 1.6, 0.2],\n",
              "       [5. , 3.4, 1.6, 0.4],\n",
              "       [5.2, 3.5, 1.5, 0.2],\n",
              "       [5.2, 3.4, 1.4, 0.2],\n",
              "       [4.7, 3.2, 1.6, 0.2],\n",
              "       [4.8, 3.1, 1.6, 0.2],\n",
              "       [5.4, 3.4, 1.5, 0.4],\n",
              "       [5.2, 4.1, 1.5, 0.1],\n",
              "       [5.5, 4.2, 1.4, 0.2],\n",
              "       [4.9, 3.1, 1.5, 0.2],\n",
              "       [5. , 3.2, 1.2, 0.2],\n",
              "       [5.5, 3.5, 1.3, 0.2],\n",
              "       [4.9, 3.6, 1.4, 0.1],\n",
              "       [4.4, 3. , 1.3, 0.2],\n",
              "       [5.1, 3.4, 1.5, 0.2],\n",
              "       [5. , 3.5, 1.3, 0.3],\n",
              "       [4.5, 2.3, 1.3, 0.3],\n",
              "       [4.4, 3.2, 1.3, 0.2],\n",
              "       [5. , 3.5, 1.6, 0.6],\n",
              "       [5.1, 3.8, 1.9, 0.4],\n",
              "       [4.8, 3. , 1.4, 0.3],\n",
              "       [5.1, 3.8, 1.6, 0.2],\n",
              "       [4.6, 3.2, 1.4, 0.2],\n",
              "       [5.3, 3.7, 1.5, 0.2],\n",
              "       [5. , 3.3, 1.4, 0.2],\n",
              "       [7. , 3.2, 4.7, 1.4],\n",
              "       [6.4, 3.2, 4.5, 1.5],\n",
              "       [6.9, 3.1, 4.9, 1.5],\n",
              "       [5.5, 2.3, 4. , 1.3],\n",
              "       [6.5, 2.8, 4.6, 1.5],\n",
              "       [5.7, 2.8, 4.5, 1.3],\n",
              "       [6.3, 3.3, 4.7, 1.6],\n",
              "       [4.9, 2.4, 3.3, 1. ],\n",
              "       [6.6, 2.9, 4.6, 1.3],\n",
              "       [5.2, 2.7, 3.9, 1.4],\n",
              "       [5. , 2. , 3.5, 1. ],\n",
              "       [5.9, 3. , 4.2, 1.5],\n",
              "       [6. , 2.2, 4. , 1. ],\n",
              "       [6.1, 2.9, 4.7, 1.4],\n",
              "       [5.6, 2.9, 3.6, 1.3],\n",
              "       [6.7, 3.1, 4.4, 1.4],\n",
              "       [5.6, 3. , 4.5, 1.5],\n",
              "       [5.8, 2.7, 4.1, 1. ],\n",
              "       [6.2, 2.2, 4.5, 1.5],\n",
              "       [5.6, 2.5, 3.9, 1.1],\n",
              "       [5.9, 3.2, 4.8, 1.8],\n",
              "       [6.1, 2.8, 4. , 1.3],\n",
              "       [6.3, 2.5, 4.9, 1.5],\n",
              "       [6.1, 2.8, 4.7, 1.2],\n",
              "       [6.4, 2.9, 4.3, 1.3],\n",
              "       [6.6, 3. , 4.4, 1.4],\n",
              "       [6.8, 2.8, 4.8, 1.4],\n",
              "       [6.7, 3. , 5. , 1.7],\n",
              "       [6. , 2.9, 4.5, 1.5],\n",
              "       [5.7, 2.6, 3.5, 1. ],\n",
              "       [5.5, 2.4, 3.8, 1.1],\n",
              "       [5.5, 2.4, 3.7, 1. ],\n",
              "       [5.8, 2.7, 3.9, 1.2],\n",
              "       [6. , 2.7, 5.1, 1.6],\n",
              "       [5.4, 3. , 4.5, 1.5],\n",
              "       [6. , 3.4, 4.5, 1.6],\n",
              "       [6.7, 3.1, 4.7, 1.5],\n",
              "       [6.3, 2.3, 4.4, 1.3],\n",
              "       [5.6, 3. , 4.1, 1.3],\n",
              "       [5.5, 2.5, 4. , 1.3],\n",
              "       [5.5, 2.6, 4.4, 1.2],\n",
              "       [6.1, 3. , 4.6, 1.4],\n",
              "       [5.8, 2.6, 4. , 1.2],\n",
              "       [5. , 2.3, 3.3, 1. ],\n",
              "       [5.6, 2.7, 4.2, 1.3],\n",
              "       [5.7, 3. , 4.2, 1.2],\n",
              "       [5.7, 2.9, 4.2, 1.3],\n",
              "       [6.2, 2.9, 4.3, 1.3],\n",
              "       [5.1, 2.5, 3. , 1.1],\n",
              "       [5.7, 2.8, 4.1, 1.3],\n",
              "       [6.3, 3.3, 6. , 2.5],\n",
              "       [5.8, 2.7, 5.1, 1.9],\n",
              "       [7.1, 3. , 5.9, 2.1],\n",
              "       [6.3, 2.9, 5.6, 1.8],\n",
              "       [6.5, 3. , 5.8, 2.2],\n",
              "       [7.6, 3. , 6.6, 2.1],\n",
              "       [4.9, 2.5, 4.5, 1.7],\n",
              "       [7.3, 2.9, 6.3, 1.8],\n",
              "       [6.7, 2.5, 5.8, 1.8],\n",
              "       [7.2, 3.6, 6.1, 2.5],\n",
              "       [6.5, 3.2, 5.1, 2. ],\n",
              "       [6.4, 2.7, 5.3, 1.9],\n",
              "       [6.8, 3. , 5.5, 2.1],\n",
              "       [5.7, 2.5, 5. , 2. ],\n",
              "       [5.8, 2.8, 5.1, 2.4],\n",
              "       [6.4, 3.2, 5.3, 2.3],\n",
              "       [6.5, 3. , 5.5, 1.8],\n",
              "       [7.7, 3.8, 6.7, 2.2],\n",
              "       [7.7, 2.6, 6.9, 2.3],\n",
              "       [6. , 2.2, 5. , 1.5],\n",
              "       [6.9, 3.2, 5.7, 2.3],\n",
              "       [5.6, 2.8, 4.9, 2. ],\n",
              "       [7.7, 2.8, 6.7, 2. ],\n",
              "       [6.3, 2.7, 4.9, 1.8],\n",
              "       [6.7, 3.3, 5.7, 2.1],\n",
              "       [7.2, 3.2, 6. , 1.8],\n",
              "       [6.2, 2.8, 4.8, 1.8],\n",
              "       [6.1, 3. , 4.9, 1.8],\n",
              "       [6.4, 2.8, 5.6, 2.1],\n",
              "       [7.2, 3. , 5.8, 1.6],\n",
              "       [7.4, 2.8, 6.1, 1.9],\n",
              "       [7.9, 3.8, 6.4, 2. ],\n",
              "       [6.4, 2.8, 5.6, 2.2],\n",
              "       [6.3, 2.8, 5.1, 1.5],\n",
              "       [6.1, 2.6, 5.6, 1.4],\n",
              "       [7.7, 3. , 6.1, 2.3],\n",
              "       [6.3, 3.4, 5.6, 2.4],\n",
              "       [6.4, 3.1, 5.5, 1.8],\n",
              "       [6. , 3. , 4.8, 1.8],\n",
              "       [6.9, 3.1, 5.4, 2.1],\n",
              "       [6.7, 3.1, 5.6, 2.4],\n",
              "       [6.9, 3.1, 5.1, 2.3],\n",
              "       [5.8, 2.7, 5.1, 1.9],\n",
              "       [6.8, 3.2, 5.9, 2.3],\n",
              "       [6.7, 3.3, 5.7, 2.5],\n",
              "       [6.7, 3. , 5.2, 2.3],\n",
              "       [6.3, 2.5, 5. , 1.9],\n",
              "       [6.5, 3. , 5.2, 2. ],\n",
              "       [6.2, 3.4, 5.4, 2.3],\n",
              "       [5.9, 3. , 5.1, 1.8]])"
            ]
          },
          "metadata": {},
          "output_type": "display_data"
        },
        {
          "data": {
            "text/plain": [
              "array([0, 0, 0, 0, 0, 0, 0, 0, 0, 0, 0, 0, 0, 0, 0, 0, 0, 0, 0, 0, 0, 0,\n",
              "       0, 0, 0, 0, 0, 0, 0, 0, 0, 0, 0, 0, 0, 0, 0, 0, 0, 0, 0, 0, 0, 0,\n",
              "       0, 0, 0, 0, 0, 0, 1, 1, 1, 1, 1, 1, 1, 1, 1, 1, 1, 1, 1, 1, 1, 1,\n",
              "       1, 1, 1, 1, 1, 1, 1, 1, 1, 1, 1, 1, 1, 1, 1, 1, 1, 1, 1, 1, 1, 1,\n",
              "       1, 1, 1, 1, 1, 1, 1, 1, 1, 1, 1, 1, 2, 2, 2, 2, 2, 2, 2, 2, 2, 2,\n",
              "       2, 2, 2, 2, 2, 2, 2, 2, 2, 2, 2, 2, 2, 2, 2, 2, 2, 2, 2, 2, 2, 2,\n",
              "       2, 2, 2, 2, 2, 2, 2, 2, 2, 2, 2, 2, 2, 2, 2, 2, 2, 2])"
            ]
          },
          "metadata": {},
          "output_type": "display_data"
        }
      ],
      "source": [
        "# save features and targets from the iris dataset\n",
        "\n",
        "X = iris.data # features\n",
        "y = iris.target # targets\n",
        "\n",
        "display(X, y)"
      ]
    },
    {
      "cell_type": "markdown",
      "id": "a15555b0",
      "metadata": {
        "id": "a15555b0"
      },
      "source": [
        "The iris flower dataset has following features and target available in it:\n",
        "\n",
        "Features:\n",
        "* sepal length in cm\n",
        "* sepal width in cm\n",
        "* petal length in cm\n",
        "* petal width in cm\n",
        "\n",
        "Targets:\n",
        "* iris setosa\n",
        "* iris versicolour\n",
        "* iris virginica"
      ]
    },
    {
      "cell_type": "code",
      "execution_count": null,
      "id": "7fae934a",
      "metadata": {
        "id": "7fae934a",
        "outputId": "dd519f47-159e-4393-f28a-f232cd081eaf"
      },
      "outputs": [
        {
          "data": {
            "text/plain": [
              "['sepal length (cm)',\n",
              " 'sepal width (cm)',\n",
              " 'petal length (cm)',\n",
              " 'petal width (cm)']"
            ]
          },
          "execution_count": 6,
          "metadata": {},
          "output_type": "execute_result"
        }
      ],
      "source": [
        "iris.feature_names"
      ]
    },
    {
      "cell_type": "code",
      "execution_count": null,
      "id": "2d681bb2",
      "metadata": {
        "id": "2d681bb2",
        "outputId": "e4f847f4-82f2-4ac6-e388-fe2380581b91"
      },
      "outputs": [
        {
          "data": {
            "text/plain": [
              "array(['setosa', 'versicolor', 'virginica'], dtype='<U10')"
            ]
          },
          "execution_count": 7,
          "metadata": {},
          "output_type": "execute_result"
        }
      ],
      "source": [
        "iris.target_names"
      ]
    },
    {
      "cell_type": "code",
      "execution_count": null,
      "id": "5cbbc490",
      "metadata": {
        "id": "5cbbc490",
        "outputId": "798b4955-46f2-4162-b7cd-03ab1b3dfa18"
      },
      "outputs": [
        {
          "name": "stdout",
          "output_type": "stream",
          "text": [
            "[[5.1 3.5 1.4 0.2]\n",
            " [4.9 3.  1.4 0.2]\n",
            " [4.7 3.2 1.3 0.2]\n",
            " [4.6 3.1 1.5 0.2]\n",
            " [5.  3.6 1.4 0.2]]\n",
            "[0 0 0 0 0]\n"
          ]
        }
      ],
      "source": [
        "print(iris.data[:5]) # значения признаков / feature values\n",
        "print(iris.target[:5]) # метки классов / class labels"
      ]
    },
    {
      "cell_type": "markdown",
      "id": "7a8b6832",
      "metadata": {
        "id": "7a8b6832"
      },
      "source": [
        "---\n",
        "\n",
        "5. Выполнить разбиение набора данных (значения признаков и метки классов) на обучающую и тестовую выборки в соотношении 70/30.\n",
        "* Split the data set (feature values and class labels) into training and test samples in the ratio of 70/30."
      ]
    },
    {
      "cell_type": "code",
      "execution_count": null,
      "id": "af01b666",
      "metadata": {
        "id": "af01b666"
      },
      "outputs": [],
      "source": [
        "from sklearn.model_selection import train_test_split\n",
        "\n",
        "X_train, X_test, y_train, y_test = train_test_split(X, y, test_size=0.3, random_state=0)"
      ]
    },
    {
      "cell_type": "markdown",
      "id": "7ab30eaf",
      "metadata": {
        "id": "7ab30eaf"
      },
      "source": [
        "---\n",
        "\n",
        "6. Создать модель линейной классификации _**SGDClassifier**_ и вывести список доступных параметров модели.\n",
        "* Create a linear classification model _**SGDClassifier**_ and list the available model parameters."
      ]
    },
    {
      "cell_type": "code",
      "execution_count": null,
      "id": "b05e927a",
      "metadata": {
        "id": "b05e927a",
        "outputId": "c0e3b62f-466c-4ce4-a697-0ecfbd261cd9"
      },
      "outputs": [
        {
          "data": {
            "text/plain": [
              "{'alpha': 0.0001,\n",
              " 'average': False,\n",
              " 'class_weight': None,\n",
              " 'early_stopping': False,\n",
              " 'epsilon': 0.1,\n",
              " 'eta0': 0.0,\n",
              " 'fit_intercept': True,\n",
              " 'l1_ratio': 0.15,\n",
              " 'learning_rate': 'optimal',\n",
              " 'loss': 'hinge',\n",
              " 'max_iter': 1000,\n",
              " 'n_iter_no_change': 5,\n",
              " 'n_jobs': None,\n",
              " 'penalty': 'l2',\n",
              " 'power_t': 0.5,\n",
              " 'random_state': None,\n",
              " 'shuffle': True,\n",
              " 'tol': 0.001,\n",
              " 'validation_fraction': 0.1,\n",
              " 'verbose': 0,\n",
              " 'warm_start': False}"
            ]
          },
          "execution_count": 10,
          "metadata": {},
          "output_type": "execute_result"
        }
      ],
      "source": [
        "# sklearn.linear_model.SGDClassifier  >>  method: get_params()\n",
        "\n",
        "from sklearn.linear_model import SGDClassifier\n",
        "\n",
        "sgd = SGDClassifier()\n",
        "sgd.get_params()"
      ]
    },
    {
      "cell_type": "markdown",
      "id": "c23ee562",
      "metadata": {
        "id": "c23ee562"
      },
      "source": [
        "---\n",
        "\n",
        "7. Создать сетку параметров, включающую 4 вида функции потерь, два типа регуляризаторов, 5 значений коэффициента регуляризации от 0.0001 до 0.001, и число итераций от 5 до 10 с шагом 1.\n",
        "* Create a parameter grid that includes 4 types of loss function, two types of regularizers, 5 values of the regularization coefficient from 0.0001 to 0.001, and the number of iterations from 5 to 10 with a step of 1."
      ]
    },
    {
      "cell_type": "code",
      "execution_count": null,
      "id": "ce7e1dec",
      "metadata": {
        "id": "ce7e1dec"
      },
      "outputs": [],
      "source": [
        "import warnings\n",
        "from sklearn import metrics\n",
        "from sklearn.model_selection import GridSearchCV\n",
        "warnings.filterwarnings(\"ignore\")\n",
        "\n",
        "# сетка параметров / parameter grid\n",
        "grid = {'loss' : ['hinge', 'log', 'modified_huber', 'squared_hinge'], 'penalty' : ['l1', 'l2'],\n",
        "               'alpha' : [0.0001,0.00025,0.0005,0.00075,0.001], 'n_iter_no_change' : [5,6,7,8,9,10]}"
      ]
    },
    {
      "cell_type": "markdown",
      "id": "0f475d42",
      "metadata": {
        "id": "0f475d42"
      },
      "source": [
        "---\n",
        "\n",
        "8. Создать объект _**GridSearchCV**_, передать ему созданный ранее классификатор и сетку параметров и обучить его. В качестве метрики использовать _**accuracy**_. Предусмотреть вывод времени, затраченного на перебор по сетке (команда %%time).\n",
        "* Create an object _**GridSearchCV**_, pass it the previously created classifier and parameter grid, and train it. Use _**accuracy**_ as the metric. Provide for the output of the time spent on iterating over the grid (%%time command)."
      ]
    },
    {
      "cell_type": "code",
      "execution_count": null,
      "id": "4ed888d1",
      "metadata": {
        "id": "4ed888d1",
        "outputId": "1e67eb53-858b-45ab-cf71-3fff8ae8a6c4"
      },
      "outputs": [
        {
          "name": "stdout",
          "output_type": "stream",
          "text": [
            "Wall time: 3.39 s\n"
          ]
        },
        {
          "data": {
            "text/plain": [
              "GridSearchCV(estimator=SGDClassifier(),\n",
              "             param_grid={'alpha': [0.0001, 0.00025, 0.0005, 0.00075, 0.001],\n",
              "                         'loss': ['hinge', 'log', 'modified_huber',\n",
              "                                  'squared_hinge'],\n",
              "                         'n_iter_no_change': [5, 6, 7, 8, 9, 10],\n",
              "                         'penalty': ['l1', 'l2']},\n",
              "             scoring='accuracy')"
            ]
          },
          "execution_count": 12,
          "metadata": {},
          "output_type": "execute_result"
        }
      ],
      "source": [
        "%%time\n",
        "gs = GridSearchCV(sgd, grid, scoring='accuracy')\n",
        "gs.fit(X_train, y_train)"
      ]
    },
    {
      "cell_type": "markdown",
      "id": "056d8a41",
      "metadata": {
        "id": "056d8a41"
      },
      "source": [
        "---\n",
        "\n",
        "9. Вывести лучший классификатор, лучший набор параметров и оценку лучшего классификатора в соответствии с заданной метрикой. Получить оценки алгоритма по последним 10 наборам параметров.\n",
        "* Output the best classifier, the best set of parameters, and the score of the best classifier according to the given metric. Get algorithm scores for the last 10 parameter sets."
      ]
    },
    {
      "cell_type": "code",
      "execution_count": null,
      "id": "8877ed49",
      "metadata": {
        "id": "8877ed49",
        "outputId": "635bdc78-f160-4cb0-db81-e35a89374d04"
      },
      "outputs": [
        {
          "name": "stdout",
          "output_type": "stream",
          "text": [
            "лучший классификатор:\n",
            " SGDClassifier(alpha=0.0005, loss='modified_huber', n_iter_no_change=9,\n",
            "              penalty='l1') \n",
            "\n",
            "набор параметров:\n",
            " {'alpha': 0.0005, 'loss': 'modified_huber', 'n_iter_no_change': 9, 'penalty': 'l1'} \n",
            "\n",
            "оценки на тренировочном наборе:\n",
            "acc train = 0.980952380952381\n",
            "acc test = 0.9777777777777777 \n",
            "\n",
            "оценки алгоритма по последним 10 наборам параметров:\n",
            " [0.97142857 0.8952381  0.95238095 0.83809524 0.96190476 0.85714286\n",
            " 0.95238095 0.8952381  0.97142857 0.87619048]\n"
          ]
        }
      ],
      "source": [
        "print('лучший классификатор:\\n', gs.best_estimator_, '\\n') # лучший классификатор\n",
        "print('набор параметров:\\n', gs.best_params_, '\\n') # набор параметров\n",
        "print('оценки на тренировочном наборе:')\n",
        "print('acc train =', gs.best_score_) # оценка на тренировочном наборе\n",
        "print('acc test =', metrics.accuracy_score(y_test, gs.predict(X_test)), '\\n')\n",
        "print('оценки алгоритма по последним 10 наборам параметров:\\n', gs.cv_results_['mean_test_score'][-10:]) "
      ]
    },
    {
      "cell_type": "markdown",
      "id": "73349416",
      "metadata": {
        "id": "73349416"
      },
      "source": [
        "---\n",
        "\n",
        "10. Проанализировать полученные результаты, сделать выводы.\n",
        "* Analyze the results and draw conclusions."
      ]
    },
    {
      "cell_type": "markdown",
      "id": "7ad4cb3e",
      "metadata": {
        "id": "7ad4cb3e"
      },
      "source": [
        "> * Точность найденного решения оказалась достаточно хорошей, а на сам перебор по сетки потребовалось меньше 4 секунд, что достаточно быстро, но если взять набор данных из многих тысяч строк, то тут скорее всего перебор займет прилично времени.\n",
        ">\n",
        ">\n",
        "> * The accuracy of the found solution turned out to be quite good, and it took less than 4 seconds to iterate over the grid, which is quite fast, but if you take a dataset of many thousands of rows, then the enumeration will most likely take a decent amount of time."
      ]
    },
    {
      "cell_type": "markdown",
      "id": "86f6b916",
      "metadata": {
        "id": "86f6b916"
      },
      "source": [
        "---\n",
        "\n",
        "11. Организовать случайный поиск по сетке. Вывести время, затраченное на случайный перебор.\n",
        "* Organize a random grid search. Print the time spent on random enumeration."
      ]
    },
    {
      "cell_type": "code",
      "execution_count": null,
      "id": "e2b1ed11",
      "metadata": {
        "id": "e2b1ed11",
        "outputId": "b82241e7-ea1b-4d36-e5c3-1fabf3d3d0fe"
      },
      "outputs": [
        {
          "name": "stdout",
          "output_type": "stream",
          "text": [
            "Wall time: 177 ms\n"
          ]
        },
        {
          "data": {
            "text/plain": [
              "RandomizedSearchCV(estimator=SGDClassifier(),\n",
              "                   param_distributions={'alpha': [0.0001, 0.00025, 0.0005,\n",
              "                                                  0.00075, 0.001],\n",
              "                                        'loss': ['hinge', 'log',\n",
              "                                                 'modified_huber',\n",
              "                                                 'squared_hinge'],\n",
              "                                        'n_iter_no_change': [5, 6, 7, 8, 9, 10],\n",
              "                                        'penalty': ['l1', 'l2']},\n",
              "                   scoring='accuracy')"
            ]
          },
          "execution_count": 14,
          "metadata": {},
          "output_type": "execute_result"
        }
      ],
      "source": [
        "%%time\n",
        "from sklearn.model_selection import RandomizedSearchCV\n",
        "\n",
        "rd = RandomizedSearchCV(sgd, grid, scoring = 'accuracy')\n",
        "rd.fit(X_train, y_train)"
      ]
    },
    {
      "cell_type": "markdown",
      "id": "7bcfe1cd",
      "metadata": {
        "id": "7bcfe1cd"
      },
      "source": [
        "---\n",
        "\n",
        "12. Вывести те же показатели, что и в п. 9. Сопоставить полученные результаты и время на перебор с результатами, полученными при выполнении п. 9.\n",
        "* Display the same indicators as in step 9. Compare the results obtained and the time for enumeration with the results obtained when performing step 9."
      ]
    },
    {
      "cell_type": "code",
      "execution_count": null,
      "id": "2b18a3fa",
      "metadata": {
        "id": "2b18a3fa",
        "outputId": "95c54d42-e65f-4c80-a7b1-7cf2a05f5354"
      },
      "outputs": [
        {
          "name": "stdout",
          "output_type": "stream",
          "text": [
            "лучший классификатор:\n",
            " SGDClassifier(alpha=0.0005, penalty='l1') \n",
            "\n",
            "набор параметров:\n",
            " {'penalty': 'l1', 'n_iter_no_change': 5, 'loss': 'hinge', 'alpha': 0.0005} \n",
            "\n",
            "оценки на тренировочном наборе:\n",
            "acc train = 0.980952380952381\n",
            "acc test = 0.9555555555555556 \n",
            "\n",
            "оценки алгоритма по последним 10 наборам параметров:\n",
            " [0.87619048 0.95238095 0.76190476 0.8952381  0.86666667 0.78095238\n",
            " 0.74285714 0.83809524 0.78095238 0.98095238]\n"
          ]
        }
      ],
      "source": [
        "print('лучший классификатор:\\n', rd.best_estimator_, '\\n') # лучший классификатор\n",
        "print('набор параметров:\\n', rd.best_params_, '\\n') # набор параметров\n",
        "print('оценки на тренировочном наборе:')\n",
        "print('acc train =', rd.best_score_) # оценка на тренировочном наборе\n",
        "print('acc test =', metrics.accuracy_score(y_test, rd.predict(X_test)), '\\n')\n",
        "print('оценки алгоритма по последним 10 наборам параметров:\\n', rd.cv_results_['mean_test_score'][-10:]) "
      ]
    },
    {
      "cell_type": "markdown",
      "id": "1c5131b7",
      "metadata": {
        "id": "1c5131b7"
      },
      "source": [
        "---\n",
        "\n",
        "13. Сделать выводы, сформулировать рекомендации.\n",
        "* Draw conclusions and formulate recommendations."
      ]
    },
    {
      "cell_type": "markdown",
      "id": "36a5ec2f",
      "metadata": {
        "id": "36a5ec2f"
      },
      "source": [
        "> * Время работы разумеется у случайного перебора меньше, чем у полного, при этом точность оказалась почти на том же уровне, поэтому в данном случае выгоднее будет воспользоваться случайным перебором нежели полным.\n",
        ">\n",
        ">\n",
        "> * Of course, the running time of random enumeration is less than that of complete enumeration, while the accuracy turned out to be almost at the same level, so in this case it would be more profitable to use random enumeration rather than complete enumeration."
      ]
    }
  ],
  "metadata": {
    "kernelspec": {
      "display_name": "Python 3",
      "language": "python",
      "name": "python3"
    },
    "language_info": {
      "codemirror_mode": {
        "name": "ipython",
        "version": 3
      },
      "file_extension": ".py",
      "mimetype": "text/x-python",
      "name": "python",
      "nbconvert_exporter": "python",
      "pygments_lexer": "ipython3",
      "version": "3.8.8"
    },
    "colab": {
      "provenance": []
    }
  },
  "nbformat": 4,
  "nbformat_minor": 5
}