{
  "cells": [
    {
      "cell_type": "markdown",
      "id": "821e424b",
      "metadata": {
        "id": "821e424b"
      },
      "source": [
        "### Кросс-валидация\n",
        "\n",
        "#### Практическое задание для самостоятельного выполнения"
      ]
    },
    {
      "cell_type": "markdown",
      "id": "98729029",
      "metadata": {
        "id": "98729029"
      },
      "source": [
        "**Задание 1.**\n",
        "\n",
        "1. Сформировать текстовый файл, содержащий список группы с указанием для каждого студента имеется/не имеется задолженность за последнюю сессию (например, в формате 0/1). В списке должно быть не менее 15-20 записей. Импортировать эти данные в объект _Pandas DataFrame_.\n",
        "* Create your own text file containing a list of students where it indicates for each student whether there is/is not failed examinations from the last semester (for example, in the format 0/1). The list should contain at least 20 students. Import this data into a _Pandas DataFrame_.\n",
        "<br>\n",
        "\n",
        "2. С полученным набором данных реализовать различные стратегии кросс-валидации и проанализировать полученные результаты.\n",
        "* With the created DataFrame, implement these various cross-validation strategies and analyze the results:\n",
        "<br>\n",
        "\n",
        "    * 2.1. Применить стратегию _**KFold**_ с разбиением на 5 блоков без перемешивания. Вывести списки индексов объектов, попавших в обучающую и тестовую выборку на каждой итерации, и сформировать собственно обучающие и тестовые выборки (данные и метки классов).\n",
        "    * 2.1. Apply the _**KFold**_ strategy with splitting into 5 blocks **without shuffling**. Display lists of indices of objects included in the training and test sets at each iteration, and form the actual training and test sets (data and class labels). \n",
        "<br><br>\n",
        "\n",
        "    * 2.2. Применить стратегию _**KFold**_ с разбиением на 5 блоков с перемешиванием. Вывести списки индексов объектов, попавших в обучающую и тестовую выборку на каждой итерации, и сформировать собственно обучающие и тестовые выборки (данные и метки классов). Сравнить с результатами п. 2.1, дать объяснения. \n",
        "    * 2.2. Apply the _**KFold**_ strategy with splitting into 5 blocks **with shuffling**. Display lists of indices of objects included in the training and test sets at each iteration, and form the actual training and test sets (data and class labels). Compare with the results from 2.1 and give explanations.\n",
        "<br><br>\n",
        "    \n",
        "    * 2.3. Применить стратегию _**StratifiedKFold**_ с разбиением на 5 блоков. Вывести списки индексов объектов, попавших в обучающую и тестовую выборку на каждой итерации, и сформировать собственно обучающие и тестовые выборки (данные и метки классов). Сравнить с результатами п. 2.1 и 2.2, дать объяснения.\n",
        "    * 2.3. Apply the _**StratifiedKFold**_ strategy with splitting into 5 blocks. Display lists of indices of objects included in the training and test sets at each iteration, and form the actual training and test sets (data and class labels). Compare with the results from 2.1 and 2.2 and give explanations.\n",
        "<br><br>\n",
        "    \n",
        "    * 2.4. Применить стратегию _**ShuffleSplit**_ с разбиением на 10 блоков. Вывести списки индексов объектов, попавших в обучающую и тестовую выборку на каждой итерации, и сформировать собственно обучающие и тестовые выборки (данные и метки классов). Сравнить с предыдущими результатами, дать объяснения.\n",
        "    * 2.4. Apply the _**ShuffleSplit**_ strategy with splitting into 10 blocks. Display lists of indices of objects included in the training and test sets at each iteration, and form the actual training and test sets (data and class labels). Compare with previous results and give explanations.\n",
        "<br><br>\n",
        "\n",
        "    * 2.5. Применить стратегию _**StratifiedShuffleSplit**_ с разбиением на 10 блоков. Вывести списки индексов объектов, попавших в обучающую и тестовую выборку на каждой итерации, и сформировать собственно обучающие и тестовые выборки (данные и метки классов). Сравнить с результатами п. 2.4, дать объяснения. \n",
        "    * 2.5. Apply the _**StratifiedShuffleSplit**_ strategy with splitting into 10 blocks. Display lists of indices of objects included in the training and test sets at each iteration, and form the actual training and test sets (data and class labels). Compare with the results from 2.4 and give explanations.\n",
        "<br><br>\n",
        "\n",
        "    * 2.6. Применить стратегию _**LeaveOneOut**_. Вывести списки индексов объектов, попавших в обучающую и тестовую выборку на каждой итерации, и сформировать собственно обучающие и тестовые выборки (данные и метки классов).\n",
        "    * 2.6. Apply the _**LeaveOneOut**_ strategy. Display lists of indices of objects included in the training and test sets at each iteration, and form the actual training and test sets (data and class labels)."
      ]
    },
    {
      "cell_type": "code",
      "execution_count": null,
      "id": "1bd70675",
      "metadata": {
        "id": "1bd70675",
        "outputId": "a343e301-4398-40ab-c8fd-6367bf84a0b7"
      },
      "outputs": [
        {
          "data": {
            "text/html": [
              "<div>\n",
              "<style scoped>\n",
              "    .dataframe tbody tr th:only-of-type {\n",
              "        vertical-align: middle;\n",
              "    }\n",
              "\n",
              "    .dataframe tbody tr th {\n",
              "        vertical-align: top;\n",
              "    }\n",
              "\n",
              "    .dataframe thead th {\n",
              "        text-align: right;\n",
              "    }\n",
              "</style>\n",
              "<table border=\"1\" class=\"dataframe\">\n",
              "  <thead>\n",
              "    <tr style=\"text-align: right;\">\n",
              "      <th></th>\n",
              "      <th>student</th>\n",
              "      <th>result</th>\n",
              "    </tr>\n",
              "  </thead>\n",
              "  <tbody>\n",
              "    <tr>\n",
              "      <th>0</th>\n",
              "      <td>Craig Kennedy</td>\n",
              "      <td>1</td>\n",
              "    </tr>\n",
              "    <tr>\n",
              "      <th>1</th>\n",
              "      <td>Tania Thompson</td>\n",
              "      <td>1</td>\n",
              "    </tr>\n",
              "    <tr>\n",
              "      <th>2</th>\n",
              "      <td>Corinne Horn</td>\n",
              "      <td>0</td>\n",
              "    </tr>\n",
              "    <tr>\n",
              "      <th>3</th>\n",
              "      <td>Caitlyn Blake</td>\n",
              "      <td>1</td>\n",
              "    </tr>\n",
              "    <tr>\n",
              "      <th>4</th>\n",
              "      <td>Carleigh Stevens</td>\n",
              "      <td>0</td>\n",
              "    </tr>\n",
              "    <tr>\n",
              "      <th>5</th>\n",
              "      <td>Bella Barron</td>\n",
              "      <td>1</td>\n",
              "    </tr>\n",
              "    <tr>\n",
              "      <th>6</th>\n",
              "      <td>Jason Wolfe</td>\n",
              "      <td>0</td>\n",
              "    </tr>\n",
              "    <tr>\n",
              "      <th>7</th>\n",
              "      <td>Sullivan Alvarado</td>\n",
              "      <td>1</td>\n",
              "    </tr>\n",
              "    <tr>\n",
              "      <th>8</th>\n",
              "      <td>Lina Fry</td>\n",
              "      <td>1</td>\n",
              "    </tr>\n",
              "    <tr>\n",
              "      <th>9</th>\n",
              "      <td>Ainsley Ibarra</td>\n",
              "      <td>1</td>\n",
              "    </tr>\n",
              "    <tr>\n",
              "      <th>10</th>\n",
              "      <td>Jayleen Fuller</td>\n",
              "      <td>1</td>\n",
              "    </tr>\n",
              "    <tr>\n",
              "      <th>11</th>\n",
              "      <td>Solomon Olsen</td>\n",
              "      <td>1</td>\n",
              "    </tr>\n",
              "    <tr>\n",
              "      <th>12</th>\n",
              "      <td>Armani Valenzuela</td>\n",
              "      <td>0</td>\n",
              "    </tr>\n",
              "    <tr>\n",
              "      <th>13</th>\n",
              "      <td>Sofia Fitzpatrick</td>\n",
              "      <td>1</td>\n",
              "    </tr>\n",
              "    <tr>\n",
              "      <th>14</th>\n",
              "      <td>Amiah Sharp</td>\n",
              "      <td>1</td>\n",
              "    </tr>\n",
              "    <tr>\n",
              "      <th>15</th>\n",
              "      <td>Rohan Gillespie</td>\n",
              "      <td>1</td>\n",
              "    </tr>\n",
              "    <tr>\n",
              "      <th>16</th>\n",
              "      <td>Giovanny Whitney</td>\n",
              "      <td>1</td>\n",
              "    </tr>\n",
              "    <tr>\n",
              "      <th>17</th>\n",
              "      <td>Amari Powers</td>\n",
              "      <td>1</td>\n",
              "    </tr>\n",
              "    <tr>\n",
              "      <th>18</th>\n",
              "      <td>Conor Summers</td>\n",
              "      <td>0</td>\n",
              "    </tr>\n",
              "    <tr>\n",
              "      <th>19</th>\n",
              "      <td>Layne Ballard</td>\n",
              "      <td>0</td>\n",
              "    </tr>\n",
              "  </tbody>\n",
              "</table>\n",
              "</div>"
            ],
            "text/plain": [
              "              student  result\n",
              "0       Craig Kennedy       1\n",
              "1      Tania Thompson       1\n",
              "2        Corinne Horn       0\n",
              "3       Caitlyn Blake       1\n",
              "4    Carleigh Stevens       0\n",
              "5        Bella Barron       1\n",
              "6         Jason Wolfe       0\n",
              "7   Sullivan Alvarado       1\n",
              "8            Lina Fry       1\n",
              "9      Ainsley Ibarra       1\n",
              "10     Jayleen Fuller       1\n",
              "11      Solomon Olsen       1\n",
              "12  Armani Valenzuela       0\n",
              "13  Sofia Fitzpatrick       1\n",
              "14        Amiah Sharp       1\n",
              "15    Rohan Gillespie       1\n",
              "16   Giovanny Whitney       1\n",
              "17       Amari Powers       1\n",
              "18      Conor Summers       0\n",
              "19      Layne Ballard       0"
            ]
          },
          "execution_count": 1,
          "metadata": {},
          "output_type": "execute_result"
        }
      ],
      "source": [
        "import pandas as pd\n",
        "df = pd.read_csv('spisok_studentov.txt', sep='\\t', header=0, encoding = 'UTF-8')\n",
        "df"
      ]
    },
    {
      "cell_type": "code",
      "execution_count": null,
      "id": "a03a06f2",
      "metadata": {
        "id": "a03a06f2"
      },
      "outputs": [],
      "source": [
        "from sklearn.model_selection import KFold\n",
        "from sklearn.model_selection import StratifiedKFold\n",
        "from sklearn.model_selection import ShuffleSplit\n",
        "from sklearn.model_selection import StratifiedShuffleSplit\n",
        "from sklearn.model_selection import LeaveOneOut"
      ]
    },
    {
      "cell_type": "code",
      "execution_count": null,
      "id": "2c26bdd1",
      "metadata": {
        "id": "2c26bdd1",
        "outputId": "36ebb571-bd5d-4bb0-b668-e29a740429d8"
      },
      "outputs": [
        {
          "name": "stdout",
          "output_type": "stream",
          "text": [
            "[ 0  1  2  3  4  5  6  7  8  9 10 11 12 13 14 15 16 17 18 19]\n",
            "[1 1 0 1 0 1 0 1 1 1 1 1 0 1 1 1 1 1 0 0]\n"
          ]
        }
      ],
      "source": [
        "X = df.index.to_numpy()\n",
        "y = df.result.to_numpy()\n",
        "\n",
        "print(X)\n",
        "print(y)"
      ]
    },
    {
      "cell_type": "code",
      "execution_count": null,
      "id": "e89b30da",
      "metadata": {
        "id": "e89b30da",
        "outputId": "7d0f9be1-2547-4772-af04-6552f80240ab"
      },
      "outputs": [
        {
          "name": "stdout",
          "output_type": "stream",
          "text": [
            "[0, 1, 2, 3, 4, 5, 6, 7, 8, 9, 10, 11, 12, 13, 14, 15, 16, 17, 18, 19]\n",
            "[1, 1, 0, 1, 0, 1, 0, 1, 1, 1, 1, 1, 0, 1, 1, 1, 1, 1, 0, 0]\n"
          ]
        }
      ],
      "source": [
        "X = df.index.tolist()\n",
        "y = df.result.tolist()\n",
        "\n",
        "print(X)\n",
        "print(y)"
      ]
    },
    {
      "cell_type": "code",
      "execution_count": null,
      "id": "2934cefa",
      "metadata": {
        "id": "2934cefa",
        "outputId": "88799675-5858-4b11-d0e0-e939718babb2"
      },
      "outputs": [
        {
          "name": "stdout",
          "output_type": "stream",
          "text": [
            "[ 4  5  6  7  8  9 10 11 12 13 14 15 16 17 18 19] [0 1 2 3]\n",
            "[ 0  1  2  3  8  9 10 11 12 13 14 15 16 17 18 19] [4 5 6 7]\n",
            "[ 0  1  2  3  4  5  6  7 12 13 14 15 16 17 18 19] [ 8  9 10 11]\n",
            "[ 0  1  2  3  4  5  6  7  8  9 10 11 16 17 18 19] [12 13 14 15]\n",
            "[ 0  1  2  3  4  5  6  7  8  9 10 11 12 13 14 15] [16 17 18 19]\n"
          ]
        }
      ],
      "source": [
        "# KFold с разбиением на 5 блоков без перемешивания\n",
        "\n",
        "kf = KFold(n_splits=5, shuffle=False)\n",
        "\n",
        "for train, test in kf.split(X, y):\n",
        "    print(train, test)"
      ]
    },
    {
      "cell_type": "code",
      "execution_count": null,
      "id": "e459f22b",
      "metadata": {
        "id": "e459f22b",
        "outputId": "35fb737d-711d-4268-a92e-c990bb725d18"
      },
      "outputs": [
        {
          "name": "stdout",
          "output_type": "stream",
          "text": [
            "[ 1  2  3  4  5  7  8  9 10 11 12 14 15 16 18 19] [ 0  6 13 17]\n",
            "[ 0  1  3  4  5  6  7  9 10 11 13 14 16 17 18 19] [ 2  8 12 15]\n",
            "[ 0  2  3  4  6  8  9 10 12 13 14 15 16 17 18 19] [ 1  5  7 11]\n",
            "[ 0  1  2  5  6  7  8 10 11 12 13 14 15 16 17 18] [ 3  4  9 19]\n",
            "[ 0  1  2  3  4  5  6  7  8  9 11 12 13 15 17 19] [10 14 16 18]\n"
          ]
        }
      ],
      "source": [
        "# KFold с разбиением на 5 блоков с перемешиванием\n",
        "\n",
        "kf = KFold(n_splits=5, shuffle=True)\n",
        "\n",
        "for train, test in kf.split(X, y):\n",
        "    print(train, test)"
      ]
    },
    {
      "cell_type": "code",
      "execution_count": null,
      "id": "89e2ef99",
      "metadata": {
        "id": "89e2ef99",
        "outputId": "7cf648f1-1d41-4993-c136-063328f4b353"
      },
      "outputs": [
        {
          "name": "stdout",
          "output_type": "stream",
          "text": [
            "[ 4  5  6  7  8  9 10 11 12 13 14 15 16 17 18 19] [0 1 2 3]\n",
            "[ 0  1  2  3  6  9 10 11 12 13 14 15 16 17 18 19] [4 5 7 8]\n",
            "[ 0  1  2  3  4  5  7  8 12 13 14 15 16 17 18 19] [ 6  9 10 11]\n",
            "[ 0  1  2  3  4  5  6  7  8  9 10 11 16 17 18 19] [12 13 14 15]\n",
            "[ 0  1  2  3  4  5  6  7  8  9 10 11 12 13 14 15] [16 17 18 19]\n"
          ]
        }
      ],
      "source": [
        "# StratifiedKFold с разбиением на 5 блоков\n",
        "# for more details: https://russianblogs.com/article/9585922754/\n",
        "\n",
        "skf = StratifiedKFold(n_splits=5)\n",
        "\n",
        "for train, test in skf.split(X, y):\n",
        "    print(train, test)"
      ]
    },
    {
      "cell_type": "code",
      "execution_count": null,
      "id": "da629c05",
      "metadata": {
        "id": "da629c05",
        "outputId": "975f7191-450a-4aaf-9504-69c37dd84201"
      },
      "outputs": [
        {
          "name": "stdout",
          "output_type": "stream",
          "text": [
            "[ 2  8 16 10 19  7  0  1 14  3  9  5 11 12 18 17  6  4] [15 13]\n",
            "[10  1 11  8  2  0 15 14  5  4  3 13 16 12 18 17  9  6] [ 7 19]\n",
            "[ 6  8  0 18 16 11 12 17  9 19  3 14  7  4 10  1  2 13] [15  5]\n",
            "[14  2 17 18  8  7 10  4  1  5 19 16  3 13 15 12 11  0] [9 6]\n",
            "[14 12 11 19  9  4 15  8  1 18  7  2 16  3  0  5 10  6] [17 13]\n",
            "[19 15  0  4  3 10  2 16 18 13 12 17  8  9  1 11  5  6] [ 7 14]\n",
            "[ 5 14  3 19 10 17 11 16 13 18  1  4  2  8 12  6  7 15] [9 0]\n",
            "[16  6  0 17 11 18  2  8 10 12 19 13  4  7  3  5 14  1] [ 9 15]\n",
            "[11  0  8  2 13  5 14 17  7  9  6 12 19  4 18 15 10  3] [ 1 16]\n",
            "[ 8  3 10 16  1  6  5 19 12 18  0  7 17  4 15 13  9 14] [ 2 11]\n"
          ]
        }
      ],
      "source": [
        "# ShuffleSplit с разбиением на 10 блоков\n",
        "\n",
        "ss = ShuffleSplit(n_splits=10)\n",
        "\n",
        "for train, test in ss.split(X, y):\n",
        "    print(train, test)"
      ]
    },
    {
      "cell_type": "code",
      "execution_count": null,
      "id": "a0c30c73",
      "metadata": {
        "id": "a0c30c73",
        "outputId": "4f9f9538-a4e1-40c6-bbab-2ae92afae59a"
      },
      "outputs": [
        {
          "name": "stdout",
          "output_type": "stream",
          "text": [
            "[15 19  1 13  5 14  6  0  7  3  8 16  4 17 12 11  9  2] [18 10]\n",
            "[ 5  8 13  4 15  0 12  9  3 11 19  1 10 18  6 16  7 17] [ 2 14]\n",
            "[ 8  0  2  5  3 13 11 17  7  9  4  6 10 14 18 12 16  1] [19 15]\n",
            "[11  6 18  9 16 15  5 12  0 13  2  1 10 17 14  8 19  3] [4 7]\n",
            "[18 14  7  3  2 10  8 19  9  0 15  1 12  5  6 16 11 13] [ 4 17]\n",
            "[ 4  3 17  7  0 14 18 19 12  9  8  6 16  5 15  1 13 11] [ 2 10]\n",
            "[ 5 18 15 13  9  7 10  1 19 11 17  4 12 14  8 16  0  6] [3 2]\n",
            "[ 5 10 16 19  2 17  1  4  9 13  0 11 15 18  7  8  6 14] [12  3]\n",
            "[18  2  3 17  8 16 10  6 13  1 19  5 12 15  0  9 14 11] [7 4]\n",
            "[12  4 10 15 16 14  3 11  2  7 17 18 19  8  0  5  1  9] [13  6]\n"
          ]
        }
      ],
      "source": [
        "# StratifiedShuffleSplit с разбиением на 10 блоков\n",
        "# for more details: https://www.kaggle.com/code/viswanathanc/stratifiedshufflesplit-working-with-less-data/notebook\n",
        "\n",
        "sss = StratifiedShuffleSplit(n_splits=10)\n",
        "\n",
        "for train, test in sss.split(X, y):\n",
        "    print(train, test)"
      ]
    },
    {
      "cell_type": "code",
      "execution_count": null,
      "id": "f2539390",
      "metadata": {
        "id": "f2539390",
        "outputId": "dca3e90c-8592-4bb4-c358-5466b2529ff7"
      },
      "outputs": [
        {
          "name": "stdout",
          "output_type": "stream",
          "text": [
            "[ 1  2  3  4  5  6  7  8  9 10 11 12 13 14 15 16 17 18 19] [0]\n",
            "[ 0  2  3  4  5  6  7  8  9 10 11 12 13 14 15 16 17 18 19] [1]\n",
            "[ 0  1  3  4  5  6  7  8  9 10 11 12 13 14 15 16 17 18 19] [2]\n",
            "[ 0  1  2  4  5  6  7  8  9 10 11 12 13 14 15 16 17 18 19] [3]\n",
            "[ 0  1  2  3  5  6  7  8  9 10 11 12 13 14 15 16 17 18 19] [4]\n",
            "[ 0  1  2  3  4  6  7  8  9 10 11 12 13 14 15 16 17 18 19] [5]\n",
            "[ 0  1  2  3  4  5  7  8  9 10 11 12 13 14 15 16 17 18 19] [6]\n",
            "[ 0  1  2  3  4  5  6  8  9 10 11 12 13 14 15 16 17 18 19] [7]\n",
            "[ 0  1  2  3  4  5  6  7  9 10 11 12 13 14 15 16 17 18 19] [8]\n",
            "[ 0  1  2  3  4  5  6  7  8 10 11 12 13 14 15 16 17 18 19] [9]\n",
            "[ 0  1  2  3  4  5  6  7  8  9 11 12 13 14 15 16 17 18 19] [10]\n",
            "[ 0  1  2  3  4  5  6  7  8  9 10 12 13 14 15 16 17 18 19] [11]\n",
            "[ 0  1  2  3  4  5  6  7  8  9 10 11 13 14 15 16 17 18 19] [12]\n",
            "[ 0  1  2  3  4  5  6  7  8  9 10 11 12 14 15 16 17 18 19] [13]\n",
            "[ 0  1  2  3  4  5  6  7  8  9 10 11 12 13 15 16 17 18 19] [14]\n",
            "[ 0  1  2  3  4  5  6  7  8  9 10 11 12 13 14 16 17 18 19] [15]\n",
            "[ 0  1  2  3  4  5  6  7  8  9 10 11 12 13 14 15 17 18 19] [16]\n",
            "[ 0  1  2  3  4  5  6  7  8  9 10 11 12 13 14 15 16 18 19] [17]\n",
            "[ 0  1  2  3  4  5  6  7  8  9 10 11 12 13 14 15 16 17 19] [18]\n",
            "[ 0  1  2  3  4  5  6  7  8  9 10 11 12 13 14 15 16 17 18] [19]\n"
          ]
        }
      ],
      "source": [
        "# LeaveOneOut\n",
        "\n",
        "loo = LeaveOneOut()\n",
        "\n",
        "for train, test in loo.split(X, y):\n",
        "    print(train, test)"
      ]
    },
    {
      "cell_type": "markdown",
      "id": "2ae3d7e3",
      "metadata": {
        "id": "2ae3d7e3"
      },
      "source": [
        "### Выводы:\n",
        "\n",
        "_**<u>внимание</u>**: кажется, что в русском языке слово «fold» обозначается либо «складка», либо «сгиб» взаимозаменяемо._\n",
        "\n",
        "#### `shuffle=True` и `shuffle=False`\n",
        "* Если `shuffle=True`, все данные сначала перемешиваются, а затем разбиваются на K-Folds.\n",
        "* Если наши параметры зависят от перетасовки, это означает, что наш выбор параметров очень нестабилен.\n",
        "* Перемешивание в основном полезно, если наши данные отсортированы по классам, потому что тогда каждая складка может содержать образцы только из одного класса.\n",
        "\n",
        "#### `shuffle=True` vs `shuffle=False`\n",
        "* If `shuffle=True`, the whole data is first shuffled and then split into the K-Folds.\n",
        "* If our parameters depend on shuffling, this means our parameter selection is very unstable.\n",
        "* Shuffle is mainly useful if our data is sorted by classes, because then each fold might contain only samples from one class.\n",
        "\n",
        "---\n",
        "\n",
        "#### Что такое «Stratified»?\n",
        "* Стратифицированная перекрёстная проверка (кросс-проверка) — когда мы разделяем наши данные на складки, мы хотим убедиться, что каждая складка является хорошим представителем всех данных. Самый простой пример: нам нужна одинаковая пропорция разных классов в каждой складке.\n",
        "\n",
        "#### What is \"Stratified\"?\n",
        "* Stratified Cross Validation — when we split our data into folds, we want to make sure that each fold is a good representative of the whole data. The most basic example is that we want the same proportion of different classes in each fold.\n",
        "\n",
        "---\n",
        "\n",
        "#### KFold и StratifiedKFold\n",
        "* KFold — это кросс-валидатор, который делит набор данных на k сгибов.\n",
        "* Стратификация гарантирует, что каждая складка набора данных имеет одинаковую долю наблюдений в каждой сгибе.\n",
        "* Другими словами, StratifiedKFold — это улучшенная версия KFold.\n",
        "* Мы должны предпочесть StratifiedKFold, а не KFold, когда имеем дело с задачами классификации с несбалансированным распределением классов.\n",
        "* В задачах классификации используется StratifiedKFold, а в задачах регрессии — Kfold.\n",
        "* В KFold, когда k = n (количество наблюдений), перекрестная проверка KFold эквивалентна перекрестной проверке LeaveOneOut.\n",
        "\n",
        "#### KFold vs StratifiedKFold\n",
        "* KFold is a cross-validator that divides the dataset into k folds.\n",
        "* Stratified is to ensure that each fold of dataset has the same proportion of observations in each fold.\n",
        "* In other words, StratifiedKFold is the improved version of KFold.\n",
        "* We should prefer StratifiedKFold over KFold when dealing with classification tasks with imbalanced class distributions.\n",
        "* Classification tasks use StratifiedKFold, while regression tasks use Kfold.\n",
        "* In KFold, When k = n (the number of observations), KFold cross-validation is equivalent to LeaveOneOut cross-validation.\n",
        "\n",
        "---\n",
        "\n",
        "#### KFold и ShuffleSplit\n",
        "* KFold разделит наш набор данных на заданное количество сгибов. Складка — это подмножество вашего набора данных.\n",
        "* ShuffleSplit будет случайным образом выбирать весь наш набор данных во время каждой итерации для создания обучающего набора и тестового набора.\n",
        "* Параметры `test_size` и `train_size` определяют, насколько большим должен быть набор тестов и обучающих тестов для каждой итерации.\n",
        "* ShuffleSplit работает итеративно, KFold просто делит набор данных на k сгибов.\n",
        "\n",
        "#### KFold vs ShuffleSplit\n",
        "* KFold will divide our data set into prespecified number of folds. A fold is a subset of your dataset.\n",
        "* ShuffleSplit will randomly sample our entire dataset during each iteration to generate a training set and a test set. \n",
        "* The `test_size` and `train_size` parameters control how large the test and training test set should be for each iteration.\n",
        "* ShuffleSplit works iteratively, KFold just divides the dataset into k folds."
      ]
    }
  ],
  "metadata": {
    "kernelspec": {
      "display_name": "Python 3",
      "language": "python",
      "name": "python3"
    },
    "language_info": {
      "codemirror_mode": {
        "name": "ipython",
        "version": 3
      },
      "file_extension": ".py",
      "mimetype": "text/x-python",
      "name": "python",
      "nbconvert_exporter": "python",
      "pygments_lexer": "ipython3",
      "version": "3.8.8"
    },
    "colab": {
      "provenance": []
    }
  },
  "nbformat": 4,
  "nbformat_minor": 5
}