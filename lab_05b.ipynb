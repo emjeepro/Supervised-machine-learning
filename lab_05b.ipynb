{
  "cells": [
    {
      "cell_type": "markdown",
      "id": "d01d8e7c",
      "metadata": {
        "id": "d01d8e7c"
      },
      "source": [
        "### Бинарная классификация (линейные модели)\n",
        "\n",
        "#### Практическое задание для самостоятельного выполнения"
      ]
    },
    {
      "cell_type": "markdown",
      "id": "7483b2b1",
      "metadata": {
        "id": "7483b2b1"
      },
      "source": [
        "**Задание 1.**\n",
        "\n",
        "1. Используя модуль _**datasets**_ библиотеки _**Scikit-learn**_, сгенерировать модельный набор данных для задачи бинарной классификации в виде двух облаков точек: общее количество точек равно 200, количество признаков, характеризующих объекты, равно 2. Параметр, определяющий степень рассеянности данных, установить равным 5.5. Обеспечить воспроизводимость результатов, задав значение соответствующему параметру.\n",
        "* Using the _**datasets**_ module of the _**Scikit-learn**_ library, generate a model dataset for the binary classification problem in the form of two point clouds: the total number of points is 200, the number of features characterizing objects is 2. The parameter that determines the degree of data dispersion is set to 5.5. Ensure reproducible results by setting the appropriate parameter. <br><br>**teacher's suggestion for the answer of this step:**<br> \n",
        "`from sklearn.datasets import make_blobs`<br>\n",
        "`X, y = make_blobs(n_samples=200, n_features=2, cluster_std=5.5)`\n",
        "<br>And to ensure reproducibility of results, `random_state` parameter is used\n",
        "<br>\n",
        "\n",
        "2. Вывести сгенерированные координаты точек и метки классов.\n",
        "* Output the generated point coordinates and class labels.\n",
        "<br>\n",
        "\n",
        "3. Выполнить визуализацию сгенерированных облаков. <br><u>Указание</u>: для представления объектов разных классов точками разных цветов можно использовать объект _**ListedColormap**_ (инструментарий библиотеки _**Matplotlib**_): <br>`from matplotlib.colors import ListedColormap` <br>`colors = ListedColormap(['red', 'blue'])` # список используемых цветов\n",
        "<br>После этого объект с именем _colors_ можно использовать в качестве значения параметра _cmap_ в _**pylab.scatter**_\n",
        "* Perform visualization of the generated clouds. <br><u>Hint</u>: to represent objects of different classes with dots of different colors, you can use the _**ListedColormap**_ object (_**Matplotlib**_ library toolkit): <br>`from matplotlib.colors import ListedColormap` <br>`colors = ListedColormap(['red', 'blue'])` # list of used colors\n",
        "<br>After that, an object named _colors_ can be used as the value of the _cmap_ parameter in _**pylab.scatter**_\n",
        "<br>\n",
        "\n",
        "4. Поэкспериментировать с величиной шума: задать значения соответствующего параметра равными 4.0, 7.0 и 10.0, вывести графики в одном ряду с заголовками, сообщающими об используемом значении параметра шума.\n",
        "* Experiment with the noise value: set the values of the corresponding parameter to 4.0, 7.0 and 10.0, display graphs in one row with headings reporting the noise parameter value used."
      ]
    },
    {
      "cell_type": "markdown",
      "id": "835afce1",
      "metadata": {
        "id": "835afce1"
      },
      "source": [
        "---\n",
        "\n",
        "1. Используя модуль _**datasets**_ библиотеки _**Scikit-learn**_, сгенерировать модельный набор данных для задачи бинарной классификации в виде двух облаков точек: общее количество точек равно 200, количество признаков, характеризующих объекты, равно 2. Параметр, определяющий степень рассеянности данных, установить равным 5.5. Обеспечить воспроизводимость результатов, задав значение соответствующему параметру.\n",
        "* Using the _**datasets**_ module of the _**Scikit-learn**_ library, generate a model dataset for the binary classification problem in the form of two point clouds: the total number of points is 200, the number of features characterizing objects is 2. The parameter that determines the degree of data dispersion is set to 5.5. Ensure reproducible results by setting the appropriate parameter. <br><br>**teacher's suggestion for the answer of this step:**<br> \n",
        "`from sklearn.datasets import make_blobs`<br>\n",
        "`X, y = make_blobs(n_samples=200, n_features=2, cluster_std=5.5)`\n",
        "<br>And to ensure reproducibility of results, `random_state` parameter is used"
      ]
    },
    {
      "cell_type": "code",
      "execution_count": null,
      "id": "d646e92b",
      "metadata": {
        "id": "d646e92b"
      },
      "outputs": [],
      "source": [
        "from sklearn.datasets import make_blobs\n",
        "X, y = make_blobs(n_samples=200, n_features=2, cluster_std=5.5, random_state=1, centers=2) # center=2 for binary, default is 3"
      ]
    },
    {
      "cell_type": "markdown",
      "id": "c8f5ffb1",
      "metadata": {
        "id": "c8f5ffb1"
      },
      "source": [
        "---\n",
        "\n",
        "2. Вывести сгенерированные координаты точек и метки классов.\n",
        "* Output the generated point coordinates and class labels."
      ]
    },
    {
      "cell_type": "code",
      "execution_count": null,
      "id": "68b319e2",
      "metadata": {
        "id": "68b319e2",
        "outputId": "9705b99b-a98b-44df-c83a-b27ddf578dcc"
      },
      "outputs": [
        {
          "name": "stdout",
          "output_type": "stream",
          "text": [
            "Coordinates:\n",
            " [[-1.45636579e+01 -8.79652535e+00]\n",
            " [-1.65004622e+01 -7.61499840e+00]\n",
            " [-1.30639335e+01  1.21207955e+00]\n",
            " [-3.80839830e-01  8.16052261e+00]\n",
            " [ 9.32344429e-02 -8.49242842e-01]\n",
            " [-3.97704760e-02 -1.11348466e+01]\n",
            " [-8.88296171e-02  9.27476627e+00]\n",
            " [-2.03000979e+01  1.11003460e+00]\n",
            " [-5.80874858e+00  1.12972647e+01]\n",
            " [-7.98288642e+00 -9.69859015e+00]\n",
            " [-1.09228061e+01 -4.91134044e+00]\n",
            " [-1.90766795e+01 -8.85140426e+00]\n",
            " [ 1.10795657e+00  1.15192322e+01]\n",
            " [-1.15901982e-01  4.00437000e+00]\n",
            " [-1.07455878e+01 -8.33833237e+00]\n",
            " [-2.53596800e+01  6.70305993e+00]\n",
            " [-8.47696633e+00 -7.98634237e+00]\n",
            " [-1.48227609e+01 -8.72617827e+00]\n",
            " [-7.79356024e-01  9.22541893e+00]\n",
            " [-3.86860613e+00 -7.17923021e+00]\n",
            " [-2.01485157e+00 -7.35255121e+00]\n",
            " [-1.54813214e+01 -4.54071547e+00]\n",
            " [-1.17934597e+01 -1.13380654e+01]\n",
            " [ 4.57617203e+00 -1.64291210e+00]\n",
            " [ 2.70087786e+00  9.77070856e-01]\n",
            " [-7.80476682e+00  5.69577621e+00]\n",
            " [-8.62314619e-03  2.46911571e+00]\n",
            " [-4.50357942e+00 -1.07715768e+00]\n",
            " [-1.06356310e+01 -4.91837288e+00]\n",
            " [-5.39968655e+00  4.53512656e+00]\n",
            " [-6.39752166e+00 -4.23488501e+00]\n",
            " [-1.38798353e+01  2.60642483e+00]\n",
            " [ 1.96521397e+00 -4.54442100e+00]\n",
            " [-1.18951422e+01 -5.22296713e+00]\n",
            " [-1.22617279e+01  3.07855591e+00]\n",
            " [ 4.72230223e+00  6.43869981e+00]\n",
            " [ 2.08082421e+00  2.64758107e+00]\n",
            " [ 1.20360995e+00 -1.88738777e+00]\n",
            " [-7.46130995e+00 -1.04212532e+01]\n",
            " [-8.66303058e+00 -2.84328256e+00]\n",
            " [-8.42487965e+00  7.43444610e+00]\n",
            " [-9.60218584e+00  1.63192762e+00]\n",
            " [-1.71836499e+01 -3.53325591e+00]\n",
            " [ 9.51551224e-02  3.03495280e+00]\n",
            " [-1.42982268e+01 -6.35964795e+00]\n",
            " [-1.67063067e+01  9.51817902e+00]\n",
            " [-4.56450454e+00 -1.49483755e+00]\n",
            " [ 6.67200161e+00  5.81866890e-01]\n",
            " [ 1.43562613e+00  5.73054388e+00]\n",
            " [-5.06956455e+00  8.24566606e+00]\n",
            " [-5.62506898e+00 -6.01275930e+00]\n",
            " [-9.87746690e+00 -6.53105454e+00]\n",
            " [ 4.50823749e+00  6.65544283e+00]\n",
            " [ 7.29251924e+00  6.26555420e+00]\n",
            " [ 5.66345421e+00  2.82629662e+00]\n",
            " [ 7.93690480e+00  2.19851914e-01]\n",
            " [-6.09524740e-01  1.59578931e+01]\n",
            " [-1.30903924e+01  6.79848087e+00]\n",
            " [-2.91164518e-01  2.77496353e+00]\n",
            " [-1.00081157e+01 -1.16347609e+01]\n",
            " [-1.39884967e+01 -8.72607627e+00]\n",
            " [-7.70255148e+00  3.62890033e-01]\n",
            " [-1.87238521e+00 -4.48025808e+00]\n",
            " [-9.13826133e+00 -4.99956419e+00]\n",
            " [-1.68004061e+01  8.63765555e-01]\n",
            " [-1.24657717e+01 -7.65181276e+00]\n",
            " [-9.92427278e+00 -7.77416332e+00]\n",
            " [-3.72362713e+00  8.93472628e-01]\n",
            " [-1.61528472e+01  6.80508542e+00]\n",
            " [-1.10448971e+00 -1.18827370e+00]\n",
            " [-3.13294434e+00  7.32344494e+00]\n",
            " [ 4.05397540e+00  1.64348779e+01]\n",
            " [-1.27378871e+01 -5.66376593e+00]\n",
            " [-1.42428203e+00 -3.35163372e+00]\n",
            " [-1.10238970e+01 -4.26588319e+00]\n",
            " [-1.52525514e+01 -7.30841176e-01]\n",
            " [-3.43285453e+00  2.29419092e+00]\n",
            " [-1.73234467e+01 -1.36371356e+01]\n",
            " [-3.36520216e+00 -8.98511783e+00]\n",
            " [-1.51342431e+01 -6.88496034e+00]\n",
            " [-1.41938044e+00  3.16176154e+00]\n",
            " [ 3.29514782e+00  6.45986643e-01]\n",
            " [-6.36210092e+00  5.90352160e+00]\n",
            " [-1.78437673e+01  5.77043117e+00]\n",
            " [ 7.67944534e-01  3.85563609e+00]\n",
            " [-1.12981157e+01  4.96257026e-02]\n",
            " [-1.42738430e+00  7.61197354e+00]\n",
            " [ 2.68442977e-01 -2.81106889e+00]\n",
            " [ 2.95484887e+00  9.52755132e+00]\n",
            " [ 1.03892886e+01 -6.02349521e+00]\n",
            " [-7.58779759e+00  2.21945722e+00]\n",
            " [-9.21170517e+00  6.13986653e+00]\n",
            " [-6.78215615e+00 -2.16984021e+00]\n",
            " [-1.56380816e+00 -1.76461314e+00]\n",
            " [-5.21760169e+00  9.36466777e+00]\n",
            " [-6.59879207e+00 -4.96631834e+00]\n",
            " [ 1.02728990e+00  3.99084545e+00]\n",
            " [-1.38499043e+01 -5.07201802e+00]\n",
            " [ 1.36409576e+00 -1.20447116e+01]\n",
            " [-1.79495316e+00  1.43100963e-01]\n",
            " [-1.13063932e+01  2.40073483e+00]\n",
            " [-9.98685667e-01  7.80110697e+00]\n",
            " [-8.25553408e+00  9.15488912e+00]\n",
            " [-1.38551068e+01 -6.90807518e+00]\n",
            " [ 6.38203375e+00 -6.92428403e+00]\n",
            " [-7.71296538e+00  1.07024703e+01]\n",
            " [-2.26701855e+00  1.01099852e+00]\n",
            " [ 4.93448843e+00  5.42485017e+00]\n",
            " [ 6.69659041e-01  4.83186024e+00]\n",
            " [-9.90681088e+00 -2.97881609e+00]\n",
            " [-1.38011725e+00  9.03013813e-01]\n",
            " [ 1.25249938e+00  5.16384652e+00]\n",
            " [ 8.81606299e+00  1.05173017e+01]\n",
            " [-1.06602676e+01 -1.07355126e+01]\n",
            " [ 1.06410238e+00  3.44562249e+00]\n",
            " [-5.30784016e+00 -3.75886801e+00]\n",
            " [-2.37831361e+01 -1.55812501e+01]\n",
            " [-1.56180852e+01  4.16556770e-01]\n",
            " [-7.68157506e+00  5.33809325e+00]\n",
            " [-1.24299735e+01 -2.17394810e+00]\n",
            " [-1.04625067e+01 -5.58883890e+00]\n",
            " [-8.43159789e+00 -2.50977760e+00]\n",
            " [-2.68569365e+00  3.84688757e+00]\n",
            " [-5.68911445e-01  5.06103742e+00]\n",
            " [-9.89542915e-01  1.06186514e+01]\n",
            " [-1.26122633e+01 -1.32649255e+00]\n",
            " [-6.59574728e+00 -6.39079417e+00]\n",
            " [-1.01922361e+01  7.65497925e+00]\n",
            " [ 5.59644124e-01  7.67117175e+00]\n",
            " [-9.66358643e+00 -2.79216239e+00]\n",
            " [-2.60791505e+00 -4.21731430e-01]\n",
            " [ 4.56440173e+00  1.27654824e+01]\n",
            " [-7.28986145e+00 -7.69707832e+00]\n",
            " [-1.79225306e+01  2.82404334e+00]\n",
            " [-1.13957018e+01  3.74579314e+00]\n",
            " [-3.34368198e+00  8.96035040e+00]\n",
            " [-5.43900976e+00 -2.42141159e-01]\n",
            " [-2.12023192e+01 -1.46375890e+01]\n",
            " [ 2.80067429e+00  1.01509214e+01]\n",
            " [-7.16480763e+00 -1.92572881e+01]\n",
            " [ 7.46935207e+00  8.48773275e+00]\n",
            " [-1.29994704e+01 -5.04695679e+00]\n",
            " [-9.47287452e+00  1.11462683e+00]\n",
            " [-6.57779323e+00 -7.25227347e+00]\n",
            " [-1.15327500e+01  4.97232143e+00]\n",
            " [ 3.10018206e+00 -8.25197296e+00]\n",
            " [-2.06859912e+01 -2.01462954e+00]\n",
            " [-3.55075512e+00  4.64627258e+00]\n",
            " [-5.34820248e+00  6.48309069e+00]\n",
            " [-2.65462157e+00  1.08492642e+00]\n",
            " [-2.71465544e+00 -4.75469434e-01]\n",
            " [-8.65863306e+00  6.13100233e+00]\n",
            " [-3.81894561e+00 -2.27437983e+00]\n",
            " [-3.94038861e-01  8.59755136e+00]\n",
            " [ 2.41350058e+00 -8.38863441e-01]\n",
            " [-5.76893052e+00  1.37149902e+01]\n",
            " [ 3.11931396e+00  8.53375389e+00]\n",
            " [ 5.34609771e+00  1.52255495e+01]\n",
            " [-6.33472256e-01  6.66177393e+00]\n",
            " [-1.61382976e+01 -3.50824949e+00]\n",
            " [-5.30466578e+00 -6.22500975e+00]\n",
            " [ 2.99432366e+00 -3.20847806e-01]\n",
            " [-1.96553035e+01 -2.20057612e-02]\n",
            " [-9.41348752e+00 -1.23445903e+01]\n",
            " [-7.94341000e+00  2.48510490e+00]\n",
            " [-3.86438996e+00  8.93852077e+00]\n",
            " [-1.10705279e+01  4.76315286e-01]\n",
            " [ 1.28374143e+00 -7.32207546e-01]\n",
            " [ 3.76528363e+00  5.58092633e+00]\n",
            " [-2.80847819e+00  7.63291742e+00]\n",
            " [-1.84610754e+01 -6.41677206e+00]\n",
            " [-2.33545615e+00 -7.40242020e-01]\n",
            " [ 7.64323039e-02 -6.71561682e+00]\n",
            " [ 1.22462315e+01  3.03899859e+00]\n",
            " [-1.18784602e+01  1.12053920e+01]\n",
            " [-1.06026657e+01 -3.90632935e+00]\n",
            " [-2.41000600e+00  3.75169184e+00]\n",
            " [-5.46369404e+00  2.22434547e+00]\n",
            " [ 1.03611048e+01 -3.27423998e+00]\n",
            " [-5.82428137e+00  9.13649932e-01]\n",
            " [ 1.65319614e+00  6.71804199e+00]\n",
            " [-8.44299609e+00 -8.49688442e+00]\n",
            " [-2.88236469e+00  3.30232049e+00]\n",
            " [ 2.75067577e+00  4.66261001e+00]\n",
            " [-1.23154370e+00  7.80758131e+00]\n",
            " [-6.58175765e+00  1.30532083e+00]\n",
            " [-2.35942582e+00 -7.59074188e+00]\n",
            " [-4.44201303e+00  1.10675009e+00]\n",
            " [-6.56922053e+00 -6.34561030e+00]\n",
            " [-4.11876701e+00  1.11412822e+01]\n",
            " [-1.92057894e+01  5.84315487e-01]\n",
            " [-1.47349525e+01 -2.42435156e-01]\n",
            " [-3.12376169e+00  4.58586988e+00]\n",
            " [ 1.76034187e+00 -8.27378553e+00]\n",
            " [-2.25624250e+00 -3.24328986e+00]\n",
            " [-9.26044742e+00  2.65795319e+00]\n",
            " [ 1.16155411e+00  2.76697928e+00]\n",
            " [-5.35141363e+00  4.33683457e+00]\n",
            " [-7.63531873e+00 -7.29183974e+00]\n",
            " [ 3.29918906e+00  7.17020873e+00]]\n",
            "Labels:\n",
            " [1 1 1 0 1 1 0 1 0 1 1 1 0 0 1 1 1 1 0 1 1 1 1 0 0 0 0 0 1 1 1 1 0 1 1 0 0\n",
            " 0 1 1 0 0 1 0 1 1 0 1 0 0 1 1 0 0 0 0 0 1 0 1 1 1 0 1 1 1 1 0 1 1 0 0 1 1\n",
            " 1 1 0 1 0 1 0 0 1 1 0 1 0 0 0 0 1 0 1 0 0 1 0 1 1 0 1 0 0 1 0 0 0 0 0 1 0\n",
            " 0 0 1 0 1 1 1 0 1 1 1 0 0 0 1 1 1 0 1 0 0 1 1 1 0 0 1 0 1 0 1 1 1 1 0 1 0\n",
            " 0 0 0 0 1 0 0 0 0 0 0 1 1 0 1 1 0 0 1 1 0 0 1 0 0 0 0 1 0 0 0 1 0 1 0 0 0\n",
            " 1 1 1 1 0 1 1 0 1 1 1 0 0 1 0]\n"
          ]
        }
      ],
      "source": [
        "print(\"Coordinates:\\n\", X)\n",
        "print(\"Labels:\\n\", y)"
      ]
    },
    {
      "cell_type": "markdown",
      "id": "57595c3b",
      "metadata": {
        "id": "57595c3b"
      },
      "source": [
        "---\n",
        "\n",
        "3. Выполнить визуализацию сгенерированных облаков. <br><u>Указание</u>: для представления объектов разных классов точками разных цветов можно использовать объект _**ListedColormap**_ (инструментарий библиотеки _**Matplotlib**_): <br>`from matplotlib.colors import ListedColormap` <br>`colors = ListedColormap(['red', 'blue'])` # список используемых цветов\n",
        "<br>После этого объект с именем _colors_ можно использовать в качестве значения параметра _cmap_ в _**pylab.scatter**_\n",
        "* Perform visualization of the generated clouds. <br><u>Hint</u>: to represent objects of different classes with dots of different colors, you can use the _**ListedColormap**_ object (_**Matplotlib**_ library toolkit): <br>`from matplotlib.colors import ListedColormap` <br>`colors = ListedColormap(['red', 'blue'])` # list of used colors\n",
        "<br>After that, an object named _colors_ can be used as the value of the _cmap_ parameter in _**pylab.scatter**_"
      ]
    },
    {
      "cell_type": "code",
      "execution_count": null,
      "id": "067f0b8d",
      "metadata": {
        "id": "067f0b8d",
        "outputId": "61a91373-78a2-478b-d8d1-8f619e7ac5cb"
      },
      "outputs": [
        {
          "data": {
            "image/png": "[encoded data removed]",
            "text/plain": [
              "<Figure size 432x288 with 1 Axes>"
            ]
          },
          "metadata": {
            "needs_background": "light"
          },
          "output_type": "display_data"
        }
      ],
      "source": [
        "import pylab\n",
        "import matplotlib.pyplot as plt\n",
        "from matplotlib.colors import ListedColormap\n",
        "\n",
        "colors = ListedColormap(['red', 'blue'])\n",
        "pylab.scatter(X[:, 0], X[:, 1], c=y , cmap=colors);"
      ]
    },
    {
      "cell_type": "markdown",
      "id": "ecb874fb",
      "metadata": {
        "id": "ecb874fb"
      },
      "source": [
        "---\n",
        "\n",
        "4. Поэкспериментировать с величиной шума: задать значения соответствующего параметра равными 4.0, 7.0 и 10.0, вывести графики в одном ряду с заголовками, сообщающими об используемом значении параметра шума.\n",
        "* Experiment with the noise value: set the values of the corresponding parameter to 4.0, 7.0 and 10.0, display graphs in one row with headings reporting the noise parameter value used."
      ]
    },
    {
      "cell_type": "code",
      "execution_count": null,
      "id": "71f4a6cf",
      "metadata": {
        "id": "71f4a6cf",
        "outputId": "5e075cae-c749-493a-d5ee-67faca3e8915"
      },
      "outputs": [
        {
          "data": {
            "image/png": "[encoded data removed]",
            "text/plain": [
              "<Figure size 432x288 with 1 Axes>"
            ]
          },
          "metadata": {
            "needs_background": "light"
          },
          "output_type": "display_data"
        },
        {
          "data": {
            "image/png": "[encoded data removed]",
            "text/plain": [
              "<Figure size 432x288 with 1 Axes>"
            ]
          },
          "metadata": {
            "needs_background": "light"
          },
          "output_type": "display_data"
        },
        {
          "data": {
            "image/png": "[encoded data removed]",
            "text/plain": [
              "<Figure size 432x288 with 1 Axes>"
            ]
          },
          "metadata": {
            "needs_background": "light"
          },
          "output_type": "display_data"
        }
      ],
      "source": [
        "X_4, y_4 = make_blobs(n_samples=200, n_features=2, cluster_std=4.0, random_state=1)\n",
        "pylab.scatter(X_4[:, 0], X_4[:, 1], c=y_4 , cmap=colors)\n",
        "pylab.title(\"Noise = 4.0\")\n",
        "pylab.show()\n",
        "\n",
        "X_7, y_7 = make_blobs(n_samples=200, n_features=2, cluster_std=7.0, random_state=1)\n",
        "pylab.scatter(X_7[:, 0], X_7[:, 1], c=y_7 , cmap=colors)\n",
        "pylab.title(\"Noise = 7.0\")\n",
        "pylab.show()\n",
        "\n",
        "X_10, y_10 = make_blobs(n_samples=200, n_features=2, cluster_std=10.0, random_state=1)\n",
        "pylab.scatter(X_10[:, 0], X_10[:, 1], c=y_10 , cmap=colors)\n",
        "pylab.title(\"Noise = 10.0\")\n",
        "pylab.show()"
      ]
    },
    {
      "cell_type": "markdown",
      "id": "826f22a7",
      "metadata": {
        "id": "826f22a7"
      },
      "source": [
        "---\n",
        "\n",
        "**Задание 2.**\n",
        "\n",
        "1. Выполнить разбиение набора данных, полученного в п. 1 задания 1, на обучающую и тестовую выборки в соотношении 70/30.\n",
        "* Split the data set obtained into training and test samples in the ratio of 70/30.\n",
        "<br>\n",
        "\n",
        "2. Создать модель линейной классификации, использующую $L_{2}$-регуляризатор, и обучить ее на обучающей выборке (значение коэффициента регуляризации оставить по умолчанию).\n",
        "* Create a linear classification model using the $L_{2}$-regularizer and train it on the training set (leave the default value of the regularization coefficient).\n",
        "<br>\n",
        "\n",
        "3. Получить предсказания обученной модели для объектов тестовой выборки. Вывести массив ответов на тестовой выборке и массив предсказанных моделью значений. Оценить качество классификации с помощью метрики _**accuracy**_; дать интерпретацию полученной оценки.\n",
        "* Obtain trained model predictions for test set objects. Output an array of responses on the test sample and an array of values predicted by the model. Evaluate the quality of classification using the _**accuracy**_ metric; give an interpretation of the obtained estimate.\n",
        "<br>\n",
        "\n",
        "4. Создать несколько моделей линейной классификации, использующих $L_{2}$ и $L_{1}$-регуляризаторы и различные функции потерь, используя _**SGDClassifier**_. Обучить построенные модели на обучающей выборке. Оценить качество всех полученных классификаторов.\n",
        "* Create several linear classification models using $L_{2}$ and $L_{1}$-regularizers and various loss functions using _**SGDClassifier**_. Train the built models on the training set. Assess the quality of all received classifiers.\n",
        "<br>\n",
        "\n",
        "5. Создать отчет по результатам выполнения п. 1: постановка задачи, описание каждой модели (используемая функция потерь, используемый регуляризатор, используемое значение коэффициента регуляризации, полученные результаты, выводы).\n",
        "* Write down your comments based on the results: problem statement, description of each model (loss function used, regularizer used, regularization coefficient value used, results obtained, conclusions)."
      ]
    },
    {
      "cell_type": "markdown",
      "id": "c41f94bc",
      "metadata": {
        "id": "c41f94bc"
      },
      "source": [
        "---\n",
        "\n",
        "1. Выполнить разбиение набора данных, полученного в п. 1 задания 1, на обучающую и тестовую выборки в соотношении 70/30.\n",
        "* Split the data set obtained into training and test samples in the ratio of 70/30."
      ]
    },
    {
      "cell_type": "code",
      "execution_count": null,
      "id": "80252be1",
      "metadata": {
        "id": "80252be1"
      },
      "outputs": [],
      "source": [
        "from sklearn.model_selection import train_test_split\n",
        "X_train, X_test, y_train, y_test = train_test_split(X, y, test_size=0.3, random_state=0)"
      ]
    },
    {
      "cell_type": "markdown",
      "id": "cac1bb86",
      "metadata": {
        "id": "cac1bb86"
      },
      "source": [
        "---\n",
        "\n",
        "2. Создать модель линейной классификации, использующую $L_{2}$-регуляризатор, и обучить ее на обучающей выборке (значение коэффициента регуляризации оставить по умолчанию).\n",
        "* Create a linear classification model using the $L_{2}$-regularizer and train it on the training set (leave the default value of the regularization coefficient)."
      ]
    },
    {
      "cell_type": "code",
      "execution_count": null,
      "id": "43b6900f",
      "metadata": {
        "id": "43b6900f",
        "outputId": "2207d6d8-43b5-4bdc-d9d1-da8da82eb013"
      },
      "outputs": [
        {
          "data": {
            "text/plain": [
              "RidgeClassifier()"
            ]
          },
          "execution_count": 6,
          "metadata": {},
          "output_type": "execute_result"
        }
      ],
      "source": [
        "from sklearn.linear_model import RidgeClassifier\n",
        "ridge_reg = RidgeClassifier() # RidgeClassifier instead of Ridge\n",
        "ridge_reg.fit(X_train,y_train)"
      ]
    },
    {
      "cell_type": "markdown",
      "id": "81c67894",
      "metadata": {
        "id": "81c67894"
      },
      "source": [
        "---\n",
        "\n",
        "3. Получить предсказания обученной модели для объектов тестовой выборки. Вывести массив ответов на тестовой выборке и массив предсказанных моделью значений. Оценить качество классификации с помощью метрики _**accuracy**_; дать интерпретацию полученной оценки.\n",
        "* Obtain trained model predictions for test set objects. Output an array of responses on the test sample and an array of values predicted by the model. Evaluate the quality of classification using the _**accuracy**_ metric; give an interpretation of the obtained estimate."
      ]
    },
    {
      "cell_type": "code",
      "execution_count": null,
      "id": "22a9d30a",
      "metadata": {
        "id": "22a9d30a",
        "outputId": "69d8d8e2-7d4f-4af7-d502-2254448ecbbe"
      },
      "outputs": [
        {
          "name": "stdout",
          "output_type": "stream",
          "text": [
            "Actual values:\n",
            " [0 1 0 1 0 0 1 1 0 1 1 1 0 0 0 1 1 0 0 1 0 0 1 1 1 0 1 1 0 1 1 0 0 0 1 0 1\n",
            " 1 1 0 1 1 0 1 0 1 0 1 0 1 0 0 0 1 0 0 1 1 0 0] \n",
            "\n",
            "Predicted values:\n",
            " [0 1 0 1 0 0 1 1 0 1 1 1 0 0 0 1 1 0 0 1 0 0 1 1 1 0 0 1 0 1 1 0 0 0 1 0 1\n",
            " 0 1 0 1 1 0 1 0 1 0 1 0 1 0 0 0 1 0 0 1 1 0 0]\n",
            "\n",
            "Accuracy is: 0.9666666666666667\n"
          ]
        }
      ],
      "source": [
        "from sklearn.metrics import accuracy_score\n",
        "\n",
        "# predictions for the test data set\n",
        "y_predicted = ridge_reg.predict(X_test)\n",
        "print(\"Actual values:\\n\", y_test,\"\\n\")\n",
        "print(\"Predicted values:\\n\", y_predicted)\n",
        "\n",
        "# accuracy metric\n",
        "print(\"\\nAccuracy is:\", accuracy_score(y_test, y_predicted))"
      ]
    },
    {
      "cell_type": "markdown",
      "id": "0549dae3",
      "metadata": {
        "id": "0549dae3"
      },
      "source": [
        "#### The results obtained is about 97% accurate which means the model is predicting well\n",
        "#### Полученные результаты точны примерно на 97%, означает что модель дает хороших прогнозов"
      ]
    },
    {
      "cell_type": "markdown",
      "id": "b7b5c5eb",
      "metadata": {
        "id": "b7b5c5eb"
      },
      "source": [
        "---\n",
        "\n",
        "4. Создать несколько моделей линейной классификации, использующих $L_{2}$ и $L_{1}$-регуляризаторы и различные функции потерь, используя _**SGDClassifier**_. Обучить построенные модели на обучающей выборке. Оценить качество всех полученных классификаторов.\n",
        "* Create several linear classification models using $L_{2}$ and $L_{1}$-regularizers and various loss functions using _**SGDClassifier**_. Train the built models on the training set. Assess the quality of all received classifiers."
      ]
    },
    {
      "cell_type": "code",
      "execution_count": null,
      "id": "9a2ddcb2",
      "metadata": {
        "id": "9a2ddcb2",
        "outputId": "cb2d63a9-147b-4bc7-a8d3-b177966609dc"
      },
      "outputs": [
        {
          "name": "stdout",
          "output_type": "stream",
          "text": [
            "\n",
            "Lasso accuracy score is: 68.91\n",
            "\n",
            "Ridge accuracy score is: 68.98\n",
            "\n",
            "SGDClassifier with loss function hinge accuracy score is: 86.67\n",
            "\n",
            "SGDClassifier with loss function log accuracy score is: 95.0\n",
            "\n",
            "SGDClassifier with loss function squared_hinge accuracy score is: 98.33\n"
          ]
        }
      ],
      "source": [
        "# L1 : Linear Model trained with L1 prior as regularizer (aka Lasso)\n",
        "from sklearn.linear_model import Lasso\n",
        "lasso_reg = Lasso(alpha=0.01)\n",
        "lasso_reg.fit(X_train,y_train)\n",
        "print(\"\\nLasso accuracy score is:\", round(lasso_reg.score(X_test,y_test)*100,2))\n",
        "\n",
        "# L2 : Linear least squares with l2 regularization (aka Ridge)\n",
        "from sklearn.linear_model import Ridge\n",
        "ridge_reg = Ridge(alpha=0.01)\n",
        "ridge_reg.fit(X_train,y_train)\n",
        "print(\"\\nRidge accuracy score is:\", round(ridge_reg.score(X_test,y_test)*100,2))\n",
        "\n",
        "# SGDClassifier\n",
        "# ‘hinge’ gives a linear support-vector machine (SVM)\n",
        "# ‘log’ loss gives logistic regression\n",
        "# ‘squared_hinge’ is like hinge but is quadratically penalized\n",
        "\n",
        "from sklearn.linear_model import SGDClassifier\n",
        "\n",
        "SGDClf = SGDClassifier(loss = 'hinge',max_iter = 1000, tol=0.001,shuffle=False,penalty=\"l2\")\n",
        "SGDClf.fit(X_train, y_train)\n",
        "print(\"\\nSGDClassifier with loss function hinge accuracy score is:\", round(SGDClf.score(X_test,y_test)*100,2))\n",
        "\n",
        "SGDClf1 = SGDClassifier(loss = 'log', tol=0.001,shuffle=False,penalty=\"l2\")\n",
        "SGDClf1.fit(X_train, y_train)\n",
        "print(\"\\nSGDClassifier with loss function log accuracy score is:\", round(SGDClf1.score(X_test,y_test)*100,2))\n",
        "\n",
        "SGDClf2 = SGDClassifier(loss = 'squared_hinge', tol=0.001,shuffle=False,penalty=\"l2\")\n",
        "SGDClf2.fit(X_train, y_train)\n",
        "print(\"\\nSGDClassifier with loss function squared_hinge accuracy score is:\", round(SGDClf2.score(X_test,y_test)*100,2))"
      ]
    },
    {
      "cell_type": "markdown",
      "id": "a4b1b69f",
      "metadata": {
        "id": "a4b1b69f"
      },
      "source": [
        "#### Выводы:\n",
        "\n",
        "* Lasso, Ridge выдают плохой результат по сравнению с другими моделями.\n",
        "* SGDClassifier c loss function hinge выдает результат среднего качества.\n",
        "* SGDClassifier c loss function log_loss выдает очень хороший результат.\n",
        "* Лучший результат показывает SGDClassifier loss function squared_hinge, выше чем у всех предыдущих моделей."
      ]
    },
    {
      "cell_type": "markdown",
      "id": "db7f05c3",
      "metadata": {
        "id": "db7f05c3"
      },
      "source": [
        "---\n",
        "\n",
        "**Задание 3.**\n",
        "\n",
        "1. Выбрать две лучшие (по метрике _**accuracy**_) модели из числа классификаторов, полученных при выполнении задания 2. Используя инструментарий модуля _**sklearn.metrics**_, оценить качество этих моделей с помощью метрик _**precision**_, _**recall**_ и _**F–меры**_.\n",
        "* Select the two best (according to the _**accuracy**_ metric) models from among the classifiers obtained above. Using the _**sklearn.metrics**_ module toolkit, evaluate the quality of these models using the _**precision**_, _**recall**_ and _**F–measures**_ metrics.\n",
        "<br>\n",
        "\n",
        "2. Получить матрицу ошибок. Используя эту матрицу, посчитать (по формулам) значения _**precision**_, _**recall**_ и _**F–меры**_, сравнить полученные значения с результатами, полученными в п. 1.\n",
        "* Get error matrix. Using this matrix, calculate (according to formulas) the values of _**precision**_, _**recall**_ and _**F–measures**_, compare the obtained values with the results obtained in the previous step.\n",
        "<br>\n",
        "\n",
        "3. Получить для рассматриваемых моделей значения _**FPR**_ и _**TPR**_ (на обучающей и тестовой выборке отдельно). Выполнить вычисления с помощью функции _**roc_curve**_ и непосредственно по матрице ошибок. Сравнить результаты.\n",
        "* Obtain the _**FPR**_ and _**TPR**_ values for the models under consideration (separately on the training and test sets). Perform calculations using the _**roc_curve**_ function and directly on the error matrix. Compare results.\n",
        "<br>\n",
        "\n",
        "4. Построить ROC-кривые (для обучающей и тестовой выборки).\n",
        "* Build ROC curves (for training and test sets).\n",
        "<br>\n",
        "\n",
        "5. Проанализировать все полученные результаты, дать им интерпретацию.\n",
        "* Write down an analysis of the results obtained with an interpretation."
      ]
    },
    {
      "cell_type": "markdown",
      "id": "64040456",
      "metadata": {
        "id": "64040456"
      },
      "source": [
        "---\n",
        "\n",
        "1. Выбрать две лучшие (по метрике _**accuracy**_) модели из числа классификаторов, полученных при выполнении задания 2. Используя инструментарий модуля _**sklearn.metrics**_, оценить качество этих моделей с помощью метрик _**precision**_, _**recall**_ и _**F–меры**_.\n",
        "* Select the two best (according to the _**accuracy**_ metric) models from among the classifiers obtained above. Using the _**sklearn.metrics**_ module toolkit, evaluate the quality of these models using the _**precision**_, _**recall**_ and _**F–measures**_ metrics."
      ]
    },
    {
      "cell_type": "code",
      "execution_count": null,
      "id": "a1255fb8",
      "metadata": {
        "id": "a1255fb8",
        "outputId": "c9ff2a31-798e-4de6-80b6-c9f8805bf525"
      },
      "outputs": [
        {
          "name": "stdout",
          "output_type": "stream",
          "text": [
            "<< Classification report for SGDClassifier with loss function log >>\n",
            "Precision:  1.0\n",
            "Recall:  0.9\n",
            "F-1 score:  0.947\n",
            "\n",
            "<< Classification report for SGDClassifier with loss function squared-hinge >>\n",
            "Precision:  1.0\n",
            "Recall:  0.967\n",
            "F-1 score:  0.983\n",
            "\n"
          ]
        }
      ],
      "source": [
        "from sklearn.metrics import precision_score, recall_score, f1_score\n",
        "\n",
        "y_predict = SGDClf1.predict(X_test)\n",
        "print(\"<< Classification report for SGDClassifier with loss function log >>\")\n",
        "print(\"Precision: \", round(precision_score(y_test, y_predict), 3))\n",
        "print(\"Recall: \", round(recall_score(y_test, y_predict), 3))\n",
        "print(\"F-1 score: \", round(f1_score(y_test, y_predict), 3))\n",
        "print(\"\")\n",
        "y_predict1 = SGDClf2.predict(X_test)\n",
        "print(\"<< Classification report for SGDClassifier with loss function squared-hinge >>\")\n",
        "print(\"Precision: \", round(precision_score(y_test, y_predict1), 3))\n",
        "print(\"Recall: \", round(recall_score(y_test, y_predict1), 3))\n",
        "print(\"F-1 score: \", round(f1_score(y_test, y_predict1), 3))\n",
        "print(\"\")"
      ]
    },
    {
      "cell_type": "code",
      "execution_count": null,
      "id": "81944543",
      "metadata": {
        "id": "81944543",
        "outputId": "5b0cb147-c094-4903-8af6-86047afb0037"
      },
      "outputs": [
        {
          "name": "stdout",
          "output_type": "stream",
          "text": [
            "<< Classification report for loss function log >>\n",
            "\n",
            "               precision    recall  f1-score   support\n",
            "\n",
            "           0       0.91      1.00      0.95        30\n",
            "           1       1.00      0.90      0.95        30\n",
            "\n",
            "    accuracy                           0.95        60\n",
            "   macro avg       0.95      0.95      0.95        60\n",
            "weighted avg       0.95      0.95      0.95        60\n",
            "\n",
            "\n",
            "\n",
            "<< Classification report for loss function squared-hinge >>\n",
            "\n",
            "               precision    recall  f1-score   support\n",
            "\n",
            "           0       0.97      1.00      0.98        30\n",
            "           1       1.00      0.97      0.98        30\n",
            "\n",
            "    accuracy                           0.98        60\n",
            "   macro avg       0.98      0.98      0.98        60\n",
            "weighted avg       0.98      0.98      0.98        60\n",
            "\n"
          ]
        }
      ],
      "source": [
        "from sklearn.metrics import classification_report\n",
        "\n",
        "y_predict = SGDClf1.predict(X_test)\n",
        "print(\"<< Classification report for loss function log >>\\n\\n\",classification_report(y_test,y_predict))\n",
        "print(\"\")\n",
        "print(\"\")\n",
        "y_predict1 = SGDClf2.predict(X_test)\n",
        "print(\"<< Classification report for loss function squared-hinge >>\\n\\n\",classification_report(y_test,y_predict1))"
      ]
    },
    {
      "cell_type": "markdown",
      "id": "0e716439",
      "metadata": {
        "id": "0e716439"
      },
      "source": [
        "---\n",
        "\n",
        "2. Получить матрицу ошибок. Используя эту матрицу, посчитать (по формулам) значения _**precision**_, _**recall**_ и _**F–меры**_, сравнить полученные значения с результатами, полученными в п. 1.\n",
        "* Get error matrix. Using this matrix, calculate (according to formulas) the values of _**precision**_, _**recall**_ and _**F–measures**_, compare the obtained values with the results obtained in the previous step."
      ]
    },
    {
      "cell_type": "code",
      "execution_count": null,
      "id": "ad1836d6",
      "metadata": {
        "id": "ad1836d6",
        "outputId": "838ff7c0-6dcf-4631-ced1-416dc9b47576"
      },
      "outputs": [
        {
          "name": "stdout",
          "output_type": "stream",
          "text": [
            "<< For log function >>\n",
            "\n",
            "Confusion matrix:\n",
            "\n",
            " [[30  0]\n",
            " [ 3 27]] \n",
            "\n",
            "    Precision         Recall            f1 score\n",
            "0   1.0               0.91               0.95\n",
            "1   1.0               0.9               0.95\n",
            "\n",
            "\n",
            "<< For squared-hinge function >>\n",
            "\n",
            "Confusion matrix:\n",
            "\n",
            " [[30  0]\n",
            " [ 1 29]] \n",
            "\n",
            "    Precision         Recall            f1 score\n",
            "0   1.0               0.97               0.98\n",
            "1   1.0               0.97              0.98\n"
          ]
        }
      ],
      "source": [
        "from sklearn.metrics import confusion_matrix \n",
        "\n",
        "print(\"<< For log function >>\\n\")\n",
        "cm = confusion_matrix(y_test,y_predict)\n",
        "print(\"Confusion matrix:\\n\\n\", cm, '\\n')\n",
        "\n",
        "# https://developers.google.com/machine-learning/crash-course/classification/true-false-positive-negative\n",
        "# calculate true positive, false positive/negative for each label and then use this to calculate precision, recall, etc.\n",
        "\n",
        "true_positive_0_label = cm[0][0]\n",
        "false_positive_0_label = cm[1][0]\n",
        "false_negative_0_label = cm[0][1]\n",
        "precision_0_label = true_positive_0_label/(true_positive_0_label+false_positive_0_label)\n",
        "recall_0_label = true_positive_0_label/(true_positive_0_label+false_negative_0_label)\n",
        "f1score_0_label = (2*precision_0_label*recall_0_label)/(precision_0_label+recall_0_label)\n",
        "\n",
        "true_positive_1_label = cm[1][1]\n",
        "false_positive_1_label = cm[0][1]\n",
        "false_negative_1_label = cm[1][0]\n",
        "precision_1_label = true_positive_1_label/(true_positive_1_label+false_positive_1_label)\n",
        "recall_1_label = true_positive_1_label/(true_positive_1_label+false_negative_1_label)\n",
        "f1score_1_label = (2*precision_1_label*recall_1_label)/(precision_1_label+recall_1_label)\n",
        "\n",
        "print(\"    Precision         Recall            f1 score\")\n",
        "print(\"0  \",round(recall_0_label,2),\"             \",round(precision_0_label,2),\"             \",round(f1score_0_label,2))\n",
        "print(\"1  \",round(precision_1_label,2),\"             \",round(recall_1_label,2),\"             \",round(f1score_1_label,2))\n",
        "\n",
        "\n",
        "print(\"\\n\\n<< For squared-hinge function >>\\n\")\n",
        "cm = confusion_matrix(y_test,y_predict1)\n",
        "print(\"Confusion matrix:\\n\\n\",cm, '\\n')\n",
        "\n",
        "true_positive_0_label = cm[0][0]\n",
        "false_positive_0_label = cm[1][0]\n",
        "false_negative_0_label = cm[0][1]\n",
        "precision_0_label = true_positive_0_label/(true_positive_0_label+false_positive_0_label)\n",
        "recall_0_label = true_positive_0_label/(true_positive_0_label+false_negative_0_label)\n",
        "f1score_0_label = (2*precision_0_label*recall_0_label)/(precision_0_label+recall_0_label)\n",
        "\n",
        "true_positive_1_label = cm[1][1]\n",
        "false_positive_1_label = cm[0][1]\n",
        "false_negative_1_label = cm[1][0]\n",
        "precision_1_label = true_positive_1_label/(true_positive_1_label+false_positive_1_label)\n",
        "recall_1_label = true_positive_1_label/(true_positive_1_label+false_negative_1_label)\n",
        "f1score_1_label = (2*precision_1_label*recall_1_label)/(precision_1_label+recall_1_label)\n",
        "\n",
        "print(\"    Precision         Recall            f1 score\")\n",
        "print(\"0  \",round(recall_0_label,2),\"             \",round(precision_0_label,2),\"             \",round(f1score_0_label,2))\n",
        "print(\"1  \",round(precision_1_label,2),\"             \",round(recall_1_label,2),\"            \",round(f1score_1_label,2))"
      ]
    },
    {
      "cell_type": "markdown",
      "id": "2c489868",
      "metadata": {
        "id": "2c489868"
      },
      "source": [
        "Посчитаем метрики для \"SGDClassifier with loss function log\":\n",
        "\n",
        "$$precision = \\frac{TP}{TP + FP} = \\frac{30}{30 + 0} = 1$$\n",
        "$$recall = \\frac{TP}{TP + FN} = \\frac{30}{30 + 3} = 0.(90) \\approx 0.9$$\n",
        "$$F_{score} = (1 + \\beta^2) \\times \\frac{precision \\times recall}{\\beta^2 \\times precision + recall} \n",
        "= \\frac{2 \\times precision \\times recall}{precision + recall} \n",
        "= \\frac{2 \\times 1 \\times 0.(90)}{1 + 0.(90)}\\approx 0.947$$\n",
        "\n",
        "Посчитаем метрики для \"SGDClassifier with loss function loss function squared-hinge\":\n",
        "\n",
        "$$precision = \\frac{TP}{TP + FP} = \\frac{30}{30 + 0} = 1$$\n",
        "$$recall = \\frac{TP}{TP + FN} = \\frac{30}{30 + 1} \\approx 0.967$$\n",
        "$$F_{score} = (1 + \\beta^2) \\times \\frac{precision \\times recall}{\\beta^2 \\times precision + recall} \n",
        "= \\frac{2 \\times precision \\times recall}{precision + recall} \n",
        "= \\frac{2 \\times 1 \\times 0.967}{1 + 0.967}\\approx 0.983$$\n",
        "\n",
        "Что и следовало ожидать, посчитанные вручную метрики полностью совпадают с посчитанными программными средствами."
      ]
    },
    {
      "cell_type": "markdown",
      "id": "aeac26a1",
      "metadata": {
        "id": "aeac26a1"
      },
      "source": [
        "#### The results of calculated of _**precision**_, _**recall**_ and _**F–measures**_ equally matches with the previous step\n",
        "#### Результаты расчета _**precision**_, _**recall**_ и _**F–меры**_ в равной степени совпадают с предыдущим этапом"
      ]
    },
    {
      "cell_type": "markdown",
      "id": "51d3eade",
      "metadata": {
        "id": "51d3eade"
      },
      "source": [
        "---\n",
        "\n",
        "3. Получить для рассматриваемых моделей значения _**FPR**_ и _**TPR**_ (на обучающей и тестовой выборке отдельно). Выполнить вычисления с помощью функции _**roc_curve**_ и непосредственно по матрице ошибок. Сравнить результаты.\n",
        "* Obtain the _**FPR**_ and _**TPR**_ values for the models under consideration (separately on the training and test sets). Perform calculations using the _**roc_curve**_ function and directly on the error matrix. Compare results."
      ]
    },
    {
      "cell_type": "code",
      "execution_count": null,
      "id": "cc2b12f9",
      "metadata": {
        "id": "cc2b12f9",
        "outputId": "6e9131c8-8317-4762-dd87-d1ed49100154"
      },
      "outputs": [
        {
          "name": "stdout",
          "output_type": "stream",
          "text": [
            "<< Confusion matrix for SGDClassifier with loss function log (on train set) >>\n",
            "[[66  4]\n",
            " [10 60]]\n",
            "\n",
            "<< Confusion matrix for SGDClassifier with loss function squared-hinge (on train set) >>\n",
            "[[62  8]\n",
            " [ 7 63]]\n",
            "\n"
          ]
        }
      ],
      "source": [
        "y_predict_train = SGDClf1.predict(X_train)\n",
        "print(\"<< Confusion matrix for SGDClassifier with loss function log (on train set) >>\")\n",
        "print(confusion_matrix(y_train, y_predict_train))\n",
        "print(\"\")\n",
        "\n",
        "y_predict_train1 = SGDClf2.predict(X_train)\n",
        "print(\"<< Confusion matrix for SGDClassifier with loss function squared-hinge (on train set) >>\")\n",
        "print(confusion_matrix(y_train, y_predict_train1))\n",
        "print(\"\")"
      ]
    },
    {
      "cell_type": "markdown",
      "id": "2cfb416d",
      "metadata": {
        "id": "2cfb416d"
      },
      "source": [
        "Посчитаем метрики для \"SGDClassifier with loss function log\":\n",
        "\n",
        "1. На тренировочном наборе данных:\n",
        "$$TPR = \\frac{TP}{TP + FN} = \\frac{66}{66 + 10} \\approx 0.87$$\n",
        "$$FPR = \\frac{FP}{FP + TN} = \\frac{4}{4 + 60} = 0.0625$$\n",
        "1. На тестовом наборе данных:\n",
        "$$TPR = \\frac{TP}{TP + FN} = \\frac{30}{30 + 3} = 0.(90)$$\n",
        "$$FPR = \\frac{FP}{FP + TN} = \\frac{0}{0 + 27} = 0$$\n",
        "\n",
        "Посчитаем метрики для \"SGDClassifier with loss function squared-hinge\":\n",
        "\n",
        "1. На тренировочном наборе данных:\n",
        "$$TPR = \\frac{TP}{TP + FN} = \\frac{62}{62 + 7} \\approx 0.899$$\n",
        "$$FPR = \\frac{FP}{FP + TN} = \\frac{8}{8 + 63} \\approx 0.113$$\n",
        "1. На тестовом наборе данных:\n",
        "$$TPR = \\frac{TP}{TP + FN} = \\frac{30}{30 + 1} \\approx 0.968$$\n",
        "$$FPR = \\frac{FP}{FP + TN} = \\frac{0}{0 + 29} = 0$$"
      ]
    },
    {
      "cell_type": "markdown",
      "id": "f7f40fee",
      "metadata": {
        "id": "f7f40fee"
      },
      "source": [
        "---\n",
        "\n",
        "4. Построить ROC-кривые (для обучающей и тестовой выборки).\n",
        "* Build ROC curves (for training and test sets)."
      ]
    },
    {
      "cell_type": "code",
      "execution_count": null,
      "id": "513e1b18",
      "metadata": {
        "id": "513e1b18"
      },
      "outputs": [],
      "source": [
        "from sklearn.metrics import roc_curve, auc\n",
        "\n",
        "def plot_roc(classifier, X, y, title):\n",
        "    try:\n",
        "        preds = classifier.predict_proba(X)[:,1]\n",
        "    except AttributeError:\n",
        "        preds = classifier.decision_function(X)\n",
        "\n",
        "    fpr, tpr, threshold = roc_curve(y, preds)\n",
        "    roc_auc = auc(fpr, tpr)\n",
        "    plt.title(title)\n",
        "    plt.plot(fpr, tpr, 'b', label = 'AUC = %0.2f' % roc_auc)\n",
        "    plt.legend(loc = 'lower right')\n",
        "    plt.plot([0, 1], [0, 1],'r--')\n",
        "    plt.ylabel('True Positive Rate')\n",
        "    plt.xlabel('False Positive Rate')\n",
        "    plt.show()"
      ]
    },
    {
      "cell_type": "code",
      "execution_count": null,
      "id": "e7e0a04e",
      "metadata": {
        "id": "e7e0a04e",
        "outputId": "f1773552-16a9-4d9b-9076-8f187f282845"
      },
      "outputs": [
        {
          "data": {
            "image/png": "[encoded data removed]",
            "text/plain": [
              "<Figure size 432x288 with 1 Axes>"
            ]
          },
          "metadata": {
            "needs_background": "light"
          },
          "output_type": "display_data"
        },
        {
          "data": {
            "image/png": "[encoded data removed]",
            "text/plain": [
              "<Figure size 432x288 with 1 Axes>"
            ]
          },
          "metadata": {
            "needs_background": "light"
          },
          "output_type": "display_data"
        }
      ],
      "source": [
        "plot_roc(SGDClf1, X_test, y_test, \"SGDClassifier with loss function log (test data)\")\n",
        "plot_roc(SGDClf2, X_test, y_test, \"SGDClassifier with loss function loss function squared-hinge (test data)\")"
      ]
    },
    {
      "cell_type": "code",
      "execution_count": null,
      "id": "00c95b59",
      "metadata": {
        "id": "00c95b59",
        "outputId": "c89d9c84-20f9-44e4-8a18-33b629b434c4"
      },
      "outputs": [
        {
          "data": {
            "image/png": "[encoded data removed]",
            "text/plain": [
              "<Figure size 432x288 with 1 Axes>"
            ]
          },
          "metadata": {
            "needs_background": "light"
          },
          "output_type": "display_data"
        },
        {
          "data": {
            "image/png": "[encoded data removed]",
            "text/plain": [
              "<Figure size 432x288 with 1 Axes>"
            ]
          },
          "metadata": {
            "needs_background": "light"
          },
          "output_type": "display_data"
        }
      ],
      "source": [
        "plot_roc(SGDClf1, X_train, y_train, \"SGDClassifier with loss function log (train data)\")\n",
        "plot_roc(SGDClf2, X_train, y_train, \"SGDClassifier with loss function loss function squared-hinge (train data)\")"
      ]
    },
    {
      "cell_type": "markdown",
      "id": "f8c00438",
      "metadata": {
        "id": "f8c00438"
      },
      "source": [
        "---\n",
        "\n",
        "5. Проанализировать все полученные результаты, дать им интерпретацию.\n",
        "* Write down an analysis of the results obtained with an interpretation."
      ]
    },
    {
      "cell_type": "markdown",
      "id": "7a7dc434",
      "metadata": {
        "id": "7a7dc434"
      },
      "source": [
        "#### Выводы:\n",
        "\n",
        "* Можно заметить, что на тренировочном наборе данных ROC-AUC меньше, чем на тестовом. В целом, полученное всюду значение ROC-AUC (0.95 и больше), характеризует реализованные классификаторы как очень хорошие."
      ]
    },
    {
      "cell_type": "markdown",
      "id": "2ad03c7d",
      "metadata": {
        "id": "2ad03c7d"
      },
      "source": [
        "---\n",
        "\n",
        "**Задание 2.**\n",
        "\n",
        "1. Выполнить оценку качества моделей линейной классификации, созданных при выполнении задания 2 по бинарной линейной классификации (в файле 5_2_Бинарная классификация), с помощью кросс-валидации (использовать метрику _**accuracy**_, количество блоков, равное 10). Для каждой модели вывести массив показателей качества, итоговую оценку (среднее значение) и среднеквадратичное отклонение. Выполнить анализ полученных результатов.\n",
        "* Using cross-validation (use the accuracy metric, the number of blocks is 10), perform an assessment of the quality of the linear classification models created above. For each model, output an array of quality scores, a final score (mean) and standard deviation. Perform analysis of the obtained results.\n",
        "<br>\n",
        "\n",
        "2. Создать отчет: оценка качества каждой модели, выводы.\n",
        "* Draw conclusions on the quality assessment of each model."
      ]
    },
    {
      "cell_type": "code",
      "execution_count": null,
      "id": "2cc5f0a3",
      "metadata": {
        "id": "2cc5f0a3"
      },
      "outputs": [],
      "source": [
        "# L1 : Lasso linear model with iterative fitting along a regularization path\n",
        "\n",
        "from sklearn.linear_model import LassoCV\n",
        "lassoCV_reg = LassoCV(cv = 5)\n",
        "lassoCV_reg.fit(X_train,y_train)\n",
        "# print(\"\\nLassoCV accuracy score is:\", lassoCV_reg.score(X_test,y_test)*100)\n",
        "\n",
        "# L2 : Ridge regression with built-in cross-validation\n",
        "\n",
        "from sklearn.linear_model import RidgeCV\n",
        "ridgeCV_reg = RidgeCV(cv = 2)\n",
        "ridgeCV_reg.fit(X_train,y_train);\n",
        "# print(\"\\nRidgeCV accuracy score is:\", ridgeCV_reg.score(X_test,y_test)*100)"
      ]
    },
    {
      "cell_type": "code",
      "execution_count": null,
      "id": "93e63a74",
      "metadata": {
        "id": "93e63a74",
        "outputId": "f8336992-251a-40eb-c555-39685cd09a2e"
      },
      "outputs": [
        {
          "name": "stdout",
          "output_type": "stream",
          "text": [
            "Cross validation for SGDClassifier with hinge loss function\n",
            "Scores: [0.95 0.8  0.85 0.95 0.85 1.   0.85 1.   0.75 0.85]\n",
            "0.89 accuracy with a standard deviation of 0.08 log\n",
            "\n",
            "Cross validation for SGDClassifier with log loss function\n",
            "Scores: [0.95 0.75 0.9  0.95 0.8  1.   0.8  0.95 0.75 0.85]\n",
            "0.87 accuracy with a standard deviation of 0.09 hinge\n",
            "\n",
            "Cross validation for SGDClassifier with squared-hinge loss function\n",
            "Scores: [0.95 0.8  0.9  0.95 0.9  1.   0.8  0.9  0.8  0.85]\n",
            "0.89 accuracy with a standard deviation of 0.07 for squared-hinge\n",
            "\n"
          ]
        }
      ],
      "source": [
        "from sklearn.model_selection import cross_val_score\n",
        "\n",
        "blocks = 10\n",
        "\n",
        "# cross validation for SGDClassifier with hinge loss function\n",
        "scores = cross_val_score(SGDClf, X, y, cv=blocks)\n",
        "print(\"Cross validation for SGDClassifier with hinge loss function\")\n",
        "print(\"Scores: %s\" % scores)\n",
        "print(\"%0.2f accuracy with a standard deviation of %0.2f log\" % (scores.mean(), scores.std()))\n",
        "print()\n",
        "\n",
        "# cross validation for SGDClassifier with log loss function\n",
        "scores = cross_val_score(SGDClf1, X, y, cv=blocks)\n",
        "print(\"Cross validation for SGDClassifier with log loss function\")\n",
        "print(\"Scores: %s\" % scores)\n",
        "print(\"%0.2f accuracy with a standard deviation of %0.2f hinge\" % (scores.mean(), scores.std()))\n",
        "print()\n",
        "\n",
        "# cross validation for SGDClassifier with squared-hinge loss function\n",
        "scores = cross_val_score(SGDClf2, X, y, cv=blocks)\n",
        "print(\"Cross validation for SGDClassifier with squared-hinge loss function\")\n",
        "print(\"Scores: %s\" % scores)\n",
        "print(\"%0.2f accuracy with a standard deviation of %0.2f for squared-hinge\" % (scores.mean(), scores.std()))\n",
        "print()"
      ]
    },
    {
      "cell_type": "code",
      "execution_count": null,
      "id": "735400fd",
      "metadata": {
        "id": "735400fd",
        "outputId": "03c4a7a2-b818-4233-d8a4-d950b9399178"
      },
      "outputs": [
        {
          "name": "stdout",
          "output_type": "stream",
          "text": [
            "Cross validation for Lasso Regression\n",
            "Scores: [0.74334017 0.62956716 0.5056242  0.40978771 0.57122276 0.64063997\n",
            " 0.63656207 0.60463344 0.50405714 0.58725391]\n",
            "0.58 accuracy with a standard deviation of 0.09 for lasso_reg\n",
            "\n",
            "Cross validation for Lasso Regression with CV\n",
            "Scores: [0.74312748 0.62536151 0.50691552 0.41281252 0.56848594 0.64281112\n",
            " 0.63834661 0.60467632 0.50375864 0.58686592]\n",
            "0.58 accuracy with a standard deviation of 0.09 for lasso_reg_CV\n",
            "\n",
            "Cross validation for Ridge Regression\n",
            "Scores: [0.74328032 0.6304914  0.50488786 0.40824364 0.57238174 0.63983577\n",
            " 0.63553892 0.6045483  0.50415621 0.58858026]\n",
            "0.58 accuracy with a standard deviation of 0.09 for ridge_reg\n",
            "\n",
            "Cross validation for Ridge Regression with CV\n",
            "Scores: [0.74338075 0.63030053 0.50504975 0.40851899 0.57237967 0.63999636\n",
            " 0.63571577 0.60455502 0.50415647 0.58857865]\n",
            "0.58 accuracy with a standard deviation of 0.09 for ridge_reg_CV\n",
            "\n"
          ]
        }
      ],
      "source": [
        "# cross validation for lasso_reg\n",
        "scores = cross_val_score(lasso_reg, X, y, cv=blocks)\n",
        "print(\"Cross validation for Lasso Regression\")\n",
        "print(\"Scores: %s\" % scores)\n",
        "print(\"%0.2f accuracy with a standard deviation of %0.2f for lasso_reg\" % (scores.mean(), scores.std()))\n",
        "print()\n",
        "\n",
        "# cross validation for lasso_reg_CV\n",
        "scores = cross_val_score(lassoCV_reg, X, y, cv=blocks)\n",
        "print(\"Cross validation for Lasso Regression with CV\")\n",
        "print(\"Scores: %s\" % scores)\n",
        "print(\"%0.2f accuracy with a standard deviation of %0.2f for lasso_reg_CV\" % (scores.mean(), scores.std()))\n",
        "print()\n",
        "\n",
        "# cross validation for ridge_reg\n",
        "scores = cross_val_score(ridge_reg, X, y, cv=blocks)\n",
        "print(\"Cross validation for Ridge Regression\")\n",
        "print(\"Scores: %s\" % scores)\n",
        "print(\"%0.2f accuracy with a standard deviation of %0.2f for ridge_reg\" % (scores.mean(), scores.std()))\n",
        "print()\n",
        "\n",
        "# cross validation for ridge_reg_CV\n",
        "scores = cross_val_score(ridgeCV_reg, X, y, cv=blocks)\n",
        "print(\"Cross validation for Ridge Regression with CV\")\n",
        "print(\"Scores: %s\" % scores)\n",
        "print(\"%0.2f accuracy with a standard deviation of %0.2f for ridge_reg_CV\" % (scores.mean(), scores.std()))\n",
        "print()"
      ]
    }
  ],
  "metadata": {
    "kernelspec": {
      "display_name": "Python 3",
      "language": "python",
      "name": "python3"
    },
    "language_info": {
      "codemirror_mode": {
        "name": "ipython",
        "version": 3
      },
      "file_extension": ".py",
      "mimetype": "text/x-python",
      "name": "python",
      "nbconvert_exporter": "python",
      "pygments_lexer": "ipython3",
      "version": "3.8.8"
    },
    "colab": {
      "provenance": []
    }
  },
  "nbformat": 4,
  "nbformat_minor": 5
}