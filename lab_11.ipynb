{
  "cells": [
    {
      "cell_type": "markdown",
      "id": "74bc9a90",
      "metadata": {
        "id": "74bc9a90"
      },
      "source": [
        "### Искусственные нейронные сети\n",
        "\n",
        "#### Практическое задание для самостоятельного выполнения"
      ]
    },
    {
      "cell_type": "markdown",
      "id": "484d4a86",
      "metadata": {
        "id": "484d4a86"
      },
      "source": [
        "**Задание 11.**\n",
        "\n",
        "Создать и обучить нейросеть, решающую задачу аппроксимации функции пяти независимых переменных. В качестве аппроксимируемой функции рассмотреть функцию $y = \\frac{x_{1}+x_{2}}{x_{3}} + x_{4}\\cdot x_{5}$\n",
        "\n",
        "1. Сформировать набор данных из 1000 объектов: значения признаков – псевдослучайные числа, равномерно распределенные на интервале (1; 3); значения функции определяются по указанной выше формуле. Обеспечить воспроизводимость результатов. <br>Внимание: значения признаков должны быть независимыми!\n",
        "2. Выполнить разбиение данных на обучающую/тестовую выборки (обучающая выборка – 70% от всех имеющихся данных). Сформировать обучающий и тестовый набор для нейросети.\n",
        "3. Создать нейросеть с одним скрытым слоем, состоящим из двух нейронов. Обучить ее на обучающем наборе данных. Максимальное количество эпох задать равным 50. Вывести аппроксимируемые значения функции и предсказания сети для тестовой выборки, а также ошибку сети на тестовой выборке.\n",
        "4. Вывести график ошибок сети на обучающей и тестовой выборке в зависимости от количества итераций. Проанализировать полученный график и ответить на вопрос: как (предположительно) изменится ошибка сети при увеличении числа эпох до 100, 500, ...\n",
        "5. Оценить рекомендуемое количество скрытых нейронов в задаче рассматриваемого класса. Создать новую сеть с таким количеством скрытых нейронов (количество скрытых слоев – 1). Обучить эту сеть на том же наборе данных, что и сеть из п. 3. Сравнить качество полученных аппроксимаций. Сделать выводы.\n",
        "6. Внести изменения (шум) в исходный набор данных. Для этого прибавить к аппроксимируемым значениям функции нормально распределенную случайную величину со средним значением, равным нулю, и средним квадратичным отклонением _σ_, равным 0.2.\n",
        "7. Выполнить обучение нейросети на зашумленных данных (использовать сеть с той же структурой и те же параметры обучения, что и для исходного набора данных). Сравнить полученные результаты.\n",
        "8. Поэкспериментировать со степенью зашумленности исходных данных, варьируя значения _σ_. Проанализировать зависимость качества аппроксимации от значения _σ_."
      ]
    },
    {
      "cell_type": "markdown",
      "id": "f3742b32",
      "metadata": {
        "id": "f3742b32"
      },
      "source": [
        "---\n",
        "\n",
        "1. Сформировать набор данных из 1000 объектов: значения признаков – псевдослучайные числа, равномерно распределенные на интервале (1; 3); значения функции определяются по указанной выше формуле. Обеспечить воспроизводимость результатов. <br><u>Внимание</u>: значения признаков должны быть независимыми!\n",
        "* Form a data set of 1000 objects: feature values are pseudo-random numbers uniformly distributed over the interval (1; 3); function values are determined by the above formula. Ensure reproducible results. <br><u>Attention</u>: feature values must be independent!"
      ]
    },
    {
      "cell_type": "code",
      "execution_count": 1,
      "id": "3804eebc",
      "metadata": {
        "id": "3804eebc",
        "outputId": "df8e26fc-b72e-4e53-d89f-557154deaec2",
        "colab": {
          "base_uri": "https://localhost:8080/",
          "height": 206
        }
      },
      "outputs": [
        {
          "output_type": "execute_result",
          "data": {
            "text/plain": [
              "          0         1         2         3         4\n",
              "0  1.000000 -0.017861 -0.008741 -0.017818 -0.006443\n",
              "1 -0.017861  1.000000  0.010400  0.014274  0.033042\n",
              "2 -0.008741  0.010400  1.000000 -0.026714 -0.016579\n",
              "3 -0.017818  0.014274 -0.026714  1.000000 -0.005643\n",
              "4 -0.006443  0.033042 -0.016579 -0.005643  1.000000"
            ],
            "text/html": [
              "\n",
              "  <div id=\"df-7bd9d7d1-2c1d-424f-afc4-f5cc2e32cee9\">\n",
              "    <div class=\"colab-df-container\">\n",
              "      <div>\n",
              "<style scoped>\n",
              "    .dataframe tbody tr th:only-of-type {\n",
              "        vertical-align: middle;\n",
              "    }\n",
              "\n",
              "    .dataframe tbody tr th {\n",
              "        vertical-align: top;\n",
              "    }\n",
              "\n",
              "    .dataframe thead th {\n",
              "        text-align: right;\n",
              "    }\n",
              "</style>\n",
              "<table border=\"1\" class=\"dataframe\">\n",
              "  <thead>\n",
              "    <tr style=\"text-align: right;\">\n",
              "      <th></th>\n",
              "      <th>0</th>\n",
              "      <th>1</th>\n",
              "      <th>2</th>\n",
              "      <th>3</th>\n",
              "      <th>4</th>\n",
              "    </tr>\n",
              "  </thead>\n",
              "  <tbody>\n",
              "    <tr>\n",
              "      <th>0</th>\n",
              "      <td>1.000000</td>\n",
              "      <td>-0.017861</td>\n",
              "      <td>-0.008741</td>\n",
              "      <td>-0.017818</td>\n",
              "      <td>-0.006443</td>\n",
              "    </tr>\n",
              "    <tr>\n",
              "      <th>1</th>\n",
              "      <td>-0.017861</td>\n",
              "      <td>1.000000</td>\n",
              "      <td>0.010400</td>\n",
              "      <td>0.014274</td>\n",
              "      <td>0.033042</td>\n",
              "    </tr>\n",
              "    <tr>\n",
              "      <th>2</th>\n",
              "      <td>-0.008741</td>\n",
              "      <td>0.010400</td>\n",
              "      <td>1.000000</td>\n",
              "      <td>-0.026714</td>\n",
              "      <td>-0.016579</td>\n",
              "    </tr>\n",
              "    <tr>\n",
              "      <th>3</th>\n",
              "      <td>-0.017818</td>\n",
              "      <td>0.014274</td>\n",
              "      <td>-0.026714</td>\n",
              "      <td>1.000000</td>\n",
              "      <td>-0.005643</td>\n",
              "    </tr>\n",
              "    <tr>\n",
              "      <th>4</th>\n",
              "      <td>-0.006443</td>\n",
              "      <td>0.033042</td>\n",
              "      <td>-0.016579</td>\n",
              "      <td>-0.005643</td>\n",
              "      <td>1.000000</td>\n",
              "    </tr>\n",
              "  </tbody>\n",
              "</table>\n",
              "</div>\n",
              "      <button class=\"colab-df-convert\" onclick=\"convertToInteractive('df-7bd9d7d1-2c1d-424f-afc4-f5cc2e32cee9')\"\n",
              "              title=\"Convert this dataframe to an interactive table.\"\n",
              "              style=\"display:none;\">\n",
              "        \n",
              "  <svg xmlns=\"http://www.w3.org/2000/svg\" height=\"24px\"viewBox=\"0 0 24 24\"\n",
              "       width=\"24px\">\n",
              "    <path d=\"M0 0h24v24H0V0z\" fill=\"none\"/>\n",
              "    <path d=\"M18.56 5.44l.94 2.06.94-2.06 2.06-.94-2.06-.94-.94-2.06-.94 2.06-2.06.94zm-11 1L8.5 8.5l.94-2.06 2.06-.94-2.06-.94L8.5 2.5l-.94 2.06-2.06.94zm10 10l.94 2.06.94-2.06 2.06-.94-2.06-.94-.94-2.06-.94 2.06-2.06.94z\"/><path d=\"M17.41 7.96l-1.37-1.37c-.4-.4-.92-.59-1.43-.59-.52 0-1.04.2-1.43.59L10.3 9.45l-7.72 7.72c-.78.78-.78 2.05 0 2.83L4 21.41c.39.39.9.59 1.41.59.51 0 1.02-.2 1.41-.59l7.78-7.78 2.81-2.81c.8-.78.8-2.07 0-2.86zM5.41 20L4 18.59l7.72-7.72 1.47 1.35L5.41 20z\"/>\n",
              "  </svg>\n",
              "      </button>\n",
              "      \n",
              "  <style>\n",
              "    .colab-df-container {\n",
              "      display:flex;\n",
              "      flex-wrap:wrap;\n",
              "      gap: 12px;\n",
              "    }\n",
              "\n",
              "    .colab-df-convert {\n",
              "      background-color: #E8F0FE;\n",
              "      border: none;\n",
              "      border-radius: 50%;\n",
              "      cursor: pointer;\n",
              "      display: none;\n",
              "      fill: #1967D2;\n",
              "      height: 32px;\n",
              "      padding: 0 0 0 0;\n",
              "      width: 32px;\n",
              "    }\n",
              "\n",
              "    .colab-df-convert:hover {\n",
              "      background-color: #E2EBFA;\n",
              "      box-shadow: 0px 1px 2px rgba(60, 64, 67, 0.3), 0px 1px 3px 1px rgba(60, 64, 67, 0.15);\n",
              "      fill: #174EA6;\n",
              "    }\n",
              "\n",
              "    [theme=dark] .colab-df-convert {\n",
              "      background-color: #3B4455;\n",
              "      fill: #D2E3FC;\n",
              "    }\n",
              "\n",
              "    [theme=dark] .colab-df-convert:hover {\n",
              "      background-color: #434B5C;\n",
              "      box-shadow: 0px 1px 3px 1px rgba(0, 0, 0, 0.15);\n",
              "      filter: drop-shadow(0px 1px 2px rgba(0, 0, 0, 0.3));\n",
              "      fill: #FFFFFF;\n",
              "    }\n",
              "  </style>\n",
              "\n",
              "      <script>\n",
              "        const buttonEl =\n",
              "          document.querySelector('#df-7bd9d7d1-2c1d-424f-afc4-f5cc2e32cee9 button.colab-df-convert');\n",
              "        buttonEl.style.display =\n",
              "          google.colab.kernel.accessAllowed ? 'block' : 'none';\n",
              "\n",
              "        async function convertToInteractive(key) {\n",
              "          const element = document.querySelector('#df-7bd9d7d1-2c1d-424f-afc4-f5cc2e32cee9');\n",
              "          const dataTable =\n",
              "            await google.colab.kernel.invokeFunction('convertToInteractive',\n",
              "                                                     [key], {});\n",
              "          if (!dataTable) return;\n",
              "\n",
              "          const docLinkHtml = 'Like what you see? Visit the ' +\n",
              "            '<a target=\"_blank\" href=https://colab.research.google.com/notebooks/data_table.ipynb>data table notebook</a>'\n",
              "            + ' to learn more about interactive tables.';\n",
              "          element.innerHTML = '';\n",
              "          dataTable['output_type'] = 'display_data';\n",
              "          await google.colab.output.renderOutput(dataTable, element);\n",
              "          const docLink = document.createElement('div');\n",
              "          docLink.innerHTML = docLinkHtml;\n",
              "          element.appendChild(docLink);\n",
              "        }\n",
              "      </script>\n",
              "    </div>\n",
              "  </div>\n",
              "  "
            ]
          },
          "metadata": {},
          "execution_count": 1
        }
      ],
      "source": [
        "import numpy as np\n",
        "import pandas as pd\n",
        "\n",
        "n = 1000\n",
        "x = np.array([np.random.uniform(1,3,5) for i in range(n)])\n",
        "df = pd.DataFrame(x)\n",
        "df.corr() # проверка на то зависят признаки друг от друга или нет"
      ]
    },
    {
      "cell_type": "markdown",
      "id": "326862c6",
      "metadata": {
        "id": "326862c6"
      },
      "source": [
        "--- \n",
        "\n",
        "2. Выполнить разбиение данных на обучающую/тестовую выборки (обучающая выборка – 70% от всех имеющихся данных). Сформировать обучающий и тестовый набор для нейросети.\n",
        "* Split the data into training/test samples (training sample - 70% of all available data). Form a training and test set for the neural network."
      ]
    },
    {
      "cell_type": "code",
      "execution_count": 2,
      "id": "f7a1ceb3",
      "metadata": {
        "id": "f7a1ceb3"
      },
      "outputs": [],
      "source": [
        "from sklearn.model_selection import train_test_split\n",
        "\n",
        "# функция по заданию\n",
        "def f(x):\n",
        "    return (x[0] + x[1])/x[2] + x[3]*x[4]\n",
        "\n",
        "y = np.array([f(i) for i in x])\n",
        "X_train, X_test, y_train, y_test = train_test_split(x, y, test_size=0.3, random_state=120)"
      ]
    },
    {
      "cell_type": "markdown",
      "id": "450fcdb1",
      "metadata": {
        "id": "450fcdb1"
      },
      "source": [
        "---\n",
        "\n",
        "3. Создать нейросеть с одним скрытым слоем, состоящим из двух нейронов. Обучить ее на обучающем наборе данных. Максимальное количество эпох задать равным 50. Вывести аппроксимируемые значения функции и предсказания сети для тестовой выборки, а также ошибку сети на тестовой выборке.\n",
        "* Create a neural network with one hidden layer consisting of two neurons. Train it on the training dataset. Set the maximum number of epochs to 50. Print the approximate values of the function and network prediction for the test sample, as well as the network error on the test sample."
      ]
    },
    {
      "cell_type": "code",
      "execution_count": 3,
      "id": "53a4d047",
      "metadata": {
        "id": "53a4d047",
        "outputId": "aa2a670c-8181-4758-c06c-adea17a8bbd9",
        "colab": {
          "base_uri": "https://localhost:8080/"
        }
      },
      "outputs": [
        {
          "output_type": "stream",
          "name": "stdout",
          "text": [
            "[4.91424078 3.82403117 5.55411807 4.41758302 3.09020786] [5.29844947 6.72457432 4.0144134  4.75209867 4.00787849] \n",
            "\n",
            "mse = 4.536333107567199\n"
          ]
        }
      ],
      "source": [
        "from sklearn.neural_network import MLPRegressor\n",
        "from sklearn.metrics import mean_squared_error as mse\n",
        "import warnings\n",
        "warnings.filterwarnings(\"ignore\")\n",
        "\n",
        "# mse: среднеквадратичная ошибка на последней (макс.) эпохе\n",
        "# activation{‘identity’, ‘logistic’, ‘tanh’, ‘relu’}\n",
        "# solver{‘lbfgs’, ‘sgd’, ‘adam’}\n",
        "\n",
        "net = MLPRegressor(\n",
        "    hidden_layer_sizes=(2,),\n",
        "    max_iter=50,\n",
        "    solver='adam',\n",
        "    random_state=120\n",
        ")\n",
        "net.fit(X_train,y_train)\n",
        "y_pred = net.predict(X_test)\n",
        "print(y_pred[:5],y_test[:5], '\\n')\n",
        "print('mse =',mse(y_test,y_pred))"
      ]
    },
    {
      "cell_type": "markdown",
      "id": "3784fc49",
      "metadata": {
        "id": "3784fc49"
      },
      "source": [
        "---\n",
        "\n",
        "4. Вывести график ошибок сети на обучающей и тестовой выборке в зависимости от количества итераций. Проанализировать полученный график и ответить на вопрос: как (предположительно) изменится ошибка сети при увеличении числа эпох до 100, 500, ...\n",
        "* Plot the network errors on the training and test sets depending on the number of iterations. Analyze the resulting graph and answer the question: how (presumably) the network error will change when the number of epochs increases to 100, 500, ..."
      ]
    },
    {
      "cell_type": "code",
      "execution_count": 4,
      "id": "1bae8810",
      "metadata": {
        "id": "1bae8810",
        "outputId": "682b1dd1-15c5-41c9-cafd-b50ed24b83a1",
        "colab": {
          "base_uri": "https://localhost:8080/",
          "height": 386
        }
      },
      "outputs": [
        {
          "output_type": "stream",
          "name": "stdout",
          "text": [
            "epochs = [100, 500, 800, 1000, 1200, 1500, 2000] \n",
            "\n",
            "train set mse = [3.2966818865439134, 0.9829546926289388, 0.21312908806494926, 0.1810773922223283, 0.1810773922223283, 0.1810773922223283, 0.1810773922223283] \n",
            "\n",
            "test set mse = [2.832252092353093, 0.8498947569089945, 0.21940838999314635, 0.19583361423388262, 0.19583361423388262, 0.19583361423388262, 0.19583361423388262]\n"
          ]
        },
        {
          "output_type": "display_data",
          "data": {
            "text/plain": [
              "<Figure size 432x288 with 1 Axes>"
            ],
            "image/png": "[encoded data removed]"
          },
          "metadata": {
            "needs_background": "light"
          }
        }
      ],
      "source": [
        "import matplotlib.pyplot as plt\n",
        "\n",
        "epoch = [100,500,800,1000,1200,1500,2000]\n",
        "train = []\n",
        "test = []\n",
        "for t in epoch:\n",
        "    net = MLPRegressor(hidden_layer_sizes=(2,), max_iter=t, random_state=120)\n",
        "    net.fit(X_train,y_train)\n",
        "    y1 = net.predict(X_train)\n",
        "    y2 = net.predict(X_test)\n",
        "    train.append(mse(y_train,y1))\n",
        "    test.append(mse(y_test,y2))\n",
        "    \n",
        "plt.plot(epoch,train,label='train set')\n",
        "plt.plot(epoch,test,label='test set')\n",
        "plt.legend()\n",
        "plt.xlabel('epoch')\n",
        "plt.ylabel('MSE')\n",
        "print('epochs =', epoch, '\\n')\n",
        "print('train set mse =', train, '\\n')\n",
        "print('test set mse =', test)\n",
        "plt.show();"
      ]
    },
    {
      "cell_type": "markdown",
      "id": "dac6a356",
      "metadata": {
        "id": "dac6a356"
      },
      "source": [
        "Выводы:\n",
        "* Ошибка с увеличением числа эпох на обучение заметно уменьшается и уже при 800-й эпохе происходит значительный её спад.\n",
        "* With an increase in the number of epochs for training, the error noticeably decreases, and already at the 800th epoch, it significantly decreases."
      ]
    },
    {
      "cell_type": "markdown",
      "id": "98a70429",
      "metadata": {
        "id": "98a70429"
      },
      "source": [
        "---\n",
        "\n",
        "5. Оценить рекомендуемое количество скрытых нейронов в задаче рассматриваемого класса. Создать новую сеть с таким количеством скрытых нейронов (количество скрытых слоев – 1). Обучить эту сеть на том же наборе данных, что и сеть из п. 3. Сравнить качество полученных аппроксимаций. Сделать выводы.\n",
        "* Estimate the recommended number of hidden neurons in the problem of the considered class. Create a new network with this number of hidden neurons (the number of hidden layers is 1). Train this network on the same data set as the network from step 3. Compare the quality of the obtained approximations. Draw conclusions."
      ]
    },
    {
      "cell_type": "code",
      "execution_count": 5,
      "id": "55b21bc4",
      "metadata": {
        "id": "55b21bc4",
        "outputId": "bca937ca-76e2-4e76-d509-db04f2b7e065",
        "colab": {
          "base_uri": "https://localhost:8080/"
        }
      },
      "outputs": [
        {
          "output_type": "stream",
          "name": "stdout",
          "text": [
            "[6.03975604 5.52790779 5.30194571 5.62631767 4.7045096 ] [5.29844947 6.72457432 4.0144134  4.75209867 4.00787849] \n",
            "\n",
            "mse = 1.0485811133257263\n"
          ]
        }
      ],
      "source": [
        "net = MLPRegressor(max_iter=50, random_state=120)\n",
        "net.fit(X_train,y_train)\n",
        "y_pred = net.predict(X_test)\n",
        "print(y_pred[:5],y_test[:5], '\\n')\n",
        "print('mse =', mse(y_test,y_pred))"
      ]
    },
    {
      "cell_type": "code",
      "execution_count": 6,
      "id": "ef536732",
      "metadata": {
        "id": "ef536732",
        "outputId": "47731b22-e6c5-4566-b097-bccdeee32857",
        "colab": {
          "base_uri": "https://localhost:8080/"
        }
      },
      "outputs": [
        {
          "output_type": "stream",
          "name": "stdout",
          "text": [
            "[6.91781644 6.02804271 6.78895534 6.05733682 5.32760369] [5.29844947 6.72457432 4.0144134  4.75209867 4.00787849] \n",
            "\n",
            "mse = 3.1729113654003482\n"
          ]
        }
      ],
      "source": [
        "net = MLPRegressor(hidden_layer_sizes=(1), max_iter=50, random_state=120)\n",
        "net.fit(X_train,y_train)\n",
        "y_pred = net.predict(X_test)\n",
        "print(y_pred[:5],y_test[:5], '\\n')\n",
        "print('mse =', mse(y_test,y_pred))"
      ]
    },
    {
      "cell_type": "markdown",
      "id": "559b2080",
      "metadata": {
        "id": "559b2080"
      },
      "source": [
        "Выводы:\n",
        "* Если брать рекомендуемое количество скрытых нейронов, то тут ошибка становится на порядок меньше.\n",
        "* If we take the recommended number of hidden neurons, then the error becomes an order of magnitude smaller."
      ]
    },
    {
      "cell_type": "markdown",
      "id": "77c01b9d",
      "metadata": {
        "id": "77c01b9d"
      },
      "source": [
        "--- \n",
        "\n",
        "6. Внести изменения (шум) в исходный набор данных. Для этого прибавить к аппроксимируемым значениям функции нормально распределенную случайную величину со средним значением, равным нулю, и средним квадратичным отклонением _σ_, равным 0.2.\n",
        "* Make changes (noise) to the original dataset. To do this, add to the approximated values of the function a normally distributed random variable with a mean value equal to zero and a standard deviation _σ_ equal to 0.2."
      ]
    },
    {
      "cell_type": "code",
      "execution_count": 7,
      "id": "ebc8752c",
      "metadata": {
        "id": "ebc8752c",
        "outputId": "fbd82dfa-5599-4bfa-dc5f-3424a50560da",
        "colab": {
          "base_uri": "https://localhost:8080/"
        }
      },
      "outputs": [
        {
          "output_type": "stream",
          "name": "stdout",
          "text": [
            "[4.57351816 6.65059761 6.68039748 3.82603142 5.44695727] [4.76992481 6.55112015 7.03876727 3.49040015 5.60719617]\n"
          ]
        }
      ],
      "source": [
        "noise = np.random.normal(0,0.2,len(y))\n",
        "y_noise = y + noise\n",
        "print(y[:5],y_noise[:5])"
      ]
    },
    {
      "cell_type": "markdown",
      "id": "8374cd60",
      "metadata": {
        "id": "8374cd60"
      },
      "source": [
        "---\n",
        "\n",
        "7. Выполнить обучение нейросети на зашумленных данных (использовать сеть с той же структурой и те же параметры обучения, что и для исходного набора данных). Сравнить полученные результаты.\n",
        "* Perform neural network training on noisy data (use a network with the same structure and the same training parameters as for the original data set). Compare the results."
      ]
    },
    {
      "cell_type": "code",
      "execution_count": 8,
      "id": "25d810f1",
      "metadata": {
        "id": "25d810f1",
        "outputId": "c1ae43cf-d64a-45a6-f49f-51b8ec64edf3",
        "colab": {
          "base_uri": "https://localhost:8080/"
        }
      },
      "outputs": [
        {
          "output_type": "stream",
          "name": "stdout",
          "text": [
            "[4.91377959 3.82360378 5.55369785 4.41714187 3.08983155] [5.28223916 6.71649328 3.95521874 4.6701023  3.96658734] \n",
            "\n",
            "mse = 4.64092100420255\n"
          ]
        }
      ],
      "source": [
        "X_train, X_test, y_train, y_test = train_test_split(x, y_noise, test_size=0.3, random_state=120)\n",
        "net = MLPRegressor(hidden_layer_sizes=(2), max_iter=50, random_state=120)\n",
        "net.fit(X_train,y_train)\n",
        "y_pred = net.predict(X_test)\n",
        "print(y_pred[:5],y_test[:5], '\\n')\n",
        "print('mse =', mse(y_test,y_pred))"
      ]
    },
    {
      "cell_type": "markdown",
      "id": "8b23b0f6",
      "metadata": {
        "id": "8b23b0f6"
      },
      "source": [
        "Выводы:\n",
        "* Результаты получились практически одинаковыми, что с шумом и что без него.\n",
        "* The results were almost the same, with and without noise."
      ]
    },
    {
      "cell_type": "markdown",
      "id": "458d0f73",
      "metadata": {
        "id": "458d0f73"
      },
      "source": [
        "---\n",
        "\n",
        "8. Поэкспериментировать со степенью зашумлённости исходных данных, варьируя значения _σ_. Проанализировать зависимость качества аппроксимации от значения _σ_.\n",
        "* Experiment with the degree of noisiness of the initial data by varying the values of _σ_. Then analyze the dependence of the approximation quality on the value of _σ_."
      ]
    },
    {
      "cell_type": "code",
      "execution_count": 9,
      "id": "54c9f860",
      "metadata": {
        "id": "54c9f860",
        "outputId": "38524431-7be1-4389-f2e2-071a019ec61d",
        "colab": {
          "base_uri": "https://localhost:8080/",
          "height": 279
        }
      },
      "outputs": [
        {
          "output_type": "display_data",
          "data": {
            "text/plain": [
              "<Figure size 432x288 with 1 Axes>"
            ],
            "image/png": "[encoded data removed]"
          },
          "metadata": {
            "needs_background": "light"
          }
        }
      ],
      "source": [
        "qq = [0.01,0.1,0.15,0.2,0.25,0.3,0.4,0.45]\n",
        "mseq = []\n",
        "for q in qq:\n",
        "    noise = np.random.normal(0,q,len(y))\n",
        "    y_noise = y + noise\n",
        "    X_train, X_test, y_train, y_test = train_test_split(x, y_noise, test_size=0.3, random_state=120)\n",
        "    net = MLPRegressor(hidden_layer_sizes=(2,), max_iter=50, random_state=120)\n",
        "    net.fit(X_train,y_train)\n",
        "    y_pred = net.predict(X_test)\n",
        "    mseq.append(mse(y_test,y_pred))\n",
        "    \n",
        "plt.plot(qq,mseq)\n",
        "plt.xlabel('q')\n",
        "plt.ylabel('MSE')\n",
        "plt.show();"
      ]
    },
    {
      "cell_type": "markdown",
      "id": "ad7747f3",
      "metadata": {
        "id": "ad7747f3"
      },
      "source": [
        "Выводы:\n",
        "* Небольшой шум < 0.2 способствует неплохой аппроксимации функции, а уже значения > 0.2 ухудшают этот процесс.\n",
        "* A small noise < 0.2 contributes to a good approximation of the function, and even values > 0.2 worsen this process."
      ]
    },
    {
      "cell_type": "markdown",
      "id": "54649778",
      "metadata": {
        "id": "54649778"
      },
      "source": [
        "---\n",
        "\n",
        "**Задание 12.**\n",
        "\n",
        "Создать и обучить нейросеть, аппроксимирующую таблицу умножения.\n",
        "\n",
        "1. Сформировать набор данных: таблица умножения для чисел от 1 до 10. Выполнить разбиение данных на обучающую/тестовую выборки (обучающая выборка – 70% от всех имеющихся данных). Сформировать обучающий и тестовый набор для нейросети.\n",
        "2. Создать нейросеть с одним скрытым слоем, состоящим из двух нейронов. Обучить ее на обучающем наборе данных. Вывести аппроксимируемые значения и предсказания сети для тестовой выборки. Вывести график ошибок сети на обучающей и тестовой выборке в зависимости от количества итераций. Сделать выводы.\n",
        "3. Поэкспериментировать с числом скрытых нейронов и числом скрытых слоев (число слоев не более 2). Проанализировать полученные результаты, сделать выводы.\n",
        "4. Выполнить масштабирование набора данных и повторить действия п. 2. Сравнить полученные результаты с результатами выполнения п. 2.\n",
        "5. Поэкспериментировать с параметрами алгоритма обучения: длиной шага и уменьшением длины шага (в классе _BackpropTrainer_ – _learningrate_ и _lrdecay_ соответственно), а также с количеством эпох. Определить набор значений параметров, обеспечивающий наилучшие результаты."
      ]
    },
    {
      "cell_type": "markdown",
      "id": "f0a71638",
      "metadata": {
        "id": "f0a71638"
      },
      "source": [
        "---\n",
        "\n",
        "1. Сформировать набор данных: таблица умножения для чисел от 1 до 10. Выполнить разбиение данных на обучающую/тестовую выборки (обучающая выборка – 70% от всех имеющихся данных). Сформировать обучающий и тестовый набор для нейросети.\n",
        "* Generate a data set: multiplication table for numbers from 1 to 10. Split the data into training/test samples (training sample - 70% of all available data). Form a training and test set for the neural network."
      ]
    },
    {
      "cell_type": "code",
      "execution_count": 10,
      "id": "77713252",
      "metadata": {
        "id": "77713252"
      },
      "outputs": [],
      "source": [
        "x = []\n",
        "for i in range(1,11):\n",
        "    for j in range(1,11):\n",
        "        x.append(np.array([i,j]))\n",
        "xs = np.array(x)\n",
        "ys = np.array([a * b for a,b in x])\n",
        "\n",
        "X_train, X_test, y_train, y_test = train_test_split(xs, ys, test_size=0.3, random_state=120)"
      ]
    },
    {
      "cell_type": "markdown",
      "id": "2a34e33d",
      "metadata": {
        "id": "2a34e33d"
      },
      "source": [
        "---\n",
        "\n",
        "2. Создать нейросеть с одним скрытым слоем, состоящим из двух нейронов. Обучить ее на обучающем наборе данных. Вывести аппроксимируемые значения и предсказания сети для тестовой выборки. Вывести график ошибок сети на обучающей и тестовой выборке в зависимости от количества итераций. Сделать выводы.\n",
        "* Create a neural network with one hidden layer consisting of two neurons. Train it on the training dataset. Output approximate values and network predictions for the test sample. Plot the network errors on the training and test sets depending on the number of iterations. Draw conclusions."
      ]
    },
    {
      "cell_type": "code",
      "execution_count": 11,
      "id": "6653ce6b",
      "metadata": {
        "id": "6653ce6b",
        "outputId": "c0db067b-1703-43c0-d1fc-e740c0cc0352",
        "colab": {
          "base_uri": "https://localhost:8080/",
          "height": 453
        }
      },
      "outputs": [
        {
          "output_type": "stream",
          "name": "stdout",
          "text": [
            "y_test = [ 9 36  6 14 40 49 10 42  4 24 12 36 72 24  6 14  8 72 28 18 48 35  5 12\n",
            " 30 15 10 63 54 18] \n",
            "\n",
            "y_pred = [14.66521106 15.94635755  9.23835925 13.06886073 18.81830952 17.86160829\n",
            " 10.51396088 16.90305878  7.32126022 15.30486016 10.19506047 15.62560885\n",
            " 21.37505764 13.07070901  7.64016063 11.47435868  9.23651096 21.05615724\n",
            " 14.02925852 13.39145771 17.54270788 15.94450926  9.55541137 11.7914108\n",
            " 15.62745714 11.47251039 15.94266098 20.41650813 19.45795862 11.79325909] \n",
            "\n"
          ]
        },
        {
          "output_type": "display_data",
          "data": {
            "text/plain": [
              "<Figure size 432x288 with 1 Axes>"
            ],
            "image/png": "[encoded data removed]"
          },
          "metadata": {
            "needs_background": "light"
          }
        },
        {
          "output_type": "stream",
          "name": "stdout",
          "text": [
            "mse min = [164.02508179003746, 136.69840783392542]\n"
          ]
        }
      ],
      "source": [
        "net = MLPRegressor(hidden_layer_sizes=(2,), random_state=120)\n",
        "net.fit(X_train,y_train)\n",
        "y_pred = net.predict(X_test)\n",
        "print('y_test =',y_test, '\\n')\n",
        "print('y_pred =',y_pred, '\\n')\n",
        "\n",
        "epoch = [100,500,800,1000,1200,1500,2000,3000]\n",
        "train = []\n",
        "test = []\n",
        "for t in epoch:\n",
        "    net = MLPRegressor(hidden_layer_sizes=(2,), max_iter=t, random_state=120)\n",
        "    net.fit(X_train,y_train)\n",
        "    y1 = net.predict(X_train)\n",
        "    y2 = net.predict(X_test)\n",
        "    train.append(mse(y_train,y1))\n",
        "    test.append(mse(y_test,y2))\n",
        "    \n",
        "plt.plot(epoch,train,label='train set')\n",
        "plt.plot(epoch,test,label='test set')\n",
        "plt.legend()\n",
        "plt.xlabel('epoch')\n",
        "plt.ylabel('MSE')\n",
        "plt.show()\n",
        "print('mse min =',[train[-1],test[-1]]); # mse min: среднеквадратичная ошибка на последней (макс.) эпохе"
      ]
    },
    {
      "cell_type": "markdown",
      "id": "d45cd92c",
      "metadata": {
        "id": "d45cd92c"
      },
      "source": [
        "Выводы:\n",
        "* График ошибки уменьшается с увеличением кол-ва итераций, но тем не менее остается на большом уровне, что не есть хорошо судя также по предсказанным значениям.\n",
        "* The error graph decreases with an increase in the number of iterations, but nevertheless remains at a high level, which is not good, judging by the predicted values."
      ]
    },
    {
      "cell_type": "markdown",
      "id": "89554acc",
      "metadata": {
        "id": "89554acc"
      },
      "source": [
        "---\n",
        "\n",
        "3. Поэкспериментировать с числом скрытых нейронов и числом скрытых слоев (число слоев не более 2). Проанализировать полученные результаты, сделать выводы.\n",
        "* Experiment with the number of hidden neurons and the number of hidden layers (no more than 2 layers). Analyze the results and draw conclusions."
      ]
    },
    {
      "cell_type": "code",
      "execution_count": 12,
      "id": "8c022a0a",
      "metadata": {
        "id": "8c022a0a",
        "outputId": "a98c0371-7e5d-4002-a628-47269206fd11",
        "colab": {
          "base_uri": "https://localhost:8080/"
        }
      },
      "outputs": [
        {
          "output_type": "stream",
          "name": "stdout",
          "text": [
            "y_test = [ 9 36  6 14 40]\n",
            "y_pred = [12.21898606 21.06572376 13.2643797  12.15529987 18.40797737]\n",
            "mse = 371.02198544801854\n",
            "\n",
            "y_test = [ 9 36  6 14 40]\n",
            "y_pred = [12.00255133 27.13236451 16.90347056 12.65179901 20.50317591]\n",
            "mse = 280.5885888044742\n",
            "\n",
            "y_test = [ 9 36  6 14 40]\n",
            "y_pred = [3.68216221 6.7724436  3.66681394 3.70893348 6.13507215]\n",
            "mse = 818.8892608700803\n",
            "\n",
            "y_test = [ 9 36  6 14 40]\n",
            "y_pred = [ 8.41476567 10.29060135  5.70001095  7.47735502 11.2296905 ]\n",
            "mse = 639.5940340045404\n"
          ]
        }
      ],
      "source": [
        "net = MLPRegressor(hidden_layer_sizes=(5,10), random_state=120)\n",
        "net.fit(X_train,y_train)\n",
        "y_pred = net.predict(X_test)\n",
        "print('y_test =',y_test[:5])\n",
        "print('y_pred =',y_pred[:5])\n",
        "print('mse =',mse(y_test,y_pred))\n",
        "\n",
        "net = MLPRegressor(hidden_layer_sizes=(4,16), random_state=120)\n",
        "net.fit(X_train,y_train)\n",
        "y_pred = net.predict(X_test)\n",
        "print('\\ny_test =',y_test[:5])\n",
        "print('y_pred =',y_pred[:5])\n",
        "print('mse =',mse(y_test,y_pred))\n",
        "\n",
        "net = MLPRegressor(hidden_layer_sizes=(10), random_state=120)\n",
        "net.fit(X_train,y_train)\n",
        "y_pred = net.predict(X_test)\n",
        "print('\\ny_test =',y_test[:5])\n",
        "print('y_pred =',y_pred[:5])\n",
        "print('mse =',mse(y_test,y_pred))\n",
        "\n",
        "net = MLPRegressor(hidden_layer_sizes=(20), random_state=120)\n",
        "net.fit(X_train,y_train)\n",
        "y_pred = net.predict(X_test)\n",
        "print('\\ny_test =',y_test[:5])\n",
        "print('y_pred =',y_pred[:5])\n",
        "print('mse =',mse(y_test,y_pred))"
      ]
    },
    {
      "cell_type": "markdown",
      "id": "165e3bd0",
      "metadata": {
        "id": "165e3bd0"
      },
      "source": [
        "Выводы:\n",
        "* Сеть с двумя скрытыми слоями (4 нейрона на первом и 16 на втором) показала наименьшую ошибку, но этого все равно недостаточно, чтобы даже с небольшой погрешностью дать ответ на вопрос касательно умножения двух чисел.\n",
        "* A network with two hidden layers (4 neurons on the first and 16 on the second) showed the smallest error, but this is still not enough to answer the question regarding the multiplication of two numbers even with a small error."
      ]
    },
    {
      "cell_type": "markdown",
      "id": "120ee1c5",
      "metadata": {
        "id": "120ee1c5"
      },
      "source": [
        "---\n",
        "\n",
        "4. Выполнить масштабирование набора данных и повторить действия п. 2. Сравнить полученные результаты с результатами выполнения п. 2.\n",
        "* Perform scaling of the data set and repeat the steps of step 2. Compare the results obtained with the results of step 2."
      ]
    },
    {
      "cell_type": "code",
      "execution_count": 13,
      "id": "e5880b7b",
      "metadata": {
        "id": "e5880b7b",
        "outputId": "c477ae73-fcaa-409f-f35a-3ce682c23071",
        "colab": {
          "base_uri": "https://localhost:8080/",
          "height": 453
        }
      },
      "outputs": [
        {
          "output_type": "stream",
          "name": "stdout",
          "text": [
            "y_test = [ 9 36  6 14 40 49 10 42  4 24 12 36 72 24  6 14  8 72 28 18 48 35  5 12\n",
            " 30 15 10 63 54 18] \n",
            "\n",
            "y_pred = [2.26150059 2.76401118 1.62754847 1.97733039 3.76203908 3.43705128\n",
            " 1.77583962 3.08899897 1.50020327 2.50122363 1.73876683 2.6326174\n",
            " 4.69786673 1.92978463 1.53727605 1.79196645 1.67509423 4.58953746\n",
            " 2.06790657 1.91931165 3.32872201 2.74094667 1.71216702 1.876585\n",
            " 2.65568191 1.83951222 2.71788216 4.34981442 4.00176212 1.82903924] \n",
            "\n"
          ]
        },
        {
          "output_type": "display_data",
          "data": {
            "text/plain": [
              "<Figure size 432x288 with 1 Axes>"
            ],
            "image/png": "[encoded data removed]"
          },
          "metadata": {
            "needs_background": "light"
          }
        },
        {
          "output_type": "stream",
          "name": "stdout",
          "text": [
            "mse min = [31.44337385406621, 35.322763961802025]\n"
          ]
        }
      ],
      "source": [
        "from sklearn.preprocessing import StandardScaler\n",
        "\n",
        "xscale = StandardScaler().fit_transform(xs) # проводим масштабирование признаков\n",
        "X_train, X_test, y_train, y_test = train_test_split(xscale, ys, test_size=0.3, random_state=120)\n",
        "net = MLPRegressor(hidden_layer_sizes=(2,), random_state=120)\n",
        "net.fit(X_train,y_train)\n",
        "y_pred = net.predict(X_test)\n",
        "print('y_test =',y_test, '\\n')\n",
        "print('y_pred =',y_pred, '\\n')\n",
        "\n",
        "epoch = [100,500,800,1000,1200,1500,2000,3000]\n",
        "train = []\n",
        "test = []\n",
        "for t in epoch:\n",
        "    net = MLPRegressor(hidden_layer_sizes=(2,), max_iter=t, random_state=120)\n",
        "    net.fit(X_train,y_train)\n",
        "    y1 = net.predict(X_train)\n",
        "    y2 = net.predict(X_test)\n",
        "    train.append(mse(y_train,y1))\n",
        "    test.append(mse(y_test,y2))\n",
        "    \n",
        "plt.plot(epoch,train,label='train set')\n",
        "plt.plot(epoch,test,label='test set')\n",
        "plt.legend()\n",
        "plt.xlabel('epoch')\n",
        "plt.ylabel('MSE')\n",
        "plt.show()\n",
        "print('mse min =',[train[-1],test[-1]]);"
      ]
    },
    {
      "cell_type": "markdown",
      "id": "18b64ab5",
      "metadata": {
        "id": "18b64ab5"
      },
      "source": [
        "Выводы:\n",
        "* Сходимость сети улучшилась после масштабирования признаков.\n",
        "* Network convergence improved after feature scaling."
      ]
    },
    {
      "cell_type": "markdown",
      "id": "28991aa4",
      "metadata": {
        "id": "28991aa4"
      },
      "source": [
        "--- \n",
        "\n",
        "5. Поэкспериментировать с параметрами алгоритма обучения: длиной шага и уменьшением длины шага (в классе _BackpropTrainer_ – _learningrate_ и _lrdecay_ соответственно), а также с количеством эпох. Определить набор значений параметров, обеспечивающий наилучшие результаты.\n",
        "* Experiment with the parameters of the learning algorithm: step length and step length reduction (in the _BackpropTrainer_ class – _learningrate_ and _lrdecay_, respectively), as well as with the number of epochs. Determine the set of parameter values that provides the best results.\n",
        "\n",
        "**<u>внимание</u>**: \"(в классе _BackpropTrainer_ – _learningrate_ и _lrdecay_ соответственно)\" для этого нужно использовать библиотеку **pybrain**, но в данном случае используется **sklearn** и в ней также есть возможность для нейронной сети (в данном случае `MLPRegressor`) устанавливать начальную длину шага (`learning_rate_init`), который будет уменьшаться параметром `power_t`: `effective_learning_rate = learning_rate_init / pow(t, power_t)`, как и менять кол-во эпох `max_iter` обучения; только это будет работать в случае `sgd` решателя поэтому его стоит указать изначально в параметрах как: `model = MLPRegressor(solver='sgd', learning_rate='invscaling')`"
      ]
    },
    {
      "cell_type": "code",
      "execution_count": 14,
      "id": "5c8b6b46",
      "metadata": {
        "id": "5c8b6b46",
        "outputId": "ebfbbf73-8985-4c73-9af4-8963dcf0f8fd",
        "colab": {
          "base_uri": "https://localhost:8080/"
        }
      },
      "outputs": [
        {
          "output_type": "stream",
          "name": "stdout",
          "text": [
            "лучшие параметры:\n",
            "{'power_t': 0.7, 'max_iter': 100, 'learning_rate_init': 0.1, 'learning_rate': 'invscaling'} \n",
            "\n",
            "y_test = [ 9 36  6 14 40] \n",
            "\n",
            "y_pred = [11.32887893 34.5549091   6.26161069 12.74244959 40.83336257] \n",
            "\n",
            "mse = 1.8610904331703606\n"
          ]
        }
      ],
      "source": [
        "from sklearn.model_selection import RandomizedSearchCV\n",
        "\n",
        "params = {\n",
        "          'learning_rate' : ['invscaling'], 'learning_rate_init':[0.001,0.0025,0.005,0.0075,0.01,0.05,0.075,0.1,0.15,0.2],\n",
        "          'power_t' : [0.1,0.2,0.3,0.4,0.5,0.6,0.7], 'max_iter' : [10,25,50,100,150,300,500,700,1000,1500,2000,2500,3000]\n",
        "         }\n",
        "\n",
        "model = MLPRegressor()\n",
        "rg = RandomizedSearchCV(model, params)\n",
        "rg.fit(X_train,y_train)\n",
        "best = rg.best_estimator_\n",
        "print('лучшие параметры:')\n",
        "print(rg.best_params_, '\\n')\n",
        "y_pred = best.predict(X_test)\n",
        "print('y_test =',y_test[:5], '\\n')\n",
        "print('y_pred =',y_pred[:5], '\\n')\n",
        "print('mse =', mse(y_test,y_pred))"
      ]
    },
    {
      "cell_type": "markdown",
      "id": "673806eb",
      "metadata": {
        "id": "673806eb"
      },
      "source": [
        "---\n",
        "\n",
        "**Задание 13.** (дополнительно).\n",
        "\n",
        "Рассматривается задача оценки качества вина по его физико-химическим свойствам: _P. Cortez, A. Cerdeira, F. Almeida, T. Matos and J. Reis. Modeling wine preferences by data mining from physicochemical properties. In Decision Support Systems, Elsevier, 47(4):547-553, 2009._\n",
        "Исходные данные размещены в открытом доступе: https://archive.ics.uci.edu/ml/machine-learning-databases/wine-quality/winequality-red.csv (репозиторий UCI). Они содержат 1599 образцов красного вина, описанных 11 признаками, среди которых – кислотность, процентное содержание сахара, алкоголя и др. Кроме того, каждому объекту поставлена в соответствие оценка качества по шкале от 0 до 10 (выставлена экспертами). Требуется восстановить оценку качества вина по исходному признаковому описанию.\n",
        "\n",
        "1. Проанализировать задачу и формализовать ее как задачу многоклассовой классификации.\n",
        "2. Импортировать исходные данные в массив _**NumPy**_ (проще всего – использовать метод _**numpy.loadtxt**_). Вывести несколько первых записей и размерность сформированного массива (для контроля корректности импорта). <br><u>Указание</u>: Альтернативой загрузки данных из заранее сохраненного файла может служить загрузка данных напрямую из репозитория. Для этого следует использовать метод _**urlopen**_ стандартного модуля _**urllib.request**_\n",
        "3. Выделить целевой признак (экспертную оценку) в отдельный массив. Вывести содержимое этого массива в виде гистограммы и убедиться, что данные являются несбалансированными: основная масса объектов имеет оценки от 5 до 7.\n",
        "4. Привести рассматриваемую задачу к задаче трехклассовой классификации: объектам с оценкой менее 5 сопоставить оценку 5, объектам с оценкой более 7 – оценку 7; после этого – вычесть из всех полученных оценок минимальную. В итоге должен получиться набор данных с оценками 0, 1 и 2.\n",
        "5. Выполнить стандартную нормализацию признаков объектов (написав простой код либо применив метод _**normalize**_ модуля _**sklearn.preprocessing**_).\n",
        "6. Выполнить разбиение данных на обучающую/тестовую выборки (обучающая выборка – 70% от всех имеющихся данных).\n",
        "7. Инициализировать структуру данных _**ClassificationDataSet**_, используемую библиотекой _**PyBrain**_ (структура принимает в качестве аргументов количество признаков в наборе данных и количество различных меток классов). Инициализацию следует выполнить отдельно для обучающего и тестового набора данных (создать два объекта). В каждом из созданных объектов выполнить бинаризацию целевой переменной с помощью функции _**_convertToOneOfMany()**_.\n",
        "8. Создать нейросеть с одним скрытым слоем, состоящим из 100 нейронов; функция активации выходного слоя – _softmax_. Обучить сеть на обучающем наборе данных, задав максимальное количество эпох равным 100. Вывести график ошибок сети на обучающей и тестовой выборке в зависимости от количества итераций. Вывести доли неправильных ответов на обучающей и тестовой выборке.\n",
        "9. Проанализировать полученные результаты. Сформулировать свои предложения по улучшению качества модели. Выполнить их реализацию."
      ]
    }
  ],
  "metadata": {
    "kernelspec": {
      "display_name": "Python 3",
      "language": "python",
      "name": "python3"
    },
    "language_info": {
      "codemirror_mode": {
        "name": "ipython",
        "version": 3
      },
      "file_extension": ".py",
      "mimetype": "text/x-python",
      "name": "python",
      "nbconvert_exporter": "python",
      "pygments_lexer": "ipython3",
      "version": "3.8.8"
    },
    "colab": {
      "provenance": []
    }
  },
  "nbformat": 4,
  "nbformat_minor": 5
}