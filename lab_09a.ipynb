{
  "cells": [
    {
      "cell_type": "markdown",
      "metadata": {
        "id": "LqMnxhIFiJb4"
      },
      "source": [
        "# Решающие деревья\n",
        "\n",
        "## Теоретическая часть\n",
        "\n",
        "### Предсказания в решающих деревьях\n",
        "__Вспомнить из лекции:__\n",
        "* Что такое рашющее дерево? \n",
        "* Что такое предикат? Какие бывают предикаты? Какие предикаты чаще всего используются? \n",
        "* В чем отличие внутренних и листовых вершин решающего дерева?\n",
        "* Как выполнить предсказание с помощью решающего дерева в задачах многоклассовой классификации и регрессии?\n",
        "\n",
        "__На что обратить внимание__:\n",
        "* В линейной классификации мы рассматривали бинарную и многоклассовую классификацию отдельно, потому что предсказание и обучение выполняется по-разному для этих двух случаев. В решающих деревьях бинарная и многоклассовая классификация выполняются одинаково.\n",
        "* Предсказания можно сделать для любой точки признакового пространства, то есть для любого возможного объекта, а не только для объекта обучающей выборки. \n",
        "* Признаки в предикатах различных вершин могут повторяться.\n",
        "\n",
        "### Задача 1\n",
        "Рассмотрим задачу классификации на три класса по двум признакам и следующее решающее дерево: \n",
        "\n",
        "<div>\n",
        "<img src=\"lab_09a_tree_class.png\" width=\"350\"/>\n",
        "</div>\n",
        "\n",
        "Какое предсказание это решающее дерево вернет для объекта $x=(7, 1.5)$? Под d1 и d2 подразумеваются первый и второй признак."
      ]
    },
    {
      "cell_type": "markdown",
      "metadata": {
        "id": "3P2HCrS_iJb9"
      },
      "source": [
        "### Решение\n",
        "\n",
        "**<u>Описание</u>**:\n",
        "* $d1 = 7$<br><br>\n",
        "* $d2 = 1.5$<br><br>\n",
        "* $d1 < 3$? Нет<br><br>\n",
        "* $d2 < 2$? Да\n",
        "\n",
        "**Ответ: 2**"
      ]
    },
    {
      "cell_type": "markdown",
      "metadata": {
        "id": "aLLsvsZjiJb-"
      },
      "source": [
        "\n",
        "### Задача 2. \n",
        "Изобразите разделяющую поверхность для решающего дерева из предыдущей задачи.\n",
        "\n",
        "_На что обратить внимание_: в этой задаче нет обучающей выборки, потому что предполагается, что решающее дерево уже задано, и наша задача - как бы сделать предсказания для всех возможных объектов пространства (отсюда и возникает разделяющая поверхность). Об обучении решающего дерева по конкретной выборке далее.\n"
      ]
    },
    {
      "cell_type": "markdown",
      "metadata": {
        "id": "gEWy-k4qiJb-"
      },
      "source": [
        "### Решение\n",
        "\n",
        "**<u>Описание</u>**: Проводим вертикальную линию через $d1 = 3$, все что слева от нее $d1 = 3$ (ветка НЕТ). Аналогично со следующим условием, проводим горизонтальную линию через $d2 = 1$, все что ниже это $d2 < 1$ (ветка ДА), выше $d2 >= 1$ (ветка НЕТ). Получилось две области по левой ветке, первая где $d1 < 3$ и $d2 < 1$, вторая где $d1 >= 3$ и $d2 >= 1$ (то есть при проверке условий $d1 < 3$ и $d2 < 1$ ответы были НЕТ).\n",
        "\n",
        "<div>\n",
        "<img src=\"lab_09a_Task2.jpg\" width=\"350\"/>\n",
        "</div>"
      ]
    },
    {
      "cell_type": "markdown",
      "metadata": {
        "id": "5bz7MCh0iJb_"
      },
      "source": [
        "\n",
        "### Задача 3\n",
        "Рассмотрим задачу регрессии по одному признаку. Визуализируйте решающее правило    для следующего решающего дерева:\n",
        "\n",
        "<div>\n",
        "<img src=\"lab_09a_tree_reg.png\" width=\"350\"/>\n",
        "</div>\n"
      ]
    },
    {
      "cell_type": "markdown",
      "metadata": {
        "id": "Agdknjf4iJb_"
      },
      "source": [
        "### Решение"
      ]
    },
    {
      "cell_type": "markdown",
      "metadata": {
        "id": "hUxzkpITiJcA"
      },
      "source": [
        "**<u>Описание</u>**: так составляется список, $[0.5]$ — элемент списка, $8$ — количество. Т.к. график на оси $x$ будет в интервале от $-1$ до $11$ с точками через каждые $0.5$, то точек, например, по оси $y$ лежащие на $1.8$ нужно будет $4$ штуки. Так как $y = 1.8$ будет по $x$ в промежутке $[7,9)$, то нам нужны точки по $x$ $7, 7.5, 8, 8.5$ ($4$ штуки). Этот график схематичный просто, то что точки будут с промежутком $0.5$ не обязательно, просто так нагляднее, мне показалось."
      ]
    },
    {
      "cell_type": "code",
      "execution_count": null,
      "metadata": {
        "id": "ry7OA_SMiJcA",
        "outputId": "a520b2ac-ea5f-4214-e3a5-a3b14de1347b"
      },
      "outputs": [
        {
          "data": {
            "image/png": "[encoded data removed]",
            "text/plain": [
              "<Figure size 432x288 with 1 Axes>"
            ]
          },
          "metadata": {
            "needs_background": "light"
          },
          "output_type": "display_data"
        }
      ],
      "source": [
        "import matplotlib.pyplot as plt\n",
        "import numpy as np\n",
        "\n",
        "x = np.arange(-1, 12, 0.5) # координаты Х\n",
        "y = [0.5] * 8 + [2.5] * 8 + [1.8] * 4 + [2.7] * 6 # координаты У\n",
        "plt.scatter(x,y)  # отображение графика\n",
        "plt.xlabel('d1') # название оси Х\n",
        "plt.ylabel('target');  # название оси У"
      ]
    },
    {
      "cell_type": "markdown",
      "metadata": {
        "id": "NN7c5NcViJcD"
      },
      "source": [
        "\n",
        "### Задача 4\n",
        "Приведите пример решающего дерева, которое даст нулевую ошибку в задаче классификации по двум признакам, изображенной ниже. Изобразите само решающее дерево, а также изобразите получающуюся разделяющую поверхность на рисунке. Используйте предикаты вида [j-й признак < t].\n",
        "\n",
        "<div>\n",
        "<img src=\"lab_09a_ideal_task.png\" width=\"350\"/>\n",
        "</div>\n"
      ]
    },
    {
      "cell_type": "markdown",
      "metadata": {
        "id": "gvrixrShiJcD"
      },
      "source": [
        "### Решение\n",
        "\n",
        "**<u>Описание</u>**: Разделим плоскость на две половины предикатом $d1 < 3$ (вертикальная линия через $d1 = 3$). Левую половину разделим предикатом $d1 < 1$, тут слева останутся только зеленые объекты, а правую часть разделим по $d2 < 1.5$, снизу останутся фиолетовые, сверху желтые. Теперь вернемся к правой половине от деления $d1 < 3$. Поделим ее по $d1 < 3.5$, слева останутся желтые, справа зеленые.\n",
        "<br><br>\n",
        "<div>\n",
        "<img src=\"lab_09a_Task4_1.jpg\" width=\"350\"/>\n",
        "</div>\n",
        "\n",
        "<div>\n",
        "<img src=\"lab_09a_Task4_2.jpg\" width=\"350\"/>\n",
        "</div>"
      ]
    },
    {
      "cell_type": "markdown",
      "metadata": {
        "id": "NjZPVNwFiJcE"
      },
      "source": [
        "\n",
        "__На что обратить внимание__: подобным способом можно для любой непротиворечивой выборки построить решающее дерево, имеющее нулевую ошибку на этой выборке. Этот факт обосновывает склонность решающих деревьев к переобучению. Под непротиворечивостью здесь подразумевается, что в выборке нет двух объектов с одинаковыми значениями признаков, но разными значениями целевой переменной.\n"
      ]
    },
    {
      "cell_type": "markdown",
      "metadata": {
        "id": "jdOANFuCiJcE"
      },
      "source": [
        "\n",
        "### Обучение решающего дерева\n",
        "__Непрерывная и дискретная оптимизация.__ Для обучения моделей, как правило, используются методы оптимизации. В зависимости от того, по каким переменным нужно выполнять оптимизацию, выделяют два вида оптимизации: непрерывную и дискретную. Непрерывная оптимизация выполняется по вещественным числам, часто здесь используют градиентные методы. С помощью непрерывной оптимизации мы обучали линейные модели. Дискретная оптимизация выполняется по конечным множествам, для этого необходимо делать перебор по элементам множества. Делать полный перебор может быть очень долго, поэтому придумывают более эффективные алгоритмы, например один из самых простых - жадный алгоритм. С помощью жадной дискретной оптимизации мы будем обучать решающие деревья. В решающих деревьях нужно выбрать одно из всех возможных разбиений признакового пространства на области. Несмотря на то, что всего разбиений бесконечное число, разбиений, приводящих к разным предсказаниям на обучающей выборке, конечное число - между ними и нужно выбрать одно.\n",
        "\n",
        "__Вспомнить из лекции:__\n",
        "* Рекурсивный алгоритм построения решающего дерева.\n",
        "* Какие вы знаете критерии останова при построении решающего дерева?\n",
        "* Как выбрать, какое предсказание делать в листе для задачи регрессии и задачи классификации?\n",
        "\n",
        "__Критерии информативности: интуиция.__ \n",
        "Когда мы строим одну вершину решающего дерева, мы разбиваем выборку на две подвыборки: одна подвыборка будет использоваться при построении левого поддерева, вторая - при построении правого поддерева. \n",
        "Какую цель мы преследуем, когда разбиваем выборку на две подвыборки? Каких свойств мы хотим от получающихся подвыборок? Можно придумать разные ответы, но на практике хорошо работает следующее желаемое свойство: мы хотим, чтобы ответы в обеих подвыборках были как можно менее вариативны. В идеальной ситуации в каждой подвыборке у всех объектов одинаковые ответы, и дальше строить дерево не нужно (каждая подвыборка станет листом). На практике так обычно не получается, иначе это бы уже не было задачей машинного обучения. Однако мы можем постепенно уменьшать вариативность ответов в подвыборках. Итак, зафиксируем следующую постановку задачи: у нас есть вектор правильных ответов $Y_v$ (ответы на всех объектах, попавших в вершину $v$), и мы хотим измерить вариативность этих ответов.\n",
        "\n",
        "Как измерить вариативность в задаче регрессии? Для этого можно использовать среднеквадратичное отклонение:\n",
        "$$H(Y_v) = \\sum_{i=1}^{|Y_v|} (Y_{v, i} - \\bar Y_{v})^2,$$\n",
        "где $\\bar Y_{v}$ - среднее вектора $Y_{v}$.\n",
        "Можно выбирать аналогичные меры разброса в зависимости от функции потерь, используемой в задаче. Например, при использовании MAE можно заменить квадрат на модуль, а среднее - на медиану.\n",
        "\n",
        "Как измерить вариативность в задаче классификации? Здесь обычно подходят следующим образом: на основе вектора $Y_v$, состоящего из меток классов $1 \\dots K$, вычисляют доли каждого класса: $(p_1, \\dots, p_K)$. Если все элементы вектора одинаковые (вариативность наименьшая), то среди $p_k$ будет одна 1, оостальные значения 0 (назовем это случай а). При наименьшей вариативности вектора $Y_v$ все $p_k \\approx \\frac 1 k$ (случай б). Осталось придумать критерий, зависящий от $(p_1, \\dots, p_K)$, который минимален в случае а и максимален в случае б. Таким критерием является, например, энтропийный критерий:\n",
        "$$H(Y_v) = H(p_1, \\dots, p_K) = - \\sum_{k=1}^K p_k \\log p_k$$\n",
        "или критерий Джини:\n",
        "$$H(Y_v) = H(p_1, \\dots, p_K) = \\sum_{k=1}^K p_k (1-p_k).$$\n",
        "\n",
        "В итоге, мы можем измерить вариативность подвыборок, из которых будет строиться левое и правое поддерево. Чтобы построить вершину $v$, мы будем перебирать все возможные признаки $j$ и все возможные пороги $t$ (всего $\\ell d$ вариантов, $\\ell$ - число объектов, $d$ - число признаков), для каждой пары $(j, t)$ мы получим разбиение выборки на две части, им соответствуют векторы правильных ответов $Y_\\ell$ и $Y_r$. Далее нам нужно сравнить все разбиения и выбрать лучшее. Сравнивать разбиения удобно, когда есть один критерий;  у нас же пока два критерия. Скомбинируем вариативность обеих выборок в одном критерие:\n",
        "\n",
        "$$Q(Y_v, j, t) = \\frac {|Y_\\ell|}{|Y_v|} H(Y_\\ell) + \\frac {|Y_r|}{|Y_v|} H(Y_r) \\rightarrow \\min_{j, \\,t}$$\n",
        "\n",
        "Веса $\\frac {|Y_\\ell|}{|Y_v|}$ и $\\frac {|Y_r|}{|Y_v|}$ вводятся для того, чтобы не поощрять отделение одного объекта в отдельную вершину: для таких подвыборок вариативность вектора правильных ответов низкая, и без перевзвешивания алгоритм всегда выбирал бы подобные разбиения. А это нежелательно, потому что вершины из одного объекта позволяют запоминать ответы, что ведет к переобучению. \n",
        "\n",
        "Итоговый алгоритм построения вершины: перебрать все варианты $(j, t)$, для каждого посчитать критерий $Q(Y_v, j, t)$, выбрать пару с наибольшим значением критерия.\n",
        "\n",
        "### Задача 5\n",
        "Предположим, мы решаем задачу классификации на три класса по четырем признакам и строим решающее дерево. При построении вершины $v$ мы имеем выборку из семи объектов:\n",
        "\n",
        "| 1-й признак | 2-й признак | 3-й признак | 4-й признак | класс |\n",
        "|-------------|-------------|-------------|-------------|-------|\n",
        "| 5           | 8           | 8           | 2.5         | 2     |\n",
        "| 3           | 3           | 7           | 7.7         | 1     |\n",
        "| 6           | 7.7         | 1           | 1.1         | 3     |\n",
        "| 3.3         | 1           | 2           | 1.2         | 1     |\n",
        "| 24          | 3.9         | 5           | 3.9         | 1     |\n",
        "| 12          | 10          | 10.1        | 8           | 2     |\n",
        "| 1           | 2           | 2           | 9.1         | 1     |\n",
        "\n",
        "Какой из предикатов лучше: [1-й признак < 6] или [3-й признак < 5] по критерию Джини?\n"
      ]
    },
    {
      "cell_type": "markdown",
      "metadata": {
        "id": "WPHT2lGTiJcF"
      },
      "source": [
        "### Решение"
      ]
    },
    {
      "cell_type": "code",
      "execution_count": null,
      "metadata": {
        "id": "vkJotWcsiJcF",
        "outputId": "b7a9d567-fe6a-4571-e7c4-72b4d8af5189"
      },
      "outputs": [
        {
          "name": "stdout",
          "output_type": "stream",
          "text": [
            "Ответ: 3-й < 5\n"
          ]
        }
      ],
      "source": [
        "def gain(true_values, false_values, values): # функция расчета прироста информативности\n",
        "    p = float(len(true_values)) / (len(true_values) + len(false_values))\n",
        "    return gini(values) - p * gini(true_values) - (1 - p) * gini(false_values)\n",
        "\n",
        "def gini(labels): # функция расчета Джини\n",
        "    classes = dict_classes(labels) # присваивание результата функции(словарь с классами и их количеством)\n",
        "    # формулу Джини преобразовал: 1 - сум(Рк^2)\n",
        "    impurity = 1 # сумма всех Рк ()\n",
        "    for label in classes: # расчет суммы квадратов Рк\n",
        "        p = classes[label] / len(labels)\n",
        "        impurity -= p ** 2\n",
        "    return impurity \n",
        "\n",
        "def dict_classes(values): # функция создания словаря с количеством элементов каждого класса \n",
        "    classes = {}\n",
        "    for value in values: # перебор по списку классов\n",
        "        if value not in classes: # если такого класса нет в словаре\n",
        "            classes[value] = 0 # создается элемент словаря\n",
        "        classes[value] += 1 # прибавляется единица к количеству элементов класса \n",
        "    return classes\n",
        "\n",
        "# Описание: аргументами функции являются:\n",
        "# 1. список с классами элементов, которые удовлетворяют предикату\n",
        "# 2. список с классами элементов, которые не удовлетворяют предикату\n",
        "# 3. список классов всех элементов\n",
        "\n",
        "if gain([2,1,1,1],[3,24,12],[2,1,3,1,1,2,1]) > gain([3,1,1],[2,1,1,2],[2,1,3,1,1,2,1]): # выбор наилучшего предиката\n",
        "    print(\"Ответ: 1-й < 6\")\n",
        "else:\n",
        "    print(\"Ответ: 3-й < 5\")"
      ]
    },
    {
      "cell_type": "markdown",
      "metadata": {
        "id": "rbZBLs3riJcG"
      },
      "source": [
        "\n",
        "### Вопрос: Что является параметрами и гиперпараметрами решающих деревьев?\n"
      ]
    },
    {
      "cell_type": "markdown",
      "metadata": {
        "id": "c1wDC1W1iJcG"
      },
      "source": [
        "### Ответ:\n",
        "**параметры**: те что настраивается в процессе обучение (вес, порог)\n",
        "<br><br>\n",
        "**гиперпараметры**:\n",
        "* `criterion : {“gini”, “entropy”, “log_loss”}` — критерий информативности<br><br>\n",
        "* `splitter : {“best”, “random”}` — стратегия построения разбиения в каждом узле (выбор оптимального разбиения или случайным образом)<br><br>\n",
        "* `max_depth` — максимальная глубина дерева, максимально число разветвления одной ветки <br><br>\n",
        "* `min_samples_split` — минимальное число элементов в узле, при котором допускается его разбиение <br><br>\n",
        "* `min_samples_leaf` — минимальное число элементов лежащих в узле"
      ]
    },
    {
      "cell_type": "markdown",
      "metadata": {
        "id": "EXlyvX5GiJcH"
      },
      "source": [
        "## Практическая часть\n",
        "\n",
        "Реализуем часть алгоритма обучения решающего дерева: построение корневой вершины дерева на конкретных данных. Будем использовать алгоритмом, описанный в теоретической части (перебор всех признаков и порогов и подсчет критерия Q). После выбора оптимального признака и порога, визуализируем разделение выборки по этому признаку и порогу."
      ]
    },
    {
      "cell_type": "markdown",
      "metadata": {
        "id": "rHZ8skIdiJcH"
      },
      "source": [
        "Будем использовать данные boston. В этой задаче нужно предсказать стоимость жилья (задача регрессии)."
      ]
    },
    {
      "cell_type": "code",
      "execution_count": null,
      "metadata": {
        "id": "0pxdw1YYiJcH"
      },
      "outputs": [],
      "source": [
        "import pandas as pd\n",
        "import numpy as np\n",
        "from sklearn.datasets import load_boston\n",
        "import re\n",
        "from sklearn.model_selection import train_test_split"
      ]
    },
    {
      "cell_type": "code",
      "execution_count": null,
      "metadata": {
        "id": "E3uizpeYiJcH"
      },
      "outputs": [],
      "source": [
        "boston = load_boston()"
      ]
    },
    {
      "cell_type": "code",
      "execution_count": null,
      "metadata": {
        "id": "HZTP6yGKiJcI",
        "outputId": "aa08fef8-a5bd-4a89-fdef-67f5d4c90b96"
      },
      "outputs": [
        {
          "data": {
            "text/plain": [
              "dict_keys(['data', 'target', 'feature_names', 'DESCR', 'filename', 'data_module'])"
            ]
          },
          "execution_count": 43,
          "metadata": {},
          "output_type": "execute_result"
        }
      ],
      "source": [
        "boston.keys()"
      ]
    },
    {
      "cell_type": "markdown",
      "metadata": {
        "id": "w_FLXiZ1iJcI"
      },
      "source": [
        "Разделим выборку на обучение и контроль:"
      ]
    },
    {
      "cell_type": "code",
      "execution_count": null,
      "metadata": {
        "id": "Oofk5SCaiJcI"
      },
      "outputs": [],
      "source": [
        "X_tr, X_te, y_tr, y_te = train_test_split(boston[\"data\"], boston[\"target\"])"
      ]
    },
    {
      "cell_type": "markdown",
      "metadata": {
        "id": "IDF4rO94iJcJ"
      },
      "source": [
        "Преобразуем в pandas-датафрейм:"
      ]
    },
    {
      "cell_type": "code",
      "execution_count": null,
      "metadata": {
        "id": "CB6klV5fiJcJ"
      },
      "outputs": [],
      "source": [
        "data_train = pd.DataFrame(X_tr, columns=boston[\"feature_names\"])\n",
        "data_test = pd.DataFrame(X_te, columns=boston[\"feature_names\"])"
      ]
    },
    {
      "cell_type": "code",
      "execution_count": null,
      "metadata": {
        "id": "NHehH3ITiJcJ",
        "outputId": "d4515184-83d3-47a8-edd4-e7924b56cd93"
      },
      "outputs": [
        {
          "data": {
            "text/html": [
              "<div>\n",
              "<style scoped>\n",
              "    .dataframe tbody tr th:only-of-type {\n",
              "        vertical-align: middle;\n",
              "    }\n",
              "\n",
              "    .dataframe tbody tr th {\n",
              "        vertical-align: top;\n",
              "    }\n",
              "\n",
              "    .dataframe thead th {\n",
              "        text-align: right;\n",
              "    }\n",
              "</style>\n",
              "<table border=\"1\" class=\"dataframe\">\n",
              "  <thead>\n",
              "    <tr style=\"text-align: right;\">\n",
              "      <th></th>\n",
              "      <th>CRIM</th>\n",
              "      <th>ZN</th>\n",
              "      <th>INDUS</th>\n",
              "      <th>CHAS</th>\n",
              "      <th>NOX</th>\n",
              "      <th>RM</th>\n",
              "      <th>AGE</th>\n",
              "      <th>DIS</th>\n",
              "      <th>RAD</th>\n",
              "      <th>TAX</th>\n",
              "      <th>PTRATIO</th>\n",
              "      <th>B</th>\n",
              "      <th>LSTAT</th>\n",
              "    </tr>\n",
              "  </thead>\n",
              "  <tbody>\n",
              "    <tr>\n",
              "      <th>0</th>\n",
              "      <td>5.69175</td>\n",
              "      <td>0.0</td>\n",
              "      <td>18.10</td>\n",
              "      <td>0.0</td>\n",
              "      <td>0.583</td>\n",
              "      <td>6.114</td>\n",
              "      <td>79.8</td>\n",
              "      <td>3.5459</td>\n",
              "      <td>24.0</td>\n",
              "      <td>666.0</td>\n",
              "      <td>20.2</td>\n",
              "      <td>392.68</td>\n",
              "      <td>14.98</td>\n",
              "    </tr>\n",
              "    <tr>\n",
              "      <th>1</th>\n",
              "      <td>1.83377</td>\n",
              "      <td>0.0</td>\n",
              "      <td>19.58</td>\n",
              "      <td>1.0</td>\n",
              "      <td>0.605</td>\n",
              "      <td>7.802</td>\n",
              "      <td>98.2</td>\n",
              "      <td>2.0407</td>\n",
              "      <td>5.0</td>\n",
              "      <td>403.0</td>\n",
              "      <td>14.7</td>\n",
              "      <td>389.61</td>\n",
              "      <td>1.92</td>\n",
              "    </tr>\n",
              "    <tr>\n",
              "      <th>2</th>\n",
              "      <td>22.05110</td>\n",
              "      <td>0.0</td>\n",
              "      <td>18.10</td>\n",
              "      <td>0.0</td>\n",
              "      <td>0.740</td>\n",
              "      <td>5.818</td>\n",
              "      <td>92.4</td>\n",
              "      <td>1.8662</td>\n",
              "      <td>24.0</td>\n",
              "      <td>666.0</td>\n",
              "      <td>20.2</td>\n",
              "      <td>391.45</td>\n",
              "      <td>22.11</td>\n",
              "    </tr>\n",
              "    <tr>\n",
              "      <th>3</th>\n",
              "      <td>0.24522</td>\n",
              "      <td>0.0</td>\n",
              "      <td>9.90</td>\n",
              "      <td>0.0</td>\n",
              "      <td>0.544</td>\n",
              "      <td>5.782</td>\n",
              "      <td>71.7</td>\n",
              "      <td>4.0317</td>\n",
              "      <td>4.0</td>\n",
              "      <td>304.0</td>\n",
              "      <td>18.4</td>\n",
              "      <td>396.90</td>\n",
              "      <td>15.94</td>\n",
              "    </tr>\n",
              "    <tr>\n",
              "      <th>4</th>\n",
              "      <td>0.10290</td>\n",
              "      <td>30.0</td>\n",
              "      <td>4.93</td>\n",
              "      <td>0.0</td>\n",
              "      <td>0.428</td>\n",
              "      <td>6.358</td>\n",
              "      <td>52.9</td>\n",
              "      <td>7.0355</td>\n",
              "      <td>6.0</td>\n",
              "      <td>300.0</td>\n",
              "      <td>16.6</td>\n",
              "      <td>372.75</td>\n",
              "      <td>11.22</td>\n",
              "    </tr>\n",
              "  </tbody>\n",
              "</table>\n",
              "</div>"
            ],
            "text/plain": [
              "       CRIM    ZN  INDUS  CHAS    NOX     RM   AGE     DIS   RAD    TAX  \\\n",
              "0   5.69175   0.0  18.10   0.0  0.583  6.114  79.8  3.5459  24.0  666.0   \n",
              "1   1.83377   0.0  19.58   1.0  0.605  7.802  98.2  2.0407   5.0  403.0   \n",
              "2  22.05110   0.0  18.10   0.0  0.740  5.818  92.4  1.8662  24.0  666.0   \n",
              "3   0.24522   0.0   9.90   0.0  0.544  5.782  71.7  4.0317   4.0  304.0   \n",
              "4   0.10290  30.0   4.93   0.0  0.428  6.358  52.9  7.0355   6.0  300.0   \n",
              "\n",
              "   PTRATIO       B  LSTAT  \n",
              "0     20.2  392.68  14.98  \n",
              "1     14.7  389.61   1.92  \n",
              "2     20.2  391.45  22.11  \n",
              "3     18.4  396.90  15.94  \n",
              "4     16.6  372.75  11.22  "
            ]
          },
          "execution_count": 46,
          "metadata": {},
          "output_type": "execute_result"
        }
      ],
      "source": [
        "data_train.head()"
      ]
    },
    {
      "cell_type": "markdown",
      "metadata": {
        "id": "BaDF6PcUiJcJ"
      },
      "source": [
        "Число объектов и признаков:"
      ]
    },
    {
      "cell_type": "code",
      "execution_count": null,
      "metadata": {
        "id": "OwogmX-uiJcK",
        "outputId": "a945fa1b-a5a4-4a43-9ca9-505c2da0515e"
      },
      "outputs": [
        {
          "data": {
            "text/plain": [
              "(379, 13)"
            ]
          },
          "execution_count": 47,
          "metadata": {},
          "output_type": "execute_result"
        }
      ],
      "source": [
        "data_train.shape"
      ]
    },
    {
      "cell_type": "code",
      "execution_count": null,
      "metadata": {
        "id": "prr2sBQYiJcK"
      },
      "outputs": [],
      "source": [
        "from matplotlib import pyplot as plt\n",
        "%matplotlib inline"
      ]
    },
    {
      "cell_type": "markdown",
      "metadata": {
        "id": "eLkDaRIbiJcK"
      },
      "source": [
        "Реализуем первый шаг в построении решающего дерева - выбор признака и порога для разделения в корневой веришне дерева. Далее - максимально понятный, но не оптимальный код (в sklearn алгоритм реализован более эффективно)."
      ]
    },
    {
      "cell_type": "code",
      "execution_count": null,
      "metadata": {
        "id": "e8ljaTS1iJcK"
      },
      "outputs": [],
      "source": [
        "# Чтобы было удобно сортировать объекты вместе с целевым вектором, допишем его в датафрейм\n",
        "data_train[\"target\"] = y_tr"
      ]
    },
    {
      "cell_type": "code",
      "execution_count": null,
      "metadata": {
        "id": "a9RriOoZiJcK"
      },
      "outputs": [],
      "source": [
        "# Чтобы было удобно перебирать порог на первый признак, отсортируем датафрейм по нему\n",
        "data_train.sort_values(\"CRIM\", inplace=True)"
      ]
    },
    {
      "cell_type": "code",
      "execution_count": null,
      "metadata": {
        "id": "0vbZ_mE9iJcL",
        "outputId": "a4030e41-1627-46ae-e7d6-923eea40b3b5"
      },
      "outputs": [
        {
          "data": {
            "text/html": [
              "<div>\n",
              "<style scoped>\n",
              "    .dataframe tbody tr th:only-of-type {\n",
              "        vertical-align: middle;\n",
              "    }\n",
              "\n",
              "    .dataframe tbody tr th {\n",
              "        vertical-align: top;\n",
              "    }\n",
              "\n",
              "    .dataframe thead th {\n",
              "        text-align: right;\n",
              "    }\n",
              "</style>\n",
              "<table border=\"1\" class=\"dataframe\">\n",
              "  <thead>\n",
              "    <tr style=\"text-align: right;\">\n",
              "      <th></th>\n",
              "      <th>CRIM</th>\n",
              "      <th>ZN</th>\n",
              "      <th>INDUS</th>\n",
              "      <th>CHAS</th>\n",
              "      <th>NOX</th>\n",
              "      <th>RM</th>\n",
              "      <th>AGE</th>\n",
              "      <th>DIS</th>\n",
              "      <th>RAD</th>\n",
              "      <th>TAX</th>\n",
              "      <th>PTRATIO</th>\n",
              "      <th>B</th>\n",
              "      <th>LSTAT</th>\n",
              "      <th>target</th>\n",
              "    </tr>\n",
              "  </thead>\n",
              "  <tbody>\n",
              "    <tr>\n",
              "      <th>361</th>\n",
              "      <td>0.00906</td>\n",
              "      <td>90.0</td>\n",
              "      <td>2.97</td>\n",
              "      <td>0.0</td>\n",
              "      <td>0.400</td>\n",
              "      <td>7.088</td>\n",
              "      <td>20.8</td>\n",
              "      <td>7.3073</td>\n",
              "      <td>1.0</td>\n",
              "      <td>285.0</td>\n",
              "      <td>15.3</td>\n",
              "      <td>394.72</td>\n",
              "      <td>7.85</td>\n",
              "      <td>32.2</td>\n",
              "    </tr>\n",
              "    <tr>\n",
              "      <th>192</th>\n",
              "      <td>0.01096</td>\n",
              "      <td>55.0</td>\n",
              "      <td>2.25</td>\n",
              "      <td>0.0</td>\n",
              "      <td>0.389</td>\n",
              "      <td>6.453</td>\n",
              "      <td>31.9</td>\n",
              "      <td>7.3073</td>\n",
              "      <td>1.0</td>\n",
              "      <td>300.0</td>\n",
              "      <td>15.3</td>\n",
              "      <td>394.72</td>\n",
              "      <td>8.23</td>\n",
              "      <td>22.0</td>\n",
              "    </tr>\n",
              "    <tr>\n",
              "      <th>353</th>\n",
              "      <td>0.01301</td>\n",
              "      <td>35.0</td>\n",
              "      <td>1.52</td>\n",
              "      <td>0.0</td>\n",
              "      <td>0.442</td>\n",
              "      <td>7.241</td>\n",
              "      <td>49.3</td>\n",
              "      <td>7.0379</td>\n",
              "      <td>1.0</td>\n",
              "      <td>284.0</td>\n",
              "      <td>15.5</td>\n",
              "      <td>394.74</td>\n",
              "      <td>5.49</td>\n",
              "      <td>32.7</td>\n",
              "    </tr>\n",
              "    <tr>\n",
              "      <th>193</th>\n",
              "      <td>0.01360</td>\n",
              "      <td>75.0</td>\n",
              "      <td>4.00</td>\n",
              "      <td>0.0</td>\n",
              "      <td>0.410</td>\n",
              "      <td>5.888</td>\n",
              "      <td>47.6</td>\n",
              "      <td>7.3197</td>\n",
              "      <td>3.0</td>\n",
              "      <td>469.0</td>\n",
              "      <td>21.1</td>\n",
              "      <td>396.90</td>\n",
              "      <td>14.80</td>\n",
              "      <td>18.9</td>\n",
              "    </tr>\n",
              "    <tr>\n",
              "      <th>225</th>\n",
              "      <td>0.01439</td>\n",
              "      <td>60.0</td>\n",
              "      <td>2.93</td>\n",
              "      <td>0.0</td>\n",
              "      <td>0.401</td>\n",
              "      <td>6.604</td>\n",
              "      <td>18.8</td>\n",
              "      <td>6.2196</td>\n",
              "      <td>1.0</td>\n",
              "      <td>265.0</td>\n",
              "      <td>15.6</td>\n",
              "      <td>376.70</td>\n",
              "      <td>4.38</td>\n",
              "      <td>29.1</td>\n",
              "    </tr>\n",
              "  </tbody>\n",
              "</table>\n",
              "</div>"
            ],
            "text/plain": [
              "        CRIM    ZN  INDUS  CHAS    NOX     RM   AGE     DIS  RAD    TAX  \\\n",
              "361  0.00906  90.0   2.97   0.0  0.400  7.088  20.8  7.3073  1.0  285.0   \n",
              "192  0.01096  55.0   2.25   0.0  0.389  6.453  31.9  7.3073  1.0  300.0   \n",
              "353  0.01301  35.0   1.52   0.0  0.442  7.241  49.3  7.0379  1.0  284.0   \n",
              "193  0.01360  75.0   4.00   0.0  0.410  5.888  47.6  7.3197  3.0  469.0   \n",
              "225  0.01439  60.0   2.93   0.0  0.401  6.604  18.8  6.2196  1.0  265.0   \n",
              "\n",
              "     PTRATIO       B  LSTAT  target  \n",
              "361     15.3  394.72   7.85    32.2  \n",
              "192     15.3  394.72   8.23    22.0  \n",
              "353     15.5  394.74   5.49    32.7  \n",
              "193     21.1  396.90  14.80    18.9  \n",
              "225     15.6  376.70   4.38    29.1  "
            ]
          },
          "execution_count": 51,
          "metadata": {},
          "output_type": "execute_result"
        }
      ],
      "source": [
        "data_train.head()"
      ]
    },
    {
      "cell_type": "code",
      "execution_count": null,
      "metadata": {
        "id": "kCe4mJO_iJcL"
      },
      "outputs": [],
      "source": [
        "# Перебор всех возможных разбиений по первому признаку.\n",
        "# Для каждого разбиения - вычисление Q, как описано выше:\n",
        "# сначала - вычисление критерия информативности (дисперсии ответов) для левого и правого поддерева, затем - суммирование значений критерия информативности с весами\n",
        "quals = []\n",
        "for i in range(data_train.shape[0]):\n",
        "    quality = data_train[\"target\"][:i].std()**2 * i/data_train.shape[0] + data_train[\"target\"][i:].std()**2 * (1-i/data_train.shape[0])\n",
        "    quals.append(quality)"
      ]
    },
    {
      "cell_type": "code",
      "execution_count": null,
      "metadata": {
        "id": "6H_qDRqOiJcL",
        "outputId": "661665c2-3d21-4c1a-db10-007dabf554f8"
      },
      "outputs": [
        {
          "data": {
            "image/png": "[encoded data removed]",
            "text/plain": [
              "<Figure size 432x288 with 1 Axes>"
            ]
          },
          "metadata": {
            "needs_background": "light"
          },
          "output_type": "display_data"
        }
      ],
      "source": [
        "# График в координатах значение порога на первый признак - значение Q\n",
        "plt.plot(data_train[\"CRIM\"], quals)\n",
        "plt.xlabel(\"feature CRIM\")\n",
        "plt.ylabel(\"Q\");"
      ]
    },
    {
      "cell_type": "markdown",
      "metadata": {
        "id": "YiFh_8h5iJcL"
      },
      "source": [
        "Оптимум достигается в районе CRIM = 7."
      ]
    },
    {
      "cell_type": "markdown",
      "metadata": {
        "id": "YGHKG3qDiJcL"
      },
      "source": [
        "Теперь повторим процедуру вычисления Q для каждого признака.\n",
        "\n",
        "Обратите внимание: чтобы было удобно сравнивать значение критерия для разных признаков, следует изобразить все на одном графике. Но шкала (множество значений) у каждого признака своя. Поэтому по оси x будем отмечать числа от 0 до длины выборки (номера записей в наборе данных), и величину оптимального порога по графику будет определить нельзя. По графику мы сможем определить только оптимальный признак для разделения."
      ]
    },
    {
      "cell_type": "code",
      "execution_count": null,
      "metadata": {
        "id": "KztfMzaTiJcM",
        "outputId": "a3f7486f-5004-4f20-b0b2-2fbce8e0fa92"
      },
      "outputs": [
        {
          "data": {
            "image/png": "[encoded data removed]",
            "text/plain": [
              "<Figure size 432x288 with 1 Axes>"
            ]
          },
          "metadata": {
            "needs_background": "light"
          },
          "output_type": "display_data"
        }
      ],
      "source": [
        "for feat in data_train.columns[:-1]:\n",
        "    quals = []\n",
        "    data_train.sort_values(feat, inplace=True)\n",
        "    for i in range(data_train.shape[0]):\n",
        "        quality = data_train[\"target\"][:i].std()**2 * i/data_train.shape[0] + data_train[\"target\"][i:].std()**2 * (1-i/data_train.shape[0])\n",
        "        quals.append(quality)\n",
        "    plt.plot(quals, label=feat)\n",
        "plt.xlabel(\"Dataset splits\")\n",
        "plt.ylabel(\"Q\")\n",
        "plt.legend(loc=(1.1, 0));"
      ]
    },
    {
      "cell_type": "markdown",
      "metadata": {
        "id": "Fz4J-RcFiJcM"
      },
      "source": [
        "Наименьшее значение критерия из всех линий достигается на коричневой линии RM. Изобразим график для этого признака отдельно (со значениями порога по оси абсцисс): "
      ]
    },
    {
      "cell_type": "code",
      "execution_count": null,
      "metadata": {
        "id": "6gPvBY48iJcM",
        "outputId": "e4d72199-e5a1-4f70-efd9-b3bbf6e004a0"
      },
      "outputs": [
        {
          "data": {
            "image/png": "[encoded data removed]",
            "text/plain": [
              "<Figure size 432x288 with 1 Axes>"
            ]
          },
          "metadata": {
            "needs_background": "light"
          },
          "output_type": "display_data"
        }
      ],
      "source": [
        "feat = \"RM\"\n",
        "quals = []\n",
        "data_train.sort_values(feat, inplace=True)\n",
        "for i in range(data_train.shape[0]):\n",
        "    quality = data_train[\"target\"][:i].std()**2 * i/data_train.shape[0] + \\\n",
        "    data_train[\"target\"][i:].std()**2 * (1-i/data_train.shape[0])\n",
        "    quals.append(quality)\n",
        "plt.plot(data_train[feat], quals)\n",
        "plt.xlabel(\"feature \"+feat)\n",
        "plt.ylabel(\"Q\");"
      ]
    },
    {
      "cell_type": "markdown",
      "metadata": {
        "id": "QypZ6BsUiJcM"
      },
      "source": [
        "Оптимальная величина порога:"
      ]
    },
    {
      "cell_type": "code",
      "execution_count": null,
      "metadata": {
        "id": "hx-9RhO2iJcM",
        "outputId": "94fbc4d4-a4d6-4a5e-9948-1cb380cae72d"
      },
      "outputs": [
        {
          "name": "stdout",
          "output_type": "stream",
          "text": [
            "6.968\n"
          ]
        }
      ],
      "source": [
        "not_nan_mask = np.logical_not(np.isnan(quals))\n",
        "quals = np.array(quals)[not_nan_mask]\n",
        "threshs = data_train[feat].values[not_nan_mask]\n",
        "thresh = threshs[np.argmin(quals)]\n",
        "print(thresh)"
      ]
    },
    {
      "cell_type": "markdown",
      "metadata": {
        "id": "AhK7u7GFiJcN"
      },
      "source": [
        "Изобразим выборку в осях RM - target и изобразим порог, по которому следует выполнять разделение:"
      ]
    },
    {
      "cell_type": "code",
      "execution_count": null,
      "metadata": {
        "id": "t-DXmWT3iJcN",
        "outputId": "765785e0-6aa3-4e97-8f35-67e7398d79d5"
      },
      "outputs": [
        {
          "data": {
            "image/png": "[encoded data removed]",
            "text/plain": [
              "<Figure size 432x288 with 1 Axes>"
            ]
          },
          "metadata": {
            "needs_background": "light"
          },
          "output_type": "display_data"
        }
      ],
      "source": [
        "plt.scatter(data_train[\"RM\"], data_train[\"target\"])\n",
        "plt.plot([thresh, thresh], [0, 60], color=\"red\")\n",
        "plt.xlabel(\"RM\")\n",
        "plt.ylabel(\"Target\");"
      ]
    },
    {
      "cell_type": "markdown",
      "metadata": {
        "id": "H0hJOH8ViJcN"
      },
      "source": [
        "Видно, что большинство точек справа от красной линии лежит выше 30, а слева - ниже, т. е. этот признак действительно хорошо разделяет выборку."
      ]
    }
  ],
  "metadata": {
    "anaconda-cloud": {},
    "kernelspec": {
      "display_name": "Python 3",
      "language": "python",
      "name": "python3"
    },
    "language_info": {
      "codemirror_mode": {
        "name": "ipython",
        "version": 3
      },
      "file_extension": ".py",
      "mimetype": "text/x-python",
      "name": "python",
      "nbconvert_exporter": "python",
      "pygments_lexer": "ipython3",
      "version": "3.8.8"
    },
    "colab": {
      "provenance": []
    }
  },
  "nbformat": 4,
  "nbformat_minor": 0
}