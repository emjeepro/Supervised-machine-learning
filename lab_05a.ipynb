{
  "cells": [
    {
      "cell_type": "markdown",
      "metadata": {
        "id": "i7RqY7dGRw1U"
      },
      "source": [
        "# Метрики качества бинарной классификации\n",
        "\n",
        "## Теоретическая часть\n",
        "\n",
        "__Вспомнить из лекций:__\n",
        "* Как вычисляются следующие метрики качества: **точность, полнота, F-мера, LogLoss, AUC-ROC, AUC-RPC**?"
      ]
    },
    {
      "cell_type": "markdown",
      "metadata": {
        "id": "dK29FbUDRw1Z"
      },
      "source": [
        "Большинство алгоритмов бинарной классификации работают следующим образом: они предсказывают для объекта  $x$ вещественное число $b(x)$, а затем сравнивают его с порогом $T$: \n",
        "- если $b(x) < T$, то предсказывается класс -1, \n",
        "- иначе предсказывается класс +1. \n",
        "\n",
        "Это можно записать в терминах функции **sign** (знак):\n",
        "$$a(x) = sign(b(x)-T)$$\n",
        "\n",
        "Метрики качества бинарной классификации можно разделить на две группы: \n",
        "\n",
        "оценивают \n",
        "- бинарные предсказания $a(x)$ (класс -1 и +1), \n",
        "- вещественные предсказания $b(x)$. \n",
        "\n",
        "Некоторые метрики последней группы варьируют порог, и оценивают качество бинарных предсказаний при различных порогах. Это полезно, чтобы \"отделить\" качество работы алгоритма от качества выбора конкретного порога. \n",
        "\n",
        "### Вопрос: \n",
        "Какие из рассмотренных в лекциях метрик относятся к каждой группе?"
      ]
    },
    {
      "cell_type": "markdown",
      "metadata": {
        "id": "qw_2H2LgRw1a"
      },
      "source": [
        "### Ответ:\n",
        "\n",
        "* Бинарные — точность, полнота, F-мера\n",
        "* Вещественные — LogLoss, AUC-ROC, AUC-RPC"
      ]
    },
    {
      "cell_type": "markdown",
      "metadata": {
        "id": "Aiy-JglTRw1b"
      },
      "source": [
        "### Задача 1\n",
        "Вычислить (вручную) **accuracy, точность, полноту** и  **F-меру** для следующих векторов предсказаний и правильных ответов:\n",
        "\n",
        "|                               |    |    |    |    |    |    |    |\n",
        "|-------------------------------|----|----|----|----|----|----|----|\n",
        "| Правильный ответ (из данных) | +1 | -1 | +1 | +1 | -1 | +1 | -1 |\n",
        "| Предсказание                  | -1 | +1 | +1 | +1 | -1 | -1 | -1 |\n",
        "\n"
      ]
    },
    {
      "cell_type": "markdown",
      "metadata": {
        "id": "_qRi9SFGRw1b"
      },
      "source": [
        "### Решение:\n",
        "\n",
        "![image](https://i.ibb.co/m5HWcrh/tpfptnfn.png)\n",
        "\n",
        "##### Дано: \n",
        "* $TP = 2$\n",
        "* $FP = 1$\n",
        "* $TN = 2$\n",
        "* $FN = 2$\n",
        "\n",
        "#### Поэтому:\n",
        "* **Аккуратность**: $\\;\\;\\;\\;\\;\\;$ $accuracy = \\frac{TP + TN}{TP + TN + FP + TN} \\approx 0.57$\n",
        "\n",
        "<br>\n",
        "\n",
        "* **Точность**: $\\;\\;\\;\\;\\;\\;\\;\\;\\;\\;\\;$ $precision = \\frac{TP}{TP + FP} = 0.\\overline{6}$\n",
        "\n",
        "<br>\n",
        "\n",
        "* **Полнота**: $\\;\\;\\;\\;\\;\\;\\;\\;\\;\\;\\;\\;$ $recall = \\frac{TP}{TP + FN} = 0.5$\n",
        "\n",
        "<br>\n",
        "\n",
        "* **F-мера**: $\\;\\;\\;\\;\\;\\;\\;\\;\\;\\;\\;\\;\\;\\;$ $F_{score} = (1 + \\beta^2) \\times \\frac{precision \\times recall}{\\beta^2 \\times precision + recall} = \\frac{2 \\times precision \\times recall}{precision + recall} \\approx 0.57$"
      ]
    },
    {
      "cell_type": "code",
      "execution_count": null,
      "metadata": {
        "id": "mVbLckNxRw1c",
        "outputId": "77212901-dbaa-4669-b631-195d84929537"
      },
      "outputs": [
        {
          "name": "stdout",
          "output_type": "stream",
          "text": [
            "Accuracy: 0.57\n",
            "Precision: 0.67\n",
            "Recall: 0.5\n",
            "F-score: 0.57\n"
          ]
        }
      ],
      "source": [
        "tp = 2\n",
        "fp = 1\n",
        "tn = 2\n",
        "fn = 2\n",
        "\n",
        "accuracy = (tp + tn) / (fp + fn + tp + tn)\n",
        "print(f'Accuracy: {round(accuracy,2)}')\n",
        "\n",
        "precision = tp / (fp + tp)\n",
        "print(f'Precision: {round(precision,2)}')\n",
        "\n",
        "recall = tp / (tp + fn)\n",
        "print(f'Recall: {round(recall,2)}')\n",
        "\n",
        "fscore = 2 * precision * recall / (precision + recall)\n",
        "print(f'F-score: {round(fscore,2)}')"
      ]
    },
    {
      "cell_type": "markdown",
      "metadata": {
        "id": "OThiS9SORw1e"
      },
      "source": [
        "### Задача 2\n",
        "Рассмотрим алгоритм вида $$a(x) = sign(b(x)-T).$$ Пусть для любого объекта $x$ выполнено $-10 < b(x) < 10$. Какова будет точность и полнота алгоритма, если положить $T=-15$? $T=15$? \n"
      ]
    },
    {
      "cell_type": "markdown",
      "metadata": {
        "id": "iG80GiU9Rw1e"
      },
      "source": [
        "### Решение:\n",
        "\n",
        "$T = -15  \\Rightarrow  b(x) > T $\n",
        "\n",
        "$a(x) = sign(b(x) - T) = 1$\n",
        "\n",
        "$\\Rightarrow TN = 0, FN = 0 \\Rightarrow $\n",
        "\n",
        "$recall = \\frac{TP}{TP} = 1, precision = ?$\n",
        "\n",
        "<br><br>\n",
        "\n",
        "$T = 15 \\Rightarrow  b(x) < T $\n",
        "\n",
        "$a(x) = sign(b(x) - T) = -1$\n",
        "\n",
        "$\\Rightarrow TP = 0, FP = 0 \\Rightarrow $\n",
        "\n",
        "$recall = 0, precision = 0$"
      ]
    },
    {
      "cell_type": "markdown",
      "metadata": {
        "id": "0TeglwNaRw1f"
      },
      "source": [
        "### Задача 3\n",
        "\n",
        "Найти (вручную) точки, необходимые для пострения ROC-кривой для следующих векторов предсказаний и правильных ответов:\n",
        "\n",
        "|                              |    |    |    |    |    |    |    |\n",
        "|------------------------------|----|----|----|----|----|----|----|\n",
        "| Правильный ответ (из данных) | -1 | +1 | +1 | -1 | +1 | -1 | -1 |\n",
        "| Предсказание $b(x)$       | 1  | 15 | -1 | 7  | 3  | -8 | -5 |\n",
        "\n",
        "__Указание:__\n",
        "\n",
        "Следует сначала отсортировать объекты по возрастанию вещественных предсказаний $b(x)$. "
      ]
    },
    {
      "cell_type": "markdown",
      "metadata": {
        "id": "z0u9ZfjRRw1f"
      },
      "source": [
        "### Решение:\n",
        "\n",
        "$$FPR = \\frac{FP}{FP + TN}$$\n",
        "\n",
        "$$TPR = \\frac{TP}{TP + FN}$$\n",
        "\n",
        "Отсортируем объекты:\n",
        "\n",
        "|                              |    |    |    |    |    |    |    |\n",
        "|------------------------------|----|----|----|----|----|----|----|\n",
        "| Правильный ответ (из данных) | -1 | -1 | +1 | -1 | +1 | -1 | +1 |\n",
        "| Предсказание $b(x)$       | -8  | -5 | -1 | 1 | 3 | 7 | 15 |\n",
        "\n",
        "Теперь переберем несколько значений порога $T$:\n",
        "\n",
        "**T = -3**\n",
        "\n",
        "|                              |    |    |    |    |    |    |    |\n",
        "|------------------------------|----|----|----|----|----|----|----|\n",
        "| Правильный ответ (из данных) | -1 | -1 | +1 | -1 | +1 | -1 | +1 |\n",
        "| Предсказание $b(x)$          | -8  | -5 | -1 | 1 | 3 | 7 | 15 |\n",
        "| Результат $a(x)$             | -1 | -1 | +1 | +1 | +1 | +1 | +1 |\n",
        "\n",
        "$FPR = \\frac{2}{2 + 2} = 0.5$\n",
        "\n",
        "$TPR = \\frac{3}{3 + 0} = 1$\n",
        "\n",
        "Найденная точка $(0.5, 1)$\n",
        "\n",
        "**T = 0**\n",
        "\n",
        "|                              |    |    |    |    |    |    |    |\n",
        "|------------------------------|----|----|----|----|----|----|----|\n",
        "| Правильный ответ (из данных) | -1 | -1 | +1 | -1 | +1 | -1 | +1 |\n",
        "| Предсказание $b(x)$          | -8  | -5 | -1 | 1 | 3 | 7 | 15 |\n",
        "| Результат $a(x)$             | -1 | -1 | +1 | +1 | +1 | +1 | +1 |\n",
        "\n",
        "$FPR = \\frac{2}{2 + 2} = 0.5$\n",
        "\n",
        "$TPR = \\frac{2}{2 + 0} = 1$\n",
        "\n",
        "Найденная точка $(0.5, 1)$\n",
        "\n",
        "**T = 6**\n",
        "\n",
        "|                              |    |    |    |    |    |    |    |\n",
        "|------------------------------|----|----|----|----|----|----|----|\n",
        "| Правильный ответ (из данных) | -1 | -1 | +1 | -1 | +1 | -1 | +1 |\n",
        "| Предсказание $b(x)$       | -8  | -5 | -1 | 1 | 3 | 7 | 15 |\n",
        "| Результат $a(x)$ | -1 | -1 | -1 | -1 | -1 | +1 | +1 |\n",
        "\n",
        "$FPR = \\frac{1}{1 + 3} = 0.25$\n",
        "\n",
        "$FPR = \\frac{1}{1 + 2} = 1/3$\n",
        "\n",
        "Найденная точка $(0.25, 1/3)$"
      ]
    },
    {
      "cell_type": "markdown",
      "metadata": {
        "id": "tliUxMsyRw1g"
      },
      "source": [
        "### Задача 4\n",
        "\n",
        "Какое значение AUC-ROC будет у алгоритма $b(x)$, который на каждом объекте возвращает случайное вещественное число из отрезка [-2, 2] (равномерное распределение)?\n",
        "\n",
        "* **Решение**: $0.5$, так как решение случайно (не зависит от х), и равномерно распределено.\n",
        "\n",
        "У алгоритма, который для всех объектов класса -1 возвращает отрицательное число, а для всех объектов класса +1 - положительное число?\n",
        "\n",
        "* **Решение**: $1$, так как алгоритм максимально точный, нет ложных предсказаний"
      ]
    },
    {
      "cell_type": "markdown",
      "metadata": {
        "id": "LAYuKvXpRw1g"
      },
      "source": [
        "### Задача 5\n",
        "\n",
        "Пусть для алгоритма $b(x)$ значение AUC-ROC равно 0.2. Каким будет AUC-ROC алгоритма $-b(x)$?\n"
      ]
    },
    {
      "cell_type": "markdown",
      "metadata": {
        "id": "EUkknNN7Rw1g"
      },
      "source": [
        "### Решение:\n",
        "\n",
        "* $0.8$, так как это обратный алгоритм"
      ]
    },
    {
      "cell_type": "markdown",
      "metadata": {
        "id": "NoO3yU8TRw1h"
      },
      "source": [
        "## Практическая часть"
      ]
    },
    {
      "cell_type": "markdown",
      "metadata": {
        "id": "Ssgk4AsWRw1h"
      },
      "source": [
        "Функции для вычисления метрик в **sklearn** "
      ]
    },
    {
      "cell_type": "code",
      "execution_count": null,
      "metadata": {
        "id": "RcqFcpCERw1h"
      },
      "outputs": [],
      "source": [
        "from sklearn.metrics import accuracy_score, precision_score, recall_score, f1_score, roc_auc_score"
      ]
    },
    {
      "cell_type": "markdown",
      "metadata": {
        "id": "eWkRrH_mRw1i"
      },
      "source": [
        "Сгенерируем два бинарных вектора длины 100 (число объектов):"
      ]
    },
    {
      "cell_type": "code",
      "execution_count": null,
      "metadata": {
        "id": "IObx9NafRw1i"
      },
      "outputs": [],
      "source": [
        "import numpy as np"
      ]
    },
    {
      "cell_type": "code",
      "execution_count": null,
      "metadata": {
        "id": "RcPfccHSRw1i"
      },
      "outputs": [],
      "source": [
        "n = 100\n",
        "y_true = np.random.randint(2, size=n)\n",
        "y_pred = np.random.randint(2, size=n)"
      ]
    },
    {
      "cell_type": "markdown",
      "metadata": {
        "id": "6yGPM8FARw1i"
      },
      "source": [
        "Вычислим метрики качества бинарных предсказаний для случайных ответов (соответствует алгоритму, не выделяющему никаких закономерностей в данных):"
      ]
    },
    {
      "cell_type": "code",
      "execution_count": null,
      "metadata": {
        "id": "iPuqnF1FRw1i",
        "outputId": "c9663ea6-b347-4344-fa22-f45fbff02b1c"
      },
      "outputs": [
        {
          "data": {
            "text/plain": [
              "(0.5263157894736842, 0.5660377358490566, 0.5454545454545455)"
            ]
          },
          "execution_count": 5,
          "metadata": {},
          "output_type": "execute_result"
        }
      ],
      "source": [
        "precision_score(y_true, y_pred), recall_score(y_true, y_pred), f1_score(y_true, y_pred)"
      ]
    },
    {
      "cell_type": "code",
      "execution_count": null,
      "metadata": {
        "id": "RaMEyS2aRw1j",
        "outputId": "a7f50a65-420b-4d03-ab5a-ca3b5cb6be6e"
      },
      "outputs": [
        {
          "data": {
            "text/plain": [
              "0.5"
            ]
          },
          "execution_count": 6,
          "metadata": {},
          "output_type": "execute_result"
        }
      ],
      "source": [
        "accuracy_score(y_true, y_pred)"
      ]
    },
    {
      "cell_type": "markdown",
      "metadata": {
        "id": "6IxQcVsqRw1j"
      },
      "source": [
        "Все метрики около 0.5 (примерная доля объектов положительного класса в выборке).\n",
        "\n",
        "Вычислим метрики для случая, когда все ответы правильные:"
      ]
    },
    {
      "cell_type": "code",
      "execution_count": null,
      "metadata": {
        "id": "uuojYo2iRw1j",
        "outputId": "c4f6b848-e7a8-43cf-d985-23d69e1fac20"
      },
      "outputs": [
        {
          "data": {
            "text/plain": [
              "(1.0, 1.0, 1.0)"
            ]
          },
          "execution_count": 7,
          "metadata": {},
          "output_type": "execute_result"
        }
      ],
      "source": [
        "precision_score(y_true, y_true), recall_score(y_true, y_true), f1_score(y_true, y_true)"
      ]
    },
    {
      "cell_type": "code",
      "execution_count": null,
      "metadata": {
        "id": "ZMb01_53Rw1k",
        "outputId": "f117f22f-be66-4b26-b2f5-db66f7c3ce79"
      },
      "outputs": [
        {
          "data": {
            "text/plain": [
              "1.0"
            ]
          },
          "execution_count": 8,
          "metadata": {},
          "output_type": "execute_result"
        }
      ],
      "source": [
        "accuracy_score(y_true, y_true)"
      ]
    },
    {
      "cell_type": "markdown",
      "metadata": {
        "id": "EzgsVtHsRw1k"
      },
      "source": [
        "Как и ожидается, все метрики равны 1."
      ]
    },
    {
      "cell_type": "markdown",
      "metadata": {
        "id": "0coZOJUwRw1k"
      },
      "source": [
        "Сгенерируем вектор случайных вещественных предсказаний:"
      ]
    },
    {
      "cell_type": "code",
      "execution_count": null,
      "metadata": {
        "id": "aI-g4SniRw1k"
      },
      "outputs": [],
      "source": [
        "b_pred = np.random.rand(n)"
      ]
    },
    {
      "cell_type": "markdown",
      "metadata": {
        "id": "rnc6XMjvRw1k"
      },
      "source": [
        "Вычислим roc_auc:"
      ]
    },
    {
      "cell_type": "code",
      "execution_count": null,
      "metadata": {
        "id": "XvBIKbYDRw1k",
        "outputId": "e03b092c-d26d-45a3-8f60-f2a2f0d58b92"
      },
      "outputs": [
        {
          "data": {
            "text/plain": [
              "0.4877559213167402"
            ]
          },
          "execution_count": 10,
          "metadata": {},
          "output_type": "execute_result"
        }
      ],
      "source": [
        "roc_auc_score(y_true, b_pred)"
      ]
    },
    {
      "cell_type": "markdown",
      "metadata": {
        "id": "lb3E6ZTvRw1l"
      },
      "source": [
        "Как и ожидается, значение ROC-AUC около 0.5."
      ]
    },
    {
      "cell_type": "markdown",
      "metadata": {
        "id": "RTYpmtVSRw1l"
      },
      "source": [
        "### Задание\n",
        "Реализовать построение ROC-кривой, используя данные задачи 3.\n",
        "\n",
        "Сопоставить с результатами, полученными при решении задачи 3."
      ]
    },
    {
      "cell_type": "code",
      "execution_count": null,
      "metadata": {
        "id": "I3YnGP18Rw1l"
      },
      "outputs": [],
      "source": [
        "y_true = np.array([-1, -1, 1, -1, 1, -1, 1])\n",
        "b_pred = np.array([-8, -5, -1, 1, 3, 7, 15])"
      ]
    },
    {
      "cell_type": "code",
      "execution_count": null,
      "metadata": {
        "id": "FdEg3qlyRw1l"
      },
      "outputs": [],
      "source": [
        "def is_tp(a_x, y):\n",
        "    return a_x == 1 and y == 1\n",
        "def is_fp(a_x, y):\n",
        "    return a_x == 1 and y == -1\n",
        "def is_fn(a_x, y):\n",
        "    return a_x == -1 and y == 1\n",
        "def is_tn(a_x, y):\n",
        "    return a_x == -1 and y == -1\n",
        "\n",
        "fprs = []\n",
        "tprs = []\n",
        "\n",
        "def fpr(fp, tn):\n",
        "    return fp / (fp + tn)\n",
        "\n",
        "def tpr(tp, fn):\n",
        "    return tp / (tp + fn)\n",
        "\n",
        "\n",
        "for t in range(-9, 16):\n",
        "    y_pred = [(-1 if b < t else 1) for b in b_pred]\n",
        "    tp = np.sum([is_tp(y_pred[i], y_true[i]) for i in range(len(y_pred))])\n",
        "    fp = np.sum([is_fp(y_pred[i], y_true[i]) for i in range(len(y_pred))])\n",
        "    fn = np.sum([is_fn(y_pred[i], y_true[i]) for i in range(len(y_pred))])\n",
        "    tn = np.sum([is_tn(y_pred[i], y_true[i]) for i in range(len(y_pred))])\n",
        "    # print(f'TP: {tp}, FP: {fp}, TN: {tn}, FN: {fn}')\n",
        "    fprs.append(fpr(fp, tn))\n",
        "    tprs.append(tpr(tp, fn))"
      ]
    },
    {
      "cell_type": "code",
      "execution_count": null,
      "metadata": {
        "id": "YXi0WKQ0Rw1m",
        "outputId": "8819665f-c542-4408-ca0a-2b7ca2f77169"
      },
      "outputs": [
        {
          "name": "stdout",
          "output_type": "stream",
          "text": [
            "[1.0, 1.0, 0.75, 0.75, 0.75, 0.5, 0.5, 0.5, 0.5, 0.5, 0.5, 0.25, 0.25, 0.25, 0.25, 0.25, 0.25, 0.0, 0.0, 0.0, 0.0, 0.0, 0.0, 0.0, 0.0]\n"
          ]
        }
      ],
      "source": [
        "print(fprs)"
      ]
    },
    {
      "cell_type": "code",
      "execution_count": null,
      "metadata": {
        "id": "TgYCFt56Rw1m",
        "outputId": "2dcdb010-0e0d-4e86-b02b-a4da5312f915"
      },
      "outputs": [
        {
          "name": "stdout",
          "output_type": "stream",
          "text": [
            "[1.0, 1.0, 1.0, 1.0, 1.0, 1.0, 1.0, 1.0, 1.0, 0.6666666666666666, 0.6666666666666666, 0.6666666666666666, 0.6666666666666666, 0.3333333333333333, 0.3333333333333333, 0.3333333333333333, 0.3333333333333333, 0.3333333333333333, 0.3333333333333333, 0.3333333333333333, 0.3333333333333333, 0.3333333333333333, 0.3333333333333333, 0.3333333333333333, 0.3333333333333333]\n"
          ]
        }
      ],
      "source": [
        "print(tprs)"
      ]
    },
    {
      "cell_type": "code",
      "execution_count": null,
      "metadata": {
        "id": "VG0HLOMQRw1m",
        "outputId": "93f5e8fc-ae20-4fed-da19-52773bb81034"
      },
      "outputs": [
        {
          "data": {
            "image/png": "[encoded data removed]",
            "text/plain": [
              "<Figure size 1440x360 with 1 Axes>"
            ]
          },
          "metadata": {
            "needs_background": "light"
          },
          "output_type": "display_data"
        }
      ],
      "source": [
        "import matplotlib.pyplot as plt\n",
        "\n",
        "fig = plt.figure(figsize=(20, 5))\n",
        "ax = fig.add_subplot()\n",
        "plt.plot(fprs, tprs)\n",
        "plt.title('ROC-кривая')\n",
        "plt.xlabel('FPR')\n",
        "plt.ylabel('TPR')\n",
        "plt.show();"
      ]
    }
  ],
  "metadata": {
    "anaconda-cloud": {},
    "kernelspec": {
      "display_name": "Python 3",
      "language": "python",
      "name": "python3"
    },
    "language_info": {
      "codemirror_mode": {
        "name": "ipython",
        "version": 3
      },
      "file_extension": ".py",
      "mimetype": "text/x-python",
      "name": "python",
      "nbconvert_exporter": "python",
      "pygments_lexer": "ipython3",
      "version": "3.8.8"
    },
    "colab": {
      "provenance": []
    }
  },
  "nbformat": 4,
  "nbformat_minor": 0
}