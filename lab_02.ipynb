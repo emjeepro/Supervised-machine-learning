{
  "cells": [
    {
      "cell_type": "markdown",
      "metadata": {
        "id": "V4pkwYqbZ2Ju"
      },
      "source": [
        "##  Классы в Python\n",
        "\n",
        "Классы удобно использовать, например, в случаях, когда к объектам требуется последовательно применять несколько функций. Вместо того, чтобы передавать переменные - промежуточные результаты из одной функции в другую, эти переменные хранят внутри класса.\n",
        "\n",
        "Создадим класс, который реализует поиск экстремума (максимума или минимума) из последовательности чисел, передаваемых посредством функции add:"
      ]
    },
    {
      "cell_type": "code",
      "execution_count": null,
      "metadata": {
        "id": "pejJzEaYZ2J5"
      },
      "outputs": [],
      "source": [
        "class Optim:\n",
        "    def __init__(self, find_max=True):\n",
        "        if find_max:\n",
        "            self.opt = 10**(-10)\n",
        "        else:\n",
        "            self.opt = 10**(10)\n",
        "        self.find_max = find_max\n",
        "        print(\"Объект инициализирован\")    \n",
        "  \n",
        "    def add(self, x):\n",
        "        if self.find_max:\n",
        "            if x > self.opt:\n",
        "                self.opt = x\n",
        "        else:\n",
        "            if x < self.opt:\n",
        "                self.opt = x\n",
        "                \n",
        "    def compute(self):\n",
        "        print(\"Экстремум равен \", self.opt)"
      ]
    },
    {
      "cell_type": "markdown",
      "metadata": {
        "id": "O5UepqXRZ2J8"
      },
      "source": [
        "Чтобы воспользоваться классом, нужно сначала создать переменную этого класса (объект, экземпляр класса):"
      ]
    },
    {
      "cell_type": "code",
      "execution_count": null,
      "metadata": {
        "id": "hy81tbaPZ2J9",
        "outputId": "3a71c101-ac22-4a82-9574-0c9d3b3717d9"
      },
      "outputs": [
        {
          "name": "stdout",
          "output_type": "stream",
          "text": [
            "Объект инициализирован\n"
          ]
        }
      ],
      "source": [
        "optim = Optim()"
      ]
    },
    {
      "cell_type": "markdown",
      "metadata": {
        "id": "pSpDx3MHZ2J_"
      },
      "source": [
        "Внутри класса хранится переменная opt:"
      ]
    },
    {
      "cell_type": "code",
      "execution_count": null,
      "metadata": {
        "id": "Q_onnZzbZ2KB",
        "outputId": "4620ee99-53b8-4476-9d13-2085ebd72a3e"
      },
      "outputs": [
        {
          "data": {
            "text/plain": [
              "1e-10"
            ]
          },
          "execution_count": 3,
          "metadata": {},
          "output_type": "execute_result"
        }
      ],
      "source": [
        "optim.opt"
      ]
    },
    {
      "cell_type": "markdown",
      "metadata": {
        "id": "xLtiHPHhZ2KC"
      },
      "source": [
        "Теперь можно вызывать функции класса, которые будут обновлять внутренние переменные:"
      ]
    },
    {
      "cell_type": "code",
      "execution_count": null,
      "metadata": {
        "id": "Egj2h_khZ2KD"
      },
      "outputs": [],
      "source": [
        "optim.add(x=5)"
      ]
    },
    {
      "cell_type": "code",
      "execution_count": null,
      "metadata": {
        "id": "WqW75jEfZ2KE"
      },
      "outputs": [],
      "source": [
        "optim.add(2)"
      ]
    },
    {
      "cell_type": "code",
      "execution_count": null,
      "metadata": {
        "id": "8IMGQh5QZ2KF",
        "outputId": "7bcdb95a-8bad-496c-cddf-470f861061a4"
      },
      "outputs": [
        {
          "name": "stdout",
          "output_type": "stream",
          "text": [
            "Экстремум равен  5\n"
          ]
        }
      ],
      "source": [
        "optim.compute()"
      ]
    },
    {
      "cell_type": "markdown",
      "metadata": {
        "id": "ajywwEYaZ2KG"
      },
      "source": [
        "Можно создать другой экземпляр класса - он не будет никак связан с первым. В частности, у него будет другое значение переменной opt:"
      ]
    },
    {
      "cell_type": "code",
      "execution_count": null,
      "metadata": {
        "id": "lptDNXzxZ2KH",
        "outputId": "367787c8-cbea-4c75-a693-8cccd6f7b6f3"
      },
      "outputs": [
        {
          "name": "stdout",
          "output_type": "stream",
          "text": [
            "Объект инициализирован\n"
          ]
        }
      ],
      "source": [
        "optim2 = Optim(find_max=False)"
      ]
    },
    {
      "cell_type": "code",
      "execution_count": null,
      "metadata": {
        "id": "hd59VmcEZ2KT",
        "outputId": "942f2042-4a7f-42c9-a33e-c4390e162607"
      },
      "outputs": [
        {
          "data": {
            "text/plain": [
              "10000000000"
            ]
          },
          "execution_count": 8,
          "metadata": {},
          "output_type": "execute_result"
        }
      ],
      "source": [
        "optim2.opt"
      ]
    },
    {
      "cell_type": "markdown",
      "metadata": {
        "id": "RsAMu0r2Z2KV"
      },
      "source": [
        "При создании экземпляра класса нужно задавать значения параметров. Параметры могут немного изменять логику работы класса.\n",
        "\n",
        "Так, в примере выше параметр **find_max** определяет тип экстремума: требуется найти минимум или максимум. Использование этого параметра позволяет не создавать два отдельных класса для нахождения минимума и максимума."
      ]
    },
    {
      "cell_type": "markdown",
      "metadata": {
        "id": "5JzTKvCRZ2KX"
      },
      "source": [
        "**Синтаксис создания класса**\n",
        "* Определение класса начинается строкой  **class <Имя класса>:**\n",
        "* Далее следует описание функций (методов) класса. У каждой функции первый аргумент всегда **self** - это ссылка на самого себя, чтобы можно было обращаться к внутренним переменным (в примере выше - **self.opt**). После **self** следуют любые необходимые аргументы (в примере - аргумент **x** функции **add**). При вызове функции Python сам подставит ссылку на экземпляр класса в **self**, так что пользователю нужно передавать только \"свои\" аргументы (в примерах выше - **optim.add(2)**, а **self** перед 2 не указывается)\n",
        "* Определяется одна служебная функция, именуемая **\\__init\\__**. Она вызывается при создании экземпляра класса (в примере выше -  Optim()). В этот момент прозводится инициализация внутренних переменных класса, определение значений параметров и любые другие операции, если они описаны в функции. В примере необходимо было инициализировать переменную **self.opt**, а также задать значение параметру **find_max** (определить, какой тип экстремума нужно находить). Для наглядности добавлен **print**, чтобы было понятно, в какой момент вызывается функция **\\__init\\__**\n"
      ]
    },
    {
      "cell_type": "markdown",
      "metadata": {
        "id": "ZJjtYcpQZ2Ka"
      },
      "source": [
        "## Интерфейс Scikit-Learn\n",
        "\n",
        "**Scikit-Learn** (или **sklearn**) - библиотека, в которой реализованы практически все используемые сегодня алгоритмы машинного обучения. \n",
        "\n",
        "Для реализации алгоритмов машинного обучения в **sklearn** всегда используется один интерфейс: соответствующий класс с функциями **fit(X, Y)** - для обучения модели на обучающей выборке **(X, Y)** и **predict(X)** - для возвращения предсказаний на  **X**. \n",
        "\n",
        "При создании класса обычно используется ряд параметров, влияющих на работу алгоритма машинного обучения.\n",
        "\n",
        "Например, такова логика работы класса линейной регрессии (будет более подробно рассмотрена на следующих занятиях):\n",
        "* При создании экземпляра класса нужно инициализировать переменную - коэффициент регуляризации;\n",
        "* Задача функции **fit** - по выборке **X** и **Y** найти веса **w** и сохранить их внутри класса в переменной **self.w**;\n",
        "* Задача функции **predict** - используя веса **self.w**, вернуть предсказания $Y$ на объектах **X**.\n",
        "\n"
      ]
    },
    {
      "cell_type": "code",
      "execution_count": null,
      "metadata": {
        "id": "Ok0Ofq6aZ2Kc"
      },
      "outputs": [],
      "source": [
        "class LinearRegressor:\n",
        "    def __init__(self, reg_coef=None):\n",
        "        self.lambda_ = reg_coef\n",
        "    \n",
        "    def fit(self, X_train, y_train):\n",
        "        self.w = 0 \n",
        "        # Вместо 0 должен быть реализован алгоритм вычисления весов по X_train, y_train и self.lambda_\n",
        "    \n",
        "    def predict(self, X_test):\n",
        "        y_pred = 0  \n",
        "        # Вместо 0 - функция от X и self.w\n",
        "        return y_pred"
      ]
    },
    {
      "cell_type": "markdown",
      "metadata": {
        "id": "QdvLfvwnZ2Ke"
      },
      "source": [
        "Без использования класса пришлось бы передавать веса **w** в функцию **predict** каждый раз, когда требуется рассчитать прогнозные значения. Это неудобно (особенно при большом количестве параметров модели). Если же веса хранятся внутри класса, то пользователь, работающий с экземпляром класса при решении конкретной задачи, может даже не догадываться об их существовании (если класс написан не им самим).\n",
        "\n"
      ]
    },
    {
      "cell_type": "markdown",
      "metadata": {
        "id": "-_L7SQvkZ2Kg"
      },
      "source": [
        "Помимо различных алгоритмов машинного обучения в **sklearn** реализовано много вспомогательного функционала для предобработки данных, визуализации данных, вычисления метрик качества моделей и др.\n",
        "\n"
      ]
    },
    {
      "cell_type": "markdown",
      "metadata": {
        "id": "ewzyFcsWZ2Kh"
      },
      "source": [
        "### Предобработка данных\n",
        "\n",
        "Функционал предобработки данных в **sklearn** реалиован в модуле [preprocessing](http://scikit-learn.org/stable/modules/classes.html#module-sklearn.preprocessing). \n",
        "\n",
        "Обработка пропущенных значений (начиная с версии 0.22) реализована в отдельном модуле [impute](http://scikit-learn.org/stable/modules/impute.html#impute). \n",
        "\n",
        "Далее для демонстрации используется набор данных [Automobile Data Set](https://archive.ics.uci.edu/ml/datasets/Automobile) (описание автомобилей различных марок с точки зрения различных характеристик, включая страховые риски). Подробное описание набора данных - см. по ссылке.\n",
        "\n",
        "В наборе данных присутствуют категориальные, целочисленные и вещественнозначные признаки."
      ]
    },
    {
      "cell_type": "code",
      "execution_count": null,
      "metadata": {
        "id": "RLlpwzUlZ2Ki"
      },
      "outputs": [],
      "source": [
        "import pandas as pd\n",
        "pd.options.display.max_colwidth = 2000\n",
        "pd.options.display.expand_frame_repr = False\n",
        "\n",
        "\n",
        "X_raw = pd.read_csv(\"https://archive.ics.uci.edu/ml/machine-learning-databases/autos/imports-85.data\", header=None, na_values=[\"?\"])"
      ]
    },
    {
      "cell_type": "code",
      "execution_count": null,
      "metadata": {
        "id": "blcWqKSuZ2Kk",
        "outputId": "2022dbca-8ed1-41b1-e72e-66f19ecd0381"
      },
      "outputs": [
        {
          "data": {
            "text/html": [
              "<div>\n",
              "<style scoped>\n",
              "    .dataframe tbody tr th:only-of-type {\n",
              "        vertical-align: middle;\n",
              "    }\n",
              "\n",
              "    .dataframe tbody tr th {\n",
              "        vertical-align: top;\n",
              "    }\n",
              "\n",
              "    .dataframe thead th {\n",
              "        text-align: right;\n",
              "    }\n",
              "</style>\n",
              "<table border=\"1\" class=\"dataframe\">\n",
              "  <thead>\n",
              "    <tr style=\"text-align: right;\">\n",
              "      <th></th>\n",
              "      <th>0</th>\n",
              "      <th>1</th>\n",
              "      <th>2</th>\n",
              "      <th>3</th>\n",
              "      <th>4</th>\n",
              "      <th>5</th>\n",
              "      <th>6</th>\n",
              "      <th>7</th>\n",
              "      <th>8</th>\n",
              "      <th>9</th>\n",
              "      <th>...</th>\n",
              "      <th>16</th>\n",
              "      <th>17</th>\n",
              "      <th>18</th>\n",
              "      <th>19</th>\n",
              "      <th>20</th>\n",
              "      <th>21</th>\n",
              "      <th>22</th>\n",
              "      <th>23</th>\n",
              "      <th>24</th>\n",
              "      <th>25</th>\n",
              "    </tr>\n",
              "  </thead>\n",
              "  <tbody>\n",
              "    <tr>\n",
              "      <th>0</th>\n",
              "      <td>3</td>\n",
              "      <td>NaN</td>\n",
              "      <td>alfa-romero</td>\n",
              "      <td>gas</td>\n",
              "      <td>std</td>\n",
              "      <td>two</td>\n",
              "      <td>convertible</td>\n",
              "      <td>rwd</td>\n",
              "      <td>front</td>\n",
              "      <td>88.6</td>\n",
              "      <td>...</td>\n",
              "      <td>130</td>\n",
              "      <td>mpfi</td>\n",
              "      <td>3.47</td>\n",
              "      <td>2.68</td>\n",
              "      <td>9.0</td>\n",
              "      <td>111.0</td>\n",
              "      <td>5000.0</td>\n",
              "      <td>21</td>\n",
              "      <td>27</td>\n",
              "      <td>13495.0</td>\n",
              "    </tr>\n",
              "    <tr>\n",
              "      <th>1</th>\n",
              "      <td>3</td>\n",
              "      <td>NaN</td>\n",
              "      <td>alfa-romero</td>\n",
              "      <td>gas</td>\n",
              "      <td>std</td>\n",
              "      <td>two</td>\n",
              "      <td>convertible</td>\n",
              "      <td>rwd</td>\n",
              "      <td>front</td>\n",
              "      <td>88.6</td>\n",
              "      <td>...</td>\n",
              "      <td>130</td>\n",
              "      <td>mpfi</td>\n",
              "      <td>3.47</td>\n",
              "      <td>2.68</td>\n",
              "      <td>9.0</td>\n",
              "      <td>111.0</td>\n",
              "      <td>5000.0</td>\n",
              "      <td>21</td>\n",
              "      <td>27</td>\n",
              "      <td>16500.0</td>\n",
              "    </tr>\n",
              "    <tr>\n",
              "      <th>2</th>\n",
              "      <td>1</td>\n",
              "      <td>NaN</td>\n",
              "      <td>alfa-romero</td>\n",
              "      <td>gas</td>\n",
              "      <td>std</td>\n",
              "      <td>two</td>\n",
              "      <td>hatchback</td>\n",
              "      <td>rwd</td>\n",
              "      <td>front</td>\n",
              "      <td>94.5</td>\n",
              "      <td>...</td>\n",
              "      <td>152</td>\n",
              "      <td>mpfi</td>\n",
              "      <td>2.68</td>\n",
              "      <td>3.47</td>\n",
              "      <td>9.0</td>\n",
              "      <td>154.0</td>\n",
              "      <td>5000.0</td>\n",
              "      <td>19</td>\n",
              "      <td>26</td>\n",
              "      <td>16500.0</td>\n",
              "    </tr>\n",
              "    <tr>\n",
              "      <th>3</th>\n",
              "      <td>2</td>\n",
              "      <td>164.0</td>\n",
              "      <td>audi</td>\n",
              "      <td>gas</td>\n",
              "      <td>std</td>\n",
              "      <td>four</td>\n",
              "      <td>sedan</td>\n",
              "      <td>fwd</td>\n",
              "      <td>front</td>\n",
              "      <td>99.8</td>\n",
              "      <td>...</td>\n",
              "      <td>109</td>\n",
              "      <td>mpfi</td>\n",
              "      <td>3.19</td>\n",
              "      <td>3.40</td>\n",
              "      <td>10.0</td>\n",
              "      <td>102.0</td>\n",
              "      <td>5500.0</td>\n",
              "      <td>24</td>\n",
              "      <td>30</td>\n",
              "      <td>13950.0</td>\n",
              "    </tr>\n",
              "    <tr>\n",
              "      <th>4</th>\n",
              "      <td>2</td>\n",
              "      <td>164.0</td>\n",
              "      <td>audi</td>\n",
              "      <td>gas</td>\n",
              "      <td>std</td>\n",
              "      <td>four</td>\n",
              "      <td>sedan</td>\n",
              "      <td>4wd</td>\n",
              "      <td>front</td>\n",
              "      <td>99.4</td>\n",
              "      <td>...</td>\n",
              "      <td>136</td>\n",
              "      <td>mpfi</td>\n",
              "      <td>3.19</td>\n",
              "      <td>3.40</td>\n",
              "      <td>8.0</td>\n",
              "      <td>115.0</td>\n",
              "      <td>5500.0</td>\n",
              "      <td>18</td>\n",
              "      <td>22</td>\n",
              "      <td>17450.0</td>\n",
              "    </tr>\n",
              "  </tbody>\n",
              "</table>\n",
              "<p>5 rows × 26 columns</p>\n",
              "</div>"
            ],
            "text/plain": [
              "   0      1            2    3    4     5            6    7      8     9   ...   16    17    18    19    20     21      22  23  24       25\n",
              "0   3    NaN  alfa-romero  gas  std   two  convertible  rwd  front  88.6  ...  130  mpfi  3.47  2.68   9.0  111.0  5000.0  21  27  13495.0\n",
              "1   3    NaN  alfa-romero  gas  std   two  convertible  rwd  front  88.6  ...  130  mpfi  3.47  2.68   9.0  111.0  5000.0  21  27  16500.0\n",
              "2   1    NaN  alfa-romero  gas  std   two    hatchback  rwd  front  94.5  ...  152  mpfi  2.68  3.47   9.0  154.0  5000.0  19  26  16500.0\n",
              "3   2  164.0         audi  gas  std  four        sedan  fwd  front  99.8  ...  109  mpfi  3.19  3.40  10.0  102.0  5500.0  24  30  13950.0\n",
              "4   2  164.0         audi  gas  std  four        sedan  4wd  front  99.4  ...  136  mpfi  3.19  3.40   8.0  115.0  5500.0  18  22  17450.0\n",
              "\n",
              "[5 rows x 26 columns]"
            ]
          },
          "execution_count": 11,
          "metadata": {},
          "output_type": "execute_result"
        }
      ],
      "source": [
        "X_raw.head()"
      ]
    },
    {
      "cell_type": "code",
      "execution_count": null,
      "metadata": {
        "id": "opQ9f9xKZ2Kn"
      },
      "outputs": [],
      "source": [
        "# Отделение целевого признака (цены)\n",
        "y = X_raw[25] \n",
        "X_raw = X_raw.drop(25, axis=1)"
      ]
    },
    {
      "cell_type": "code",
      "execution_count": null,
      "metadata": {
        "id": "OnF01GQlZ2Ko"
      },
      "outputs": [],
      "source": [
        "from sklearn import preprocessing, impute"
      ]
    },
    {
      "cell_type": "markdown",
      "metadata": {
        "id": "IBpCGsKbZ2Kp"
      },
      "source": [
        "### Заполнение пропусков\n",
        "Для заполнения пропусков константами можно использовать метод датафрейма **fillna** (библиотека **pandas**), а для замены средним, медианой или модой (а также константой) - класс **impute.SimpleImputer**. Стратегия заполнения определяется заданием значения соответствующему параметру."
      ]
    },
    {
      "cell_type": "code",
      "execution_count": null,
      "metadata": {
        "id": "MiJXTQm1Z2Kr"
      },
      "outputs": [],
      "source": [
        "# Для удобства работы с датасетом создадим маску, указывающую на столбцы с категориальными признаками\n",
        "cat_features_mask = (X_raw.dtypes == \"object\").values    # категориальные признаки имеют тип \"object\""
      ]
    },
    {
      "cell_type": "code",
      "execution_count": null,
      "metadata": {
        "id": "oOdaaHKQZ2Kt"
      },
      "outputs": [],
      "source": [
        "# Для количественных признаков заполним пропуски средними\n",
        "X_real = X_raw[X_raw.columns[~cat_features_mask]]\n",
        "mis_replacer = impute.SimpleImputer(strategy=\"mean\")\n",
        "X_no_mis_real = pd.DataFrame(data=mis_replacer.fit_transform(X_real), columns=X_real.columns)\n",
        "# для категориальных - строкой \"нет данных\"\n",
        "X_cat = X_raw[X_raw.columns[cat_features_mask]].fillna(\"нет данных\")\n",
        "X_no_mis = pd.concat([X_no_mis_real, X_cat], axis=1)"
      ]
    },
    {
      "cell_type": "code",
      "execution_count": null,
      "metadata": {
        "id": "KIEMLnjMZ2Ku",
        "outputId": "991a349d-b2c6-419c-9841-4ce99b1d7907"
      },
      "outputs": [
        {
          "data": {
            "text/html": [
              "<div>\n",
              "<style scoped>\n",
              "    .dataframe tbody tr th:only-of-type {\n",
              "        vertical-align: middle;\n",
              "    }\n",
              "\n",
              "    .dataframe tbody tr th {\n",
              "        vertical-align: top;\n",
              "    }\n",
              "\n",
              "    .dataframe thead th {\n",
              "        text-align: right;\n",
              "    }\n",
              "</style>\n",
              "<table border=\"1\" class=\"dataframe\">\n",
              "  <thead>\n",
              "    <tr style=\"text-align: right;\">\n",
              "      <th></th>\n",
              "      <th>0</th>\n",
              "      <th>1</th>\n",
              "      <th>9</th>\n",
              "      <th>10</th>\n",
              "      <th>11</th>\n",
              "      <th>12</th>\n",
              "      <th>13</th>\n",
              "      <th>16</th>\n",
              "      <th>18</th>\n",
              "      <th>19</th>\n",
              "      <th>...</th>\n",
              "      <th>2</th>\n",
              "      <th>3</th>\n",
              "      <th>4</th>\n",
              "      <th>5</th>\n",
              "      <th>6</th>\n",
              "      <th>7</th>\n",
              "      <th>8</th>\n",
              "      <th>14</th>\n",
              "      <th>15</th>\n",
              "      <th>17</th>\n",
              "    </tr>\n",
              "  </thead>\n",
              "  <tbody>\n",
              "    <tr>\n",
              "      <th>0</th>\n",
              "      <td>3.0</td>\n",
              "      <td>122.0</td>\n",
              "      <td>88.6</td>\n",
              "      <td>168.8</td>\n",
              "      <td>64.1</td>\n",
              "      <td>48.8</td>\n",
              "      <td>2548.0</td>\n",
              "      <td>130.0</td>\n",
              "      <td>3.47</td>\n",
              "      <td>2.68</td>\n",
              "      <td>...</td>\n",
              "      <td>alfa-romero</td>\n",
              "      <td>gas</td>\n",
              "      <td>std</td>\n",
              "      <td>two</td>\n",
              "      <td>convertible</td>\n",
              "      <td>rwd</td>\n",
              "      <td>front</td>\n",
              "      <td>dohc</td>\n",
              "      <td>four</td>\n",
              "      <td>mpfi</td>\n",
              "    </tr>\n",
              "    <tr>\n",
              "      <th>1</th>\n",
              "      <td>3.0</td>\n",
              "      <td>122.0</td>\n",
              "      <td>88.6</td>\n",
              "      <td>168.8</td>\n",
              "      <td>64.1</td>\n",
              "      <td>48.8</td>\n",
              "      <td>2548.0</td>\n",
              "      <td>130.0</td>\n",
              "      <td>3.47</td>\n",
              "      <td>2.68</td>\n",
              "      <td>...</td>\n",
              "      <td>alfa-romero</td>\n",
              "      <td>gas</td>\n",
              "      <td>std</td>\n",
              "      <td>two</td>\n",
              "      <td>convertible</td>\n",
              "      <td>rwd</td>\n",
              "      <td>front</td>\n",
              "      <td>dohc</td>\n",
              "      <td>four</td>\n",
              "      <td>mpfi</td>\n",
              "    </tr>\n",
              "    <tr>\n",
              "      <th>2</th>\n",
              "      <td>1.0</td>\n",
              "      <td>122.0</td>\n",
              "      <td>94.5</td>\n",
              "      <td>171.2</td>\n",
              "      <td>65.5</td>\n",
              "      <td>52.4</td>\n",
              "      <td>2823.0</td>\n",
              "      <td>152.0</td>\n",
              "      <td>2.68</td>\n",
              "      <td>3.47</td>\n",
              "      <td>...</td>\n",
              "      <td>alfa-romero</td>\n",
              "      <td>gas</td>\n",
              "      <td>std</td>\n",
              "      <td>two</td>\n",
              "      <td>hatchback</td>\n",
              "      <td>rwd</td>\n",
              "      <td>front</td>\n",
              "      <td>ohcv</td>\n",
              "      <td>six</td>\n",
              "      <td>mpfi</td>\n",
              "    </tr>\n",
              "    <tr>\n",
              "      <th>3</th>\n",
              "      <td>2.0</td>\n",
              "      <td>164.0</td>\n",
              "      <td>99.8</td>\n",
              "      <td>176.6</td>\n",
              "      <td>66.2</td>\n",
              "      <td>54.3</td>\n",
              "      <td>2337.0</td>\n",
              "      <td>109.0</td>\n",
              "      <td>3.19</td>\n",
              "      <td>3.40</td>\n",
              "      <td>...</td>\n",
              "      <td>audi</td>\n",
              "      <td>gas</td>\n",
              "      <td>std</td>\n",
              "      <td>four</td>\n",
              "      <td>sedan</td>\n",
              "      <td>fwd</td>\n",
              "      <td>front</td>\n",
              "      <td>ohc</td>\n",
              "      <td>four</td>\n",
              "      <td>mpfi</td>\n",
              "    </tr>\n",
              "    <tr>\n",
              "      <th>4</th>\n",
              "      <td>2.0</td>\n",
              "      <td>164.0</td>\n",
              "      <td>99.4</td>\n",
              "      <td>176.6</td>\n",
              "      <td>66.4</td>\n",
              "      <td>54.3</td>\n",
              "      <td>2824.0</td>\n",
              "      <td>136.0</td>\n",
              "      <td>3.19</td>\n",
              "      <td>3.40</td>\n",
              "      <td>...</td>\n",
              "      <td>audi</td>\n",
              "      <td>gas</td>\n",
              "      <td>std</td>\n",
              "      <td>four</td>\n",
              "      <td>sedan</td>\n",
              "      <td>4wd</td>\n",
              "      <td>front</td>\n",
              "      <td>ohc</td>\n",
              "      <td>five</td>\n",
              "      <td>mpfi</td>\n",
              "    </tr>\n",
              "  </tbody>\n",
              "</table>\n",
              "<p>5 rows × 25 columns</p>\n",
              "</div>"
            ],
            "text/plain": [
              "    0      1     9      10    11    12      13     16    18    19  ...           2    3    4     5            6    7      8     14    15    17\n",
              "0  3.0  122.0  88.6  168.8  64.1  48.8  2548.0  130.0  3.47  2.68  ...  alfa-romero  gas  std   two  convertible  rwd  front  dohc  four  mpfi\n",
              "1  3.0  122.0  88.6  168.8  64.1  48.8  2548.0  130.0  3.47  2.68  ...  alfa-romero  gas  std   two  convertible  rwd  front  dohc  four  mpfi\n",
              "2  1.0  122.0  94.5  171.2  65.5  52.4  2823.0  152.0  2.68  3.47  ...  alfa-romero  gas  std   two    hatchback  rwd  front  ohcv   six  mpfi\n",
              "3  2.0  164.0  99.8  176.6  66.2  54.3  2337.0  109.0  3.19  3.40  ...         audi  gas  std  four        sedan  fwd  front   ohc  four  mpfi\n",
              "4  2.0  164.0  99.4  176.6  66.4  54.3  2824.0  136.0  3.19  3.40  ...         audi  gas  std  four        sedan  4wd  front   ohc  five  mpfi\n",
              "\n",
              "[5 rows x 25 columns]"
            ]
          },
          "execution_count": 16,
          "metadata": {},
          "output_type": "execute_result"
        }
      ],
      "source": [
        "X_no_mis.head()"
      ]
    },
    {
      "cell_type": "markdown",
      "metadata": {
        "id": "kWSug5xDZ2Kx"
      },
      "source": [
        "### Преобразование нечисловых признаков\n",
        "Практически все методы машинного обучения требуют, чтобы на вход функции обучения подавалась вещественная матрица. В процессе обучения используются свойства вещественных чисел, в частности, возможность сравнения и применения арифметических операций. Поэтому, даже если формально в матрице объекты-признаки записаны числовые значения, нужно всегда анализировать, можно ли относиться к ним как к числам. \n",
        "\n",
        "__Пример:__ некоторые признаки могут задаваться целочисленными хешами или id (например, id пользователя соц. сети), однако нельзя сложить двух пользователей и получить третьего, исходя из их id (как это может сделать линейная модель).\n",
        "\n",
        "К категориальным признакам обычно применяют бинарное кодирование - [one-hot encoding](http://scikit-learn.org/stable/modules/preprocessing.html#encoding-categorical-features) (вместо одного признака создается $K$ бинарных признаков - по одному на каждое возможное значение исходного признака). В **sklearn** это можно сделать с помощью классов **LabelEncoder** + **OneHotEncoding**, но проще использовать функцию **pd.get_dummies**."
      ]
    },
    {
      "cell_type": "markdown",
      "metadata": {
        "id": "fYvMK6SyZ2Kz"
      },
      "source": [
        "Следует заметить, что в новой матрице будет очень много нулевых значений. Чтобы не хранить их в памяти, можно задать параметр **OneHotEncoder(sparse = True)** или **.get_dummies(sparse=True)**, и метод вернет [разреженную матрицу](http://docs.scipy.org/doc/scipy/reference/sparse.html), в которой хранятся только ненулевые значения. Выполнение некоторых операций с такой матрицей может быть неэффективным, однако большинство методов **sklearn** умеют работать с разреженными матрицами."
      ]
    },
    {
      "cell_type": "code",
      "execution_count": null,
      "metadata": {
        "id": "7S35i1HfZ2K1",
        "outputId": "1451b2a6-d6cf-4c4a-a045-b4a168891947"
      },
      "outputs": [
        {
          "data": {
            "text/plain": [
              "(205, 25)"
            ]
          },
          "execution_count": 17,
          "metadata": {},
          "output_type": "execute_result"
        }
      ],
      "source": [
        "X_no_mis.shape"
      ]
    },
    {
      "cell_type": "code",
      "execution_count": null,
      "metadata": {
        "id": "Q6X1A2pUZ2K4",
        "outputId": "ad79b505-078a-4a4c-93f8-8c5451d490c4"
      },
      "outputs": [
        {
          "data": {
            "text/plain": [
              "Int64Index([2, 3, 4, 5, 6, 7, 8, 14, 15, 17], dtype='int64')"
            ]
          },
          "execution_count": 18,
          "metadata": {},
          "output_type": "execute_result"
        }
      ],
      "source": [
        "# Сохранение индексов категориальных столбцов в датафрейме, полученном после заполнения пропусков\n",
        "lst_cat = X_no_mis.columns[X_no_mis.dtypes == \"object\"]\n",
        "lst_cat"
      ]
    },
    {
      "cell_type": "code",
      "execution_count": null,
      "metadata": {
        "id": "FdBGa5lMZ2K6",
        "outputId": "a7acbd04-a822-4b00-8dfe-caaca4e228d6"
      },
      "outputs": [
        {
          "name": "stdout",
          "output_type": "stream",
          "text": [
            "Значения в столбце 2 :\n",
            "['alfa-romero' 'audi' 'bmw' 'chevrolet' 'dodge' 'honda' 'isuzu' 'jaguar'\n",
            " 'mazda' 'mercedes-benz' 'mercury' 'mitsubishi' 'nissan' 'peugot'\n",
            " 'plymouth' 'porsche' 'renault' 'saab' 'subaru' 'toyota' 'volkswagen'\n",
            " 'volvo'] \n",
            "\n",
            "Значения в столбце 3 :\n",
            "['gas' 'diesel'] \n",
            "\n",
            "Значения в столбце 4 :\n",
            "['std' 'turbo'] \n",
            "\n",
            "Значения в столбце 5 :\n",
            "['two' 'four' 'нет данных'] \n",
            "\n",
            "Значения в столбце 6 :\n",
            "['convertible' 'hatchback' 'sedan' 'wagon' 'hardtop'] \n",
            "\n",
            "Значения в столбце 7 :\n",
            "['rwd' 'fwd' '4wd'] \n",
            "\n",
            "Значения в столбце 8 :\n",
            "['front' 'rear'] \n",
            "\n",
            "Значения в столбце 14 :\n",
            "['dohc' 'ohcv' 'ohc' 'l' 'rotor' 'ohcf' 'dohcv'] \n",
            "\n",
            "Значения в столбце 15 :\n",
            "['four' 'six' 'five' 'three' 'twelve' 'two' 'eight'] \n",
            "\n",
            "Значения в столбце 17 :\n",
            "['mpfi' '2bbl' 'mfi' '1bbl' 'spfi' '4bbl' 'idi' 'spdi'] \n",
            "\n"
          ]
        }
      ],
      "source": [
        "# Вывод уникальных значений в категориальных столбцах (для последующего сопоставления с бинарными признаками, сформированными методом pd.get_dummies)\n",
        "for el in lst_cat:\n",
        "    print('Значения в столбце', el, ':')\n",
        "    print(X_no_mis[el].unique(), '\\n')"
      ]
    },
    {
      "cell_type": "code",
      "execution_count": null,
      "metadata": {
        "id": "q5K91CsLZ2K8",
        "outputId": "99005a99-6275-4fa3-c446-05cb4098e115"
      },
      "outputs": [
        {
          "name": "stdout",
          "output_type": "stream",
          "text": [
            "(205, 76)\n"
          ]
        },
        {
          "data": {
            "text/html": [
              "<div>\n",
              "<style scoped>\n",
              "    .dataframe tbody tr th:only-of-type {\n",
              "        vertical-align: middle;\n",
              "    }\n",
              "\n",
              "    .dataframe tbody tr th {\n",
              "        vertical-align: top;\n",
              "    }\n",
              "\n",
              "    .dataframe thead th {\n",
              "        text-align: right;\n",
              "    }\n",
              "</style>\n",
              "<table border=\"1\" class=\"dataframe\">\n",
              "  <thead>\n",
              "    <tr style=\"text-align: right;\">\n",
              "      <th></th>\n",
              "      <th>0</th>\n",
              "      <th>1</th>\n",
              "      <th>9</th>\n",
              "      <th>10</th>\n",
              "      <th>11</th>\n",
              "      <th>12</th>\n",
              "      <th>13</th>\n",
              "      <th>16</th>\n",
              "      <th>18</th>\n",
              "      <th>19</th>\n",
              "      <th>...</th>\n",
              "      <th>15_twelve</th>\n",
              "      <th>15_two</th>\n",
              "      <th>17_1bbl</th>\n",
              "      <th>17_2bbl</th>\n",
              "      <th>17_4bbl</th>\n",
              "      <th>17_idi</th>\n",
              "      <th>17_mfi</th>\n",
              "      <th>17_mpfi</th>\n",
              "      <th>17_spdi</th>\n",
              "      <th>17_spfi</th>\n",
              "    </tr>\n",
              "  </thead>\n",
              "  <tbody>\n",
              "    <tr>\n",
              "      <th>0</th>\n",
              "      <td>3.0</td>\n",
              "      <td>122.0</td>\n",
              "      <td>88.6</td>\n",
              "      <td>168.8</td>\n",
              "      <td>64.1</td>\n",
              "      <td>48.8</td>\n",
              "      <td>2548.0</td>\n",
              "      <td>130.0</td>\n",
              "      <td>3.47</td>\n",
              "      <td>2.68</td>\n",
              "      <td>...</td>\n",
              "      <td>0</td>\n",
              "      <td>0</td>\n",
              "      <td>0</td>\n",
              "      <td>0</td>\n",
              "      <td>0</td>\n",
              "      <td>0</td>\n",
              "      <td>0</td>\n",
              "      <td>1</td>\n",
              "      <td>0</td>\n",
              "      <td>0</td>\n",
              "    </tr>\n",
              "    <tr>\n",
              "      <th>1</th>\n",
              "      <td>3.0</td>\n",
              "      <td>122.0</td>\n",
              "      <td>88.6</td>\n",
              "      <td>168.8</td>\n",
              "      <td>64.1</td>\n",
              "      <td>48.8</td>\n",
              "      <td>2548.0</td>\n",
              "      <td>130.0</td>\n",
              "      <td>3.47</td>\n",
              "      <td>2.68</td>\n",
              "      <td>...</td>\n",
              "      <td>0</td>\n",
              "      <td>0</td>\n",
              "      <td>0</td>\n",
              "      <td>0</td>\n",
              "      <td>0</td>\n",
              "      <td>0</td>\n",
              "      <td>0</td>\n",
              "      <td>1</td>\n",
              "      <td>0</td>\n",
              "      <td>0</td>\n",
              "    </tr>\n",
              "    <tr>\n",
              "      <th>2</th>\n",
              "      <td>1.0</td>\n",
              "      <td>122.0</td>\n",
              "      <td>94.5</td>\n",
              "      <td>171.2</td>\n",
              "      <td>65.5</td>\n",
              "      <td>52.4</td>\n",
              "      <td>2823.0</td>\n",
              "      <td>152.0</td>\n",
              "      <td>2.68</td>\n",
              "      <td>3.47</td>\n",
              "      <td>...</td>\n",
              "      <td>0</td>\n",
              "      <td>0</td>\n",
              "      <td>0</td>\n",
              "      <td>0</td>\n",
              "      <td>0</td>\n",
              "      <td>0</td>\n",
              "      <td>0</td>\n",
              "      <td>1</td>\n",
              "      <td>0</td>\n",
              "      <td>0</td>\n",
              "    </tr>\n",
              "    <tr>\n",
              "      <th>3</th>\n",
              "      <td>2.0</td>\n",
              "      <td>164.0</td>\n",
              "      <td>99.8</td>\n",
              "      <td>176.6</td>\n",
              "      <td>66.2</td>\n",
              "      <td>54.3</td>\n",
              "      <td>2337.0</td>\n",
              "      <td>109.0</td>\n",
              "      <td>3.19</td>\n",
              "      <td>3.40</td>\n",
              "      <td>...</td>\n",
              "      <td>0</td>\n",
              "      <td>0</td>\n",
              "      <td>0</td>\n",
              "      <td>0</td>\n",
              "      <td>0</td>\n",
              "      <td>0</td>\n",
              "      <td>0</td>\n",
              "      <td>1</td>\n",
              "      <td>0</td>\n",
              "      <td>0</td>\n",
              "    </tr>\n",
              "    <tr>\n",
              "      <th>4</th>\n",
              "      <td>2.0</td>\n",
              "      <td>164.0</td>\n",
              "      <td>99.4</td>\n",
              "      <td>176.6</td>\n",
              "      <td>66.4</td>\n",
              "      <td>54.3</td>\n",
              "      <td>2824.0</td>\n",
              "      <td>136.0</td>\n",
              "      <td>3.19</td>\n",
              "      <td>3.40</td>\n",
              "      <td>...</td>\n",
              "      <td>0</td>\n",
              "      <td>0</td>\n",
              "      <td>0</td>\n",
              "      <td>0</td>\n",
              "      <td>0</td>\n",
              "      <td>0</td>\n",
              "      <td>0</td>\n",
              "      <td>1</td>\n",
              "      <td>0</td>\n",
              "      <td>0</td>\n",
              "    </tr>\n",
              "  </tbody>\n",
              "</table>\n",
              "<p>5 rows × 76 columns</p>\n",
              "</div>"
            ],
            "text/plain": [
              "     0      1     9     10    11    12      13     16    18    19  ...  15_twelve  15_two  17_1bbl  17_2bbl  17_4bbl  17_idi  17_mfi  17_mpfi  17_spdi  17_spfi\n",
              "0  3.0  122.0  88.6  168.8  64.1  48.8  2548.0  130.0  3.47  2.68  ...          0       0        0        0        0       0       0        1        0        0\n",
              "1  3.0  122.0  88.6  168.8  64.1  48.8  2548.0  130.0  3.47  2.68  ...          0       0        0        0        0       0       0        1        0        0\n",
              "2  1.0  122.0  94.5  171.2  65.5  52.4  2823.0  152.0  2.68  3.47  ...          0       0        0        0        0       0       0        1        0        0\n",
              "3  2.0  164.0  99.8  176.6  66.2  54.3  2337.0  109.0  3.19  3.40  ...          0       0        0        0        0       0       0        1        0        0\n",
              "4  2.0  164.0  99.4  176.6  66.4  54.3  2824.0  136.0  3.19  3.40  ...          0       0        0        0        0       0       0        1        0        0\n",
              "\n",
              "[5 rows x 76 columns]"
            ]
          },
          "execution_count": 20,
          "metadata": {},
          "output_type": "execute_result"
        }
      ],
      "source": [
        "# Бинарое кодирование категориальных признаков\n",
        "X_dum = pd.get_dummies(X_no_mis, drop_first=False, columns=lst_cat)\n",
        "print(X_dum.shape)\n",
        "X_dum.head()"
      ]
    },
    {
      "cell_type": "code",
      "execution_count": null,
      "metadata": {
        "id": "uzXe5_0nZ2K-",
        "outputId": "9c4d7716-0068-4212-b6bb-c234e58914fb"
      },
      "outputs": [
        {
          "data": {
            "text/plain": [
              "Index([                0,                 1,                 9,\n",
              "                      10,                11,                12,\n",
              "                      13,                16,                18,\n",
              "                      19,                20,                21,\n",
              "                      22,                23,                24,\n",
              "         '2_alfa-romero',          '2_audi',           '2_bmw',\n",
              "           '2_chevrolet',         '2_dodge',         '2_honda',\n",
              "               '2_isuzu',        '2_jaguar',         '2_mazda',\n",
              "       '2_mercedes-benz',       '2_mercury',    '2_mitsubishi',\n",
              "              '2_nissan',        '2_peugot',      '2_plymouth',\n",
              "             '2_porsche',       '2_renault',          '2_saab',\n",
              "              '2_subaru',        '2_toyota',    '2_volkswagen',\n",
              "               '2_volvo',        '3_diesel',           '3_gas',\n",
              "                 '4_std',         '4_turbo',          '5_four',\n",
              "                 '5_two',    '5_нет данных',   '6_convertible',\n",
              "             '6_hardtop',     '6_hatchback',         '6_sedan',\n",
              "               '6_wagon',           '7_4wd',           '7_fwd',\n",
              "                 '7_rwd',         '8_front',          '8_rear',\n",
              "               '14_dohc',        '14_dohcv',            '14_l',\n",
              "                '14_ohc',         '14_ohcf',         '14_ohcv',\n",
              "              '14_rotor',        '15_eight',         '15_five',\n",
              "               '15_four',          '15_six',        '15_three',\n",
              "             '15_twelve',          '15_two',         '17_1bbl',\n",
              "               '17_2bbl',         '17_4bbl',          '17_idi',\n",
              "                '17_mfi',         '17_mpfi',         '17_spdi',\n",
              "               '17_spfi'],\n",
              "      dtype='object')"
            ]
          },
          "execution_count": 21,
          "metadata": {},
          "output_type": "execute_result"
        }
      ],
      "source": [
        "# Вывод столбцов набора со сформированными бинарными признаками\n",
        "X_dum.columns"
      ]
    },
    {
      "cell_type": "markdown",
      "metadata": {
        "id": "VgyR_lBmZ2LH"
      },
      "source": [
        "Помимо категориальных, преобразования требуют, например, строковые признаки. \n",
        "\n",
        "Их можно превращать в матрицу частот слов [CountVectorizer](http://scikit-learn.org/stable/modules/generated/sklearn.feature_extraction.text.CountVectorizer.html#sklearn.feature_extraction.text.CountVectorizer), матрицу частот буквосочетаний фиксированной длины, можно извлекать другие признаки (например, длину строки)."
      ]
    },
    {
      "cell_type": "markdown",
      "metadata": {
        "id": "VydyhcgnZ2LM"
      },
      "source": [
        "### Масштабирование признаков\n",
        "Количественные признаки рекомендуется приводить к одному масштабу. Это важно для численной устойчивости при работе с матрицей объекты-признаки. \n",
        "\n",
        "Кроме того, у каждого метода машинного обучения есть свои особенности, требующие масштабирования признаков. Например, для линейных моделей - это ускорение обучения и повышение интерпретируемости модели."
      ]
    },
    {
      "cell_type": "markdown",
      "metadata": {
        "id": "pbgejrvFZ2LP"
      },
      "source": [
        "Для реализации масштабирования в **sklearn** имеются классы **StandardScaler**, **MinMaxScaler**, **RobustScaler** и **Normalizer** (рассматривались подробно в прошлом семестре).\n",
        "\n",
        "Предобработка данных в **sklearn** реализована по тому же шаблону, что и обучение моделей: функция **fit(X)** вычисляет и сохраняет внутренние переменные (параметры масштабирования), а функция **transform(X)** выполняет преобразование выборки с использованием этих переменных. Функция **fit_transform(X)** выполняет оба действия (вычислет параметры масштабирования и преобразует набор данных с использованием этих параметров)."
      ]
    },
    {
      "cell_type": "code",
      "execution_count": null,
      "metadata": {
        "id": "8sc_U0IaZ2LQ"
      },
      "outputs": [],
      "source": [
        "norm = preprocessing.MinMaxScaler()\n",
        "X_real_norm_np = norm.fit_transform(X_dum)\n",
        "X = pd.DataFrame(data=X_real_norm_np)"
      ]
    },
    {
      "cell_type": "code",
      "execution_count": null,
      "metadata": {
        "id": "IwL6McxIZ2LR",
        "outputId": "54d7d2f7-e83a-4660-aeef-a7f26a677ae7"
      },
      "outputs": [
        {
          "data": {
            "text/html": [
              "<div>\n",
              "<style scoped>\n",
              "    .dataframe tbody tr th:only-of-type {\n",
              "        vertical-align: middle;\n",
              "    }\n",
              "\n",
              "    .dataframe tbody tr th {\n",
              "        vertical-align: top;\n",
              "    }\n",
              "\n",
              "    .dataframe thead th {\n",
              "        text-align: right;\n",
              "    }\n",
              "</style>\n",
              "<table border=\"1\" class=\"dataframe\">\n",
              "  <thead>\n",
              "    <tr style=\"text-align: right;\">\n",
              "      <th></th>\n",
              "      <th>0</th>\n",
              "      <th>1</th>\n",
              "      <th>2</th>\n",
              "      <th>3</th>\n",
              "      <th>4</th>\n",
              "      <th>5</th>\n",
              "      <th>6</th>\n",
              "      <th>7</th>\n",
              "      <th>8</th>\n",
              "      <th>9</th>\n",
              "      <th>...</th>\n",
              "      <th>66</th>\n",
              "      <th>67</th>\n",
              "      <th>68</th>\n",
              "      <th>69</th>\n",
              "      <th>70</th>\n",
              "      <th>71</th>\n",
              "      <th>72</th>\n",
              "      <th>73</th>\n",
              "      <th>74</th>\n",
              "      <th>75</th>\n",
              "    </tr>\n",
              "  </thead>\n",
              "  <tbody>\n",
              "    <tr>\n",
              "      <th>0</th>\n",
              "      <td>1.0</td>\n",
              "      <td>0.298429</td>\n",
              "      <td>0.058309</td>\n",
              "      <td>0.413433</td>\n",
              "      <td>0.316667</td>\n",
              "      <td>0.083333</td>\n",
              "      <td>0.411171</td>\n",
              "      <td>0.260377</td>\n",
              "      <td>0.664286</td>\n",
              "      <td>0.290476</td>\n",
              "      <td>...</td>\n",
              "      <td>0.0</td>\n",
              "      <td>0.0</td>\n",
              "      <td>0.0</td>\n",
              "      <td>0.0</td>\n",
              "      <td>0.0</td>\n",
              "      <td>0.0</td>\n",
              "      <td>0.0</td>\n",
              "      <td>1.0</td>\n",
              "      <td>0.0</td>\n",
              "      <td>0.0</td>\n",
              "    </tr>\n",
              "    <tr>\n",
              "      <th>1</th>\n",
              "      <td>1.0</td>\n",
              "      <td>0.298429</td>\n",
              "      <td>0.058309</td>\n",
              "      <td>0.413433</td>\n",
              "      <td>0.316667</td>\n",
              "      <td>0.083333</td>\n",
              "      <td>0.411171</td>\n",
              "      <td>0.260377</td>\n",
              "      <td>0.664286</td>\n",
              "      <td>0.290476</td>\n",
              "      <td>...</td>\n",
              "      <td>0.0</td>\n",
              "      <td>0.0</td>\n",
              "      <td>0.0</td>\n",
              "      <td>0.0</td>\n",
              "      <td>0.0</td>\n",
              "      <td>0.0</td>\n",
              "      <td>0.0</td>\n",
              "      <td>1.0</td>\n",
              "      <td>0.0</td>\n",
              "      <td>0.0</td>\n",
              "    </tr>\n",
              "    <tr>\n",
              "      <th>2</th>\n",
              "      <td>0.6</td>\n",
              "      <td>0.298429</td>\n",
              "      <td>0.230321</td>\n",
              "      <td>0.449254</td>\n",
              "      <td>0.433333</td>\n",
              "      <td>0.383333</td>\n",
              "      <td>0.517843</td>\n",
              "      <td>0.343396</td>\n",
              "      <td>0.100000</td>\n",
              "      <td>0.666667</td>\n",
              "      <td>...</td>\n",
              "      <td>0.0</td>\n",
              "      <td>0.0</td>\n",
              "      <td>0.0</td>\n",
              "      <td>0.0</td>\n",
              "      <td>0.0</td>\n",
              "      <td>0.0</td>\n",
              "      <td>0.0</td>\n",
              "      <td>1.0</td>\n",
              "      <td>0.0</td>\n",
              "      <td>0.0</td>\n",
              "    </tr>\n",
              "    <tr>\n",
              "      <th>3</th>\n",
              "      <td>0.8</td>\n",
              "      <td>0.518325</td>\n",
              "      <td>0.384840</td>\n",
              "      <td>0.529851</td>\n",
              "      <td>0.491667</td>\n",
              "      <td>0.541667</td>\n",
              "      <td>0.329325</td>\n",
              "      <td>0.181132</td>\n",
              "      <td>0.464286</td>\n",
              "      <td>0.633333</td>\n",
              "      <td>...</td>\n",
              "      <td>0.0</td>\n",
              "      <td>0.0</td>\n",
              "      <td>0.0</td>\n",
              "      <td>0.0</td>\n",
              "      <td>0.0</td>\n",
              "      <td>0.0</td>\n",
              "      <td>0.0</td>\n",
              "      <td>1.0</td>\n",
              "      <td>0.0</td>\n",
              "      <td>0.0</td>\n",
              "    </tr>\n",
              "    <tr>\n",
              "      <th>4</th>\n",
              "      <td>0.8</td>\n",
              "      <td>0.518325</td>\n",
              "      <td>0.373178</td>\n",
              "      <td>0.529851</td>\n",
              "      <td>0.508333</td>\n",
              "      <td>0.541667</td>\n",
              "      <td>0.518231</td>\n",
              "      <td>0.283019</td>\n",
              "      <td>0.464286</td>\n",
              "      <td>0.633333</td>\n",
              "      <td>...</td>\n",
              "      <td>0.0</td>\n",
              "      <td>0.0</td>\n",
              "      <td>0.0</td>\n",
              "      <td>0.0</td>\n",
              "      <td>0.0</td>\n",
              "      <td>0.0</td>\n",
              "      <td>0.0</td>\n",
              "      <td>1.0</td>\n",
              "      <td>0.0</td>\n",
              "      <td>0.0</td>\n",
              "    </tr>\n",
              "  </tbody>\n",
              "</table>\n",
              "<p>5 rows × 76 columns</p>\n",
              "</div>"
            ],
            "text/plain": [
              "    0         1         2         3         4         5         6         7         8         9   ...   66   67   68   69   70   71   72   73   74   75\n",
              "0  1.0  0.298429  0.058309  0.413433  0.316667  0.083333  0.411171  0.260377  0.664286  0.290476  ...  0.0  0.0  0.0  0.0  0.0  0.0  0.0  1.0  0.0  0.0\n",
              "1  1.0  0.298429  0.058309  0.413433  0.316667  0.083333  0.411171  0.260377  0.664286  0.290476  ...  0.0  0.0  0.0  0.0  0.0  0.0  0.0  1.0  0.0  0.0\n",
              "2  0.6  0.298429  0.230321  0.449254  0.433333  0.383333  0.517843  0.343396  0.100000  0.666667  ...  0.0  0.0  0.0  0.0  0.0  0.0  0.0  1.0  0.0  0.0\n",
              "3  0.8  0.518325  0.384840  0.529851  0.491667  0.541667  0.329325  0.181132  0.464286  0.633333  ...  0.0  0.0  0.0  0.0  0.0  0.0  0.0  1.0  0.0  0.0\n",
              "4  0.8  0.518325  0.373178  0.529851  0.508333  0.541667  0.518231  0.283019  0.464286  0.633333  ...  0.0  0.0  0.0  0.0  0.0  0.0  0.0  1.0  0.0  0.0\n",
              "\n",
              "[5 rows x 76 columns]"
            ]
          },
          "execution_count": 23,
          "metadata": {},
          "output_type": "execute_result"
        }
      ],
      "source": [
        "X.head()"
      ]
    },
    {
      "cell_type": "markdown",
      "metadata": {
        "id": "4HUml6hFZ2LT"
      },
      "source": [
        "## Задание\n",
        "\n",
        "Реализовать класс **Norm** для масштабирования количественных данных.\n",
        "\n",
        "- **вариант 1** - нормализация вектора признаков;\n",
        "- **вариант 2** - стандартизация;\n",
        "- **вариант 3** - масштабирование на отрезок от 0 до 1.\n",
        "\n",
        "Параметров у класса нет, поэтому функцию **\\__init\\__** можно не использовать. Функция **fit** по обучающей выборке вычисляет необходимые статистики, а функция **tranform** выполняет преобразование набора.\n",
        "\n",
        "### Задание дополнительное.\n",
        "\n",
        "Реализовать класс для масштабирования количественных данных с возможностью задания метода масштабирования (с помощью параметра)."
      ]
    },
    {
      "cell_type": "markdown",
      "metadata": {
        "id": "bLitvm2PZ2LV"
      },
      "source": [
        "Создать случайные данные X и y для тестирования класса:"
      ]
    },
    {
      "cell_type": "code",
      "execution_count": null,
      "metadata": {
        "id": "pgS2cWibZ2LW",
        "outputId": "2aa475b6-e8f1-4088-f30c-a1460b98c38c"
      },
      "outputs": [
        {
          "data": {
            "text/plain": [
              "(20, 4)"
            ]
          },
          "execution_count": 13,
          "metadata": {},
          "output_type": "execute_result"
        }
      ],
      "source": [
        "import numpy as np\n",
        "\n",
        "num_obj_train = 20\n",
        "num_obj_test = 10\n",
        "num_feat = 4\n",
        "X_tr = np.random.randint(-5, 5, size=(num_obj_train, num_feat))\n",
        "X_tr.shape"
      ]
    },
    {
      "cell_type": "code",
      "execution_count": null,
      "metadata": {
        "id": "6_Nc_LO0Z2LY",
        "outputId": "a3c6b6c1-ac5d-4c38-8545-89c4ede1bac8"
      },
      "outputs": [
        {
          "data": {
            "text/plain": [
              "(10, 4)"
            ]
          },
          "execution_count": 14,
          "metadata": {},
          "output_type": "execute_result"
        }
      ],
      "source": [
        "X_te = np.random.randint(-5, 5, size=(num_obj_test, num_feat))\n",
        "X_te.shape"
      ]
    },
    {
      "cell_type": "code",
      "execution_count": null,
      "metadata": {
        "id": "M3JC0RoPZ2LZ",
        "outputId": "fd7804ca-8b9b-4016-ec8d-a0443f58a413"
      },
      "outputs": [
        {
          "data": {
            "text/plain": [
              "array([[-1,  4,  3, -3],\n",
              "       [ 2, -2, -3,  0],\n",
              "       [ 4, -1, -4, -3],\n",
              "       [ 4, -1,  0, -1],\n",
              "       [ 3,  4,  3,  1],\n",
              "       [ 3, -2, -3,  2],\n",
              "       [ 2, -2, -3,  2],\n",
              "       [ 4,  0,  4, -2],\n",
              "       [-5, -4,  1,  1],\n",
              "       [ 1,  2, -1, -4],\n",
              "       [-3, -3, -5,  4],\n",
              "       [-1, -3,  0, -1],\n",
              "       [ 1, -4,  3, -3],\n",
              "       [ 2,  3, -1,  0],\n",
              "       [ 3,  0, -1,  4],\n",
              "       [-5,  4, -1, -2],\n",
              "       [ 3,  0,  4,  0],\n",
              "       [-5, -3,  3,  2],\n",
              "       [-4, -2, -1, -5],\n",
              "       [ 0,  3,  2, -5]])"
            ]
          },
          "execution_count": 15,
          "metadata": {},
          "output_type": "execute_result"
        }
      ],
      "source": [
        "X_tr"
      ]
    },
    {
      "cell_type": "markdown",
      "metadata": {
        "id": "LyuXfZwvZ2La"
      },
      "source": [
        "---\n",
        "\n",
        "### Решение"
      ]
    },
    {
      "cell_type": "code",
      "execution_count": null,
      "metadata": {
        "id": "wpKufD_PZ2Lb"
      },
      "outputs": [],
      "source": [
        "# Код - создание класса Norm\n",
        "\n",
        "'''\n",
        "    параметров у класса нет, поэтому метод __init__ можно не использовать\n",
        "    функция fit по обучающей выборке вычисляет необходимые статистики, а функция tranform выполняет преобразование набора\n",
        "\n",
        "    комментарий: требование состоит в том, чтобы предоставить решение с использованием scikit-learn\n",
        "\n",
        "    для первого варианта использовайте метод normalize\n",
        "        https://scikit-learn.org/stable/modules/generated/sklearn.preprocessing.normalize.html\n",
        "\n",
        "    для второго варианта – метод StandardScaler\n",
        "        https://scikit-learn.org/stable/modules/generated/sklearn.preprocessing.StandardScaler.html\n",
        "\n",
        "    для третьего варианта – метод MinMaxScaler\n",
        "        https://scikit-learn.org/stable/modules/generated/sklearn.preprocessing.MinMaxScaler.html\n",
        "'''\n",
        "\n",
        "import numpy as np\n",
        "\n",
        "class Normalizer:\n",
        "    norm = 0\n",
        "    fitted: bool = False\n",
        "\n",
        "    def fit(self, X: np.array):\n",
        "        self.norm = np.sqrt(np.power(X, 2).sum(axis=0))\n",
        "        self.fitted = True\n",
        "\n",
        "    def transform(self, X: np.array):\n",
        "        assert self.fitted, 'invoke fit'\n",
        "        return X / self.norm\n",
        "\n",
        "\n",
        "class StandardScaler:\n",
        "    mean = 0\n",
        "    std = 1\n",
        "    fitted: bool = False\n",
        "\n",
        "    def fit(self, X: np.array):\n",
        "        self.mean = X.mean(axis=0)\n",
        "        self.std = X.std(axis=0)\n",
        "        self.fitted = True\n",
        "\n",
        "    def transform(self, X: np.array):\n",
        "        assert self.fitted, 'invoke fit'\n",
        "        return (X - self.mean) / self.std\n",
        "\n",
        "\n",
        "class MinMaxScaler:\n",
        "    fitted: bool = False\n",
        "    min = 0\n",
        "    max = 1\n",
        "\n",
        "    def fit(self, X: np.array):\n",
        "        self.min = np.min(X)\n",
        "        self.max = np.max(X)\n",
        "        self.fitted = True\n",
        "\n",
        "    def transform(self, X: np.array):\n",
        "        assert self.fitted, 'invoke fit'\n",
        "        return (X - self.min) / (self.max - self.min)\n",
        "\n",
        "\n",
        "class Norm:\n",
        "    def __init__(self, case='norm'):\n",
        "        if case == 'norm':\n",
        "            self.transformer = Normalizer()\n",
        "        elif case == 'std':\n",
        "            self.transformer = StandardScaler()\n",
        "        elif case == 'minmax':\n",
        "            self.transformer = MinMaxScaler()\n",
        "        else:\n",
        "            raise Exception()\n",
        "\n",
        "    def fit(self, X: np.array):\n",
        "        return self.transformer.fit(X)\n",
        "\n",
        "    def transform(self, X: np.array):\n",
        "        return self.transformer.transform(X)"
      ]
    },
    {
      "cell_type": "markdown",
      "metadata": {
        "id": "NRMVsCuMZ2Lc"
      },
      "source": [
        "Создать объект класса и преобразовать выборку:"
      ]
    },
    {
      "cell_type": "code",
      "execution_count": null,
      "metadata": {
        "id": "66gWXCQ1Z2Lc"
      },
      "outputs": [],
      "source": [
        "normalizer = Norm()\n",
        "normalizer.fit(X_tr)\n",
        "X_tr_transformed = normalizer.transform(X_tr)\n",
        "X_te_transformed = normalizer.transform(X_te)"
      ]
    },
    {
      "cell_type": "code",
      "execution_count": null,
      "metadata": {
        "id": "ZufsFhxzZ2Ld",
        "outputId": "0d8a7395-7afd-4489-bb01-c2431ce840e5"
      },
      "outputs": [
        {
          "name": "stdout",
          "output_type": "stream",
          "text": [
            "0.023232444830317493\n",
            "0.23520736888818547\n"
          ]
        }
      ],
      "source": [
        "print(np.array(X_te_transformed).mean())\n",
        "print(np.array(X_te_transformed).std())"
      ]
    },
    {
      "cell_type": "markdown",
      "metadata": {
        "id": "X7f3dyosZ2Ld"
      },
      "source": [
        "**fit** нужно вызывать именно на обучающих данных, чтобы ничего не подсмотреть в контрольной выборке. А **transform** можно вызывать много раз для любых выборок (с уже вычисленными статистиками, которые хранятся внутри класса)."
      ]
    },
    {
      "cell_type": "code",
      "execution_count": null,
      "metadata": {
        "id": "Q9uUrTq9Z2Le",
        "outputId": "2435dd38-407f-4277-bbd1-fb695a0ec748"
      },
      "outputs": [
        {
          "data": {
            "text/plain": [
              "array([[ 0.2409658 ,  0.08873565,  0.24333213,  0.14744196],\n",
              "       [ 0.16064387, -0.1774713 , -0.24333213,  0.22116293],\n",
              "       [-0.32128773, -0.26620695,  0.08111071, -0.29488391],\n",
              "       [-0.2409658 , -0.26620695,  0.        , -0.29488391],\n",
              "       [ 0.32128773, -0.44367825, -0.32444284, -0.22116293],\n",
              "       [-0.2409658 ,  0.3549426 ,  0.24333213,  0.07372098],\n",
              "       [-0.16064387, -0.26620695,  0.16222142, -0.22116293],\n",
              "       [ 0.32128773,  0.08873565, -0.08111071, -0.14744196],\n",
              "       [ 0.16064387,  0.        ,  0.        ,  0.22116293],\n",
              "       [ 0.32128773, -0.26620695,  0.24333213,  0.        ],\n",
              "       [ 0.16064387,  0.3549426 ,  0.32444284,  0.22116293],\n",
              "       [ 0.08032193,  0.26620695, -0.32444284,  0.        ],\n",
              "       [-0.08032193,  0.26620695,  0.        , -0.36860489],\n",
              "       [ 0.16064387, -0.08873565, -0.40555355, -0.14744196],\n",
              "       [ 0.        , -0.08873565,  0.24333213,  0.14744196],\n",
              "       [ 0.2409658 , -0.08873565,  0.24333213, -0.29488391],\n",
              "       [ 0.        ,  0.08873565,  0.08111071,  0.14744196],\n",
              "       [ 0.32128773,  0.1774713 ,  0.08111071, -0.36860489],\n",
              "       [ 0.32128773, -0.08873565, -0.32444284,  0.14744196],\n",
              "       [ 0.08032193,  0.08873565,  0.08111071, -0.29488391]])"
            ]
          },
          "execution_count": 81,
          "metadata": {},
          "output_type": "execute_result"
        }
      ],
      "source": [
        "X_tr_transformed"
      ]
    }
  ],
  "metadata": {
    "anaconda-cloud": {},
    "kernelspec": {
      "display_name": "Python 3",
      "language": "python",
      "name": "python3"
    },
    "language_info": {
      "codemirror_mode": {
        "name": "ipython",
        "version": 3
      },
      "file_extension": ".py",
      "mimetype": "text/x-python",
      "name": "python",
      "nbconvert_exporter": "python",
      "pygments_lexer": "ipython3",
      "version": "3.8.8"
    },
    "colab": {
      "provenance": []
    }
  },
  "nbformat": 4,
  "nbformat_minor": 0
}